{
  "nbformat": 4,
  "nbformat_minor": 0,
  "metadata": {
    "colab": {
      "name": "data-aggregation.ipynb",
      "provenance": []
    },
    "kernelspec": {
      "name": "python3",
      "display_name": "Python 3"
    }
  },
  "cells": [
    {
      "cell_type": "markdown",
      "metadata": {
        "id": "YFFD-NEQFKp5"
      },
      "source": [
        "**World Happiness Report Data**"
      ]
    },
    {
      "cell_type": "markdown",
      "metadata": {
        "id": "QdZbTBA-2Wnl"
      },
      "source": [
        "####Performing different operations"
      ]
    },
    {
      "cell_type": "code",
      "metadata": {
        "id": "253MZ3oQ17cv"
      },
      "source": [
        "import pandas as pd\r\n",
        "import numpy as np\r\n",
        "# show the plots inside the notebook\r\n",
        "%matplotlib inline"
      ],
      "execution_count": 3,
      "outputs": []
    },
    {
      "cell_type": "code",
      "metadata": {
        "colab": {
          "base_uri": "https://localhost:8080/",
          "height": 350
        },
        "id": "KrKMc3xvDurr",
        "outputId": "2bd58bf6-a0f3-43d2-b9a3-73574a26452b"
      },
      "source": [
        "report = pd.read_csv('/content/drive/MyDrive/dataquest/data-cleaning &Visualization/world_happiness-2015.csv') # read the data set\r\n",
        "report.head()\r\n"
      ],
      "execution_count": 4,
      "outputs": [
        {
          "output_type": "execute_result",
          "data": {
            "text/html": [
              "<div>\n",
              "<style scoped>\n",
              "    .dataframe tbody tr th:only-of-type {\n",
              "        vertical-align: middle;\n",
              "    }\n",
              "\n",
              "    .dataframe tbody tr th {\n",
              "        vertical-align: top;\n",
              "    }\n",
              "\n",
              "    .dataframe thead th {\n",
              "        text-align: right;\n",
              "    }\n",
              "</style>\n",
              "<table border=\"1\" class=\"dataframe\">\n",
              "  <thead>\n",
              "    <tr style=\"text-align: right;\">\n",
              "      <th></th>\n",
              "      <th>Country</th>\n",
              "      <th>Region</th>\n",
              "      <th>Happiness Rank</th>\n",
              "      <th>Happiness Score</th>\n",
              "      <th>Standard Error</th>\n",
              "      <th>Economy (GDP per Capita)</th>\n",
              "      <th>Family</th>\n",
              "      <th>Health (Life Expectancy)</th>\n",
              "      <th>Freedom</th>\n",
              "      <th>Trust (Government Corruption)</th>\n",
              "      <th>Generosity</th>\n",
              "      <th>Dystopia Residual</th>\n",
              "    </tr>\n",
              "  </thead>\n",
              "  <tbody>\n",
              "    <tr>\n",
              "      <th>0</th>\n",
              "      <td>Switzerland</td>\n",
              "      <td>Western Europe</td>\n",
              "      <td>1</td>\n",
              "      <td>7.587</td>\n",
              "      <td>0.03411</td>\n",
              "      <td>1.39651</td>\n",
              "      <td>1.34951</td>\n",
              "      <td>0.94143</td>\n",
              "      <td>0.66557</td>\n",
              "      <td>0.41978</td>\n",
              "      <td>0.29678</td>\n",
              "      <td>2.51738</td>\n",
              "    </tr>\n",
              "    <tr>\n",
              "      <th>1</th>\n",
              "      <td>Iceland</td>\n",
              "      <td>Western Europe</td>\n",
              "      <td>2</td>\n",
              "      <td>7.561</td>\n",
              "      <td>0.04884</td>\n",
              "      <td>1.30232</td>\n",
              "      <td>1.40223</td>\n",
              "      <td>0.94784</td>\n",
              "      <td>0.62877</td>\n",
              "      <td>0.14145</td>\n",
              "      <td>0.43630</td>\n",
              "      <td>2.70201</td>\n",
              "    </tr>\n",
              "    <tr>\n",
              "      <th>2</th>\n",
              "      <td>Denmark</td>\n",
              "      <td>Western Europe</td>\n",
              "      <td>3</td>\n",
              "      <td>7.527</td>\n",
              "      <td>0.03328</td>\n",
              "      <td>1.32548</td>\n",
              "      <td>1.36058</td>\n",
              "      <td>0.87464</td>\n",
              "      <td>0.64938</td>\n",
              "      <td>0.48357</td>\n",
              "      <td>0.34139</td>\n",
              "      <td>2.49204</td>\n",
              "    </tr>\n",
              "    <tr>\n",
              "      <th>3</th>\n",
              "      <td>Norway</td>\n",
              "      <td>Western Europe</td>\n",
              "      <td>4</td>\n",
              "      <td>7.522</td>\n",
              "      <td>0.03880</td>\n",
              "      <td>1.45900</td>\n",
              "      <td>1.33095</td>\n",
              "      <td>0.88521</td>\n",
              "      <td>0.66973</td>\n",
              "      <td>0.36503</td>\n",
              "      <td>0.34699</td>\n",
              "      <td>2.46531</td>\n",
              "    </tr>\n",
              "    <tr>\n",
              "      <th>4</th>\n",
              "      <td>Canada</td>\n",
              "      <td>North America</td>\n",
              "      <td>5</td>\n",
              "      <td>7.427</td>\n",
              "      <td>0.03553</td>\n",
              "      <td>1.32629</td>\n",
              "      <td>1.32261</td>\n",
              "      <td>0.90563</td>\n",
              "      <td>0.63297</td>\n",
              "      <td>0.32957</td>\n",
              "      <td>0.45811</td>\n",
              "      <td>2.45176</td>\n",
              "    </tr>\n",
              "  </tbody>\n",
              "</table>\n",
              "</div>"
            ],
            "text/plain": [
              "       Country          Region  ...  Generosity  Dystopia Residual\n",
              "0  Switzerland  Western Europe  ...     0.29678            2.51738\n",
              "1      Iceland  Western Europe  ...     0.43630            2.70201\n",
              "2      Denmark  Western Europe  ...     0.34139            2.49204\n",
              "3       Norway  Western Europe  ...     0.34699            2.46531\n",
              "4       Canada   North America  ...     0.45811            2.45176\n",
              "\n",
              "[5 rows x 12 columns]"
            ]
          },
          "metadata": {
            "tags": []
          },
          "execution_count": 4
        }
      ]
    },
    {
      "cell_type": "markdown",
      "metadata": {
        "id": "rxIelKGDE_JI"
      },
      "source": [
        "###After Data Understanding\r\n",
        "Below are descriptions for some of the columns we'll be working with:\r\n",
        "\r\n",
        "Country - Name of the country.\r\n",
        "\r\n",
        "Region - Name of the region the country belongs to.\r\n",
        "\r\n",
        "Happiness Rank - The rank of the country, as determined by its happiness score.\r\n",
        "\r\n",
        "Happiness Score - A score assigned to each country based on the answers to a poll question that asks respondents to rate their happiness on a scale of 0-10.\r\n",
        "\r\n",
        "Family - The estimated extent to which family contributes to the happiness score.\r\n",
        "\r\n",
        "Freedom - The estimated extent to which freedom contributes to the happiness score.\r\n",
        "\r\n",
        "Generosity - The estimated extent to which generosity contributes to the happiness score."
      ]
    },
    {
      "cell_type": "code",
      "metadata": {
        "colab": {
          "base_uri": "https://localhost:8080/"
        },
        "id": "Yx7VrOw7ESYX",
        "outputId": "1fee1cef-ad33-4ebf-d823-5f18c51027fc"
      },
      "source": [
        "report.info()"
      ],
      "execution_count": 5,
      "outputs": [
        {
          "output_type": "stream",
          "text": [
            "<class 'pandas.core.frame.DataFrame'>\n",
            "RangeIndex: 158 entries, 0 to 157\n",
            "Data columns (total 12 columns):\n",
            " #   Column                         Non-Null Count  Dtype  \n",
            "---  ------                         --------------  -----  \n",
            " 0   Country                        158 non-null    object \n",
            " 1   Region                         158 non-null    object \n",
            " 2   Happiness Rank                 158 non-null    int64  \n",
            " 3   Happiness Score                158 non-null    float64\n",
            " 4   Standard Error                 158 non-null    float64\n",
            " 5   Economy (GDP per Capita)       158 non-null    float64\n",
            " 6   Family                         158 non-null    float64\n",
            " 7   Health (Life Expectancy)       158 non-null    float64\n",
            " 8   Freedom                        158 non-null    float64\n",
            " 9   Trust (Government Corruption)  158 non-null    float64\n",
            " 10  Generosity                     158 non-null    float64\n",
            " 11  Dystopia Residual              158 non-null    float64\n",
            "dtypes: float64(9), int64(1), object(2)\n",
            "memory usage: 14.9+ KB\n"
          ],
          "name": "stdout"
        }
      ]
    },
    {
      "cell_type": "code",
      "metadata": {
        "colab": {
          "base_uri": "https://localhost:8080/",
          "height": 307
        },
        "id": "__uJQQYSFXRw",
        "outputId": "eb8576c4-6f24-459a-bcd9-b22d8ae59e53"
      },
      "source": [
        "report['Happiness Score'].plot(kind='bar',title='World Happiness Score w.r.t Different Countries',ylim=(0,10))"
      ],
      "execution_count": 6,
      "outputs": [
        {
          "output_type": "execute_result",
          "data": {
            "text/plain": [
              "<matplotlib.axes._subplots.AxesSubplot at 0x7ff64c73f908>"
            ]
          },
          "metadata": {
            "tags": []
          },
          "execution_count": 6
        },
        {
          "output_type": "display_data",
          "data": {
            "image/png": "[encoded data removed]",
            "text/plain": [
              "<Figure size 432x288 with 1 Axes>"
            ]
          },
          "metadata": {
            "tags": [],
            "needs_background": "light"
          }
        }
      ]
    },
    {
      "cell_type": "markdown",
      "metadata": {
        "id": "45DtAiCNHBmQ"
      },
      "source": [
        "#####There are so many data points that we can't see any of the values or labels!\r\n",
        "\r\n",
        "#####Each country in the report dataframe is assigned to a region, specified in the Region column.\r\n",
        "\r\n"
      ]
    },
    {
      "cell_type": "code",
      "metadata": {
        "colab": {
          "base_uri": "https://localhost:8080/"
        },
        "id": "MJ1IPfJSG1w5",
        "outputId": "ad432236-40d9-44b4-afe3-80f07b1c6f9b"
      },
      "source": [
        "##Let See the unique regions in dataset\r\n",
        "print(report['Region'].unique())\r\n",
        "print(\"<<---------------------------------------------------->>\")\r\n",
        "print(report['Region'].nunique())#represent no of unique"
      ],
      "execution_count": 7,
      "outputs": [
        {
          "output_type": "stream",
          "text": [
            "['Western Europe' 'North America' 'Australia and New Zealand'\n",
            " 'Middle East and Northern Africa' 'Latin America and Caribbean'\n",
            " 'Southeastern Asia' 'Central and Eastern Europe' 'Eastern Asia'\n",
            " 'Sub-Saharan Africa' 'Southern Asia']\n",
            "<<---------------------------------------------------->>\n",
            "10\n"
          ],
          "name": "stdout"
        }
      ]
    },
    {
      "cell_type": "code",
      "metadata": {
        "colab": {
          "base_uri": "https://localhost:8080/",
          "height": 297
        },
        "id": "tNYy_V8wHhEs",
        "outputId": "da1518a2-2347-4b00-8e1b-6acfa25b6f85"
      },
      "source": [
        "##pparticular area region plotting\r\n",
        "asia=report[report['Region']=='Southeastern Asia']\r\n",
        "asia.plot(x='Country', y='Happiness Score', kind='barh', title='Southern Asia Happiness Scores', xlim=(0,10))"
      ],
      "execution_count": 8,
      "outputs": [
        {
          "output_type": "execute_result",
          "data": {
            "text/plain": [
              "<matplotlib.axes._subplots.AxesSubplot at 0x7ff64c359940>"
            ]
          },
          "metadata": {
            "tags": []
          },
          "execution_count": 8
        },
        {
          "output_type": "display_data",
          "data": {
            "image/png": "[encoded data removed]",
            "text/plain": [
              "<Figure size 432x288 with 1 Axes>"
            ]
          },
          "metadata": {
            "tags": [],
            "needs_background": "light"
          }
        }
      ]
    },
    {
      "cell_type": "markdown",
      "metadata": {
        "id": "PDEQAOAmZZ1S"
      },
      "source": [
        "###Task-->Find mean hapiness score for each region.\r\n",
        "\r\n",
        "**Identify each unique group in the data set.**\r\n",
        "\r\n",
        "For each group:\r\n",
        "\r\n",
        "Select only the rows corresponding to that group.\r\n",
        "\r\n",
        "Calculate the average for those rows."
      ]
    },
    {
      "cell_type": "code",
      "metadata": {
        "colab": {
          "base_uri": "https://localhost:8080/"
        },
        "id": "n972qIgTImmm",
        "outputId": "733b1ea8-8424-499c-92fe-832d41bd7eca"
      },
      "source": [
        "##create the dictionary\r\n",
        "word_happiness={}\r\n",
        "regions=report['Region'].unique()\r\n",
        "#select the corresponding ro belonging to that group\r\n",
        "for r in regions:\r\n",
        "  region_group=report[report['Region']==r]# only choose the rows where region is r\r\n",
        "  region_avg=region_group['Happiness Score'].mean()# calculate the mean\r\n",
        "  word_happiness[r]=region_avg# assign to dictionary\r\n",
        "\r\n",
        "word_happiness"
      ],
      "execution_count": 9,
      "outputs": [
        {
          "output_type": "execute_result",
          "data": {
            "text/plain": [
              "{'Australia and New Zealand': 7.285,\n",
              " 'Central and Eastern Europe': 5.332931034482758,\n",
              " 'Eastern Asia': 5.626166666666666,\n",
              " 'Latin America and Caribbean': 6.144681818181818,\n",
              " 'Middle East and Northern Africa': 5.406899999999999,\n",
              " 'North America': 7.273,\n",
              " 'Southeastern Asia': 5.317444444444445,\n",
              " 'Southern Asia': 4.580857142857143,\n",
              " 'Sub-Saharan Africa': 4.202800000000001,\n",
              " 'Western Europe': 6.689619047619048}"
            ]
          },
          "metadata": {
            "tags": []
          },
          "execution_count": 9
        }
      ]
    },
    {
      "cell_type": "code",
      "metadata": {
        "id": "kmmmhaGfdGU8"
      },
      "source": [
        "import matplotlib.pyplot as plt\r\n"
      ],
      "execution_count": 10,
      "outputs": []
    },
    {
      "cell_type": "code",
      "metadata": {
        "colab": {
          "base_uri": "https://localhost:8080/",
          "height": 281
        },
        "id": "XlH_j3B2dYEz",
        "outputId": "da0370d5-d88e-42f9-f8d0-28d4f7364f51"
      },
      "source": [
        "plt.bar(range(len(word_happiness)), list(word_happiness.values()), align='center')"
      ],
      "execution_count": 11,
      "outputs": [
        {
          "output_type": "execute_result",
          "data": {
            "text/plain": [
              "<BarContainer object of 10 artists>"
            ]
          },
          "metadata": {
            "tags": []
          },
          "execution_count": 11
        },
        {
          "output_type": "display_data",
          "data": {
            "image/png": "[encoded data removed]",
            "text/plain": [
              "<Figure size 432x288 with 1 Axes>"
            ]
          },
          "metadata": {
            "tags": [],
            "needs_background": "light"
          }
        }
      ]
    },
    {
      "cell_type": "markdown",
      "metadata": {
        "id": "T-YjdliVeJbg"
      },
      "source": [
        "###groupby operation"
      ]
    },
    {
      "cell_type": "markdown",
      "metadata": {
        "id": "L06XGRUDeQg3"
      },
      "source": [
        "Split the dataset into categories\r\n",
        "\r\n",
        "Apply some function to each category.\r\n",
        "\r\n",
        "Combine the new results to a dataset\r\n",
        "\r\n",
        "pandas has a built-in operation for this process: The groupby operation performs the \"split-apply-combine\" process on a dataframe:\r\n",
        "\r\n",
        "Create a Groupby object.\r\n",
        "\r\n",
        "Call a function on the Groupby object.\r\n",
        "\r\n",
        "Let's apply this operation to the previous tasks!"
      ]
    },
    {
      "cell_type": "code",
      "metadata": {
        "colab": {
          "base_uri": "https://localhost:8080/",
          "height": 224
        },
        "id": "cK_7sHVxd_cd",
        "outputId": "50579bb5-5d05-4de4-df4b-4e868a68ca90"
      },
      "source": [
        "grouping =report.groupby('Region') # group dataset by the \"Region\" column We do nothing yet!\r\n",
        "n1 = grouping.get_group('Australia and New Zealand') # select the data for the Australia and New Zealand group only\r\n",
        "n1"
      ],
      "execution_count": 12,
      "outputs": [
        {
          "output_type": "execute_result",
          "data": {
            "text/html": [
              "<div>\n",
              "<style scoped>\n",
              "    .dataframe tbody tr th:only-of-type {\n",
              "        vertical-align: middle;\n",
              "    }\n",
              "\n",
              "    .dataframe tbody tr th {\n",
              "        vertical-align: top;\n",
              "    }\n",
              "\n",
              "    .dataframe thead th {\n",
              "        text-align: right;\n",
              "    }\n",
              "</style>\n",
              "<table border=\"1\" class=\"dataframe\">\n",
              "  <thead>\n",
              "    <tr style=\"text-align: right;\">\n",
              "      <th></th>\n",
              "      <th>Country</th>\n",
              "      <th>Region</th>\n",
              "      <th>Happiness Rank</th>\n",
              "      <th>Happiness Score</th>\n",
              "      <th>Standard Error</th>\n",
              "      <th>Economy (GDP per Capita)</th>\n",
              "      <th>Family</th>\n",
              "      <th>Health (Life Expectancy)</th>\n",
              "      <th>Freedom</th>\n",
              "      <th>Trust (Government Corruption)</th>\n",
              "      <th>Generosity</th>\n",
              "      <th>Dystopia Residual</th>\n",
              "    </tr>\n",
              "  </thead>\n",
              "  <tbody>\n",
              "    <tr>\n",
              "      <th>8</th>\n",
              "      <td>New Zealand</td>\n",
              "      <td>Australia and New Zealand</td>\n",
              "      <td>9</td>\n",
              "      <td>7.286</td>\n",
              "      <td>0.03371</td>\n",
              "      <td>1.25018</td>\n",
              "      <td>1.31967</td>\n",
              "      <td>0.90837</td>\n",
              "      <td>0.63938</td>\n",
              "      <td>0.42922</td>\n",
              "      <td>0.47501</td>\n",
              "      <td>2.26425</td>\n",
              "    </tr>\n",
              "    <tr>\n",
              "      <th>9</th>\n",
              "      <td>Australia</td>\n",
              "      <td>Australia and New Zealand</td>\n",
              "      <td>10</td>\n",
              "      <td>7.284</td>\n",
              "      <td>0.04083</td>\n",
              "      <td>1.33358</td>\n",
              "      <td>1.30923</td>\n",
              "      <td>0.93156</td>\n",
              "      <td>0.65124</td>\n",
              "      <td>0.35637</td>\n",
              "      <td>0.43562</td>\n",
              "      <td>2.26646</td>\n",
              "    </tr>\n",
              "  </tbody>\n",
              "</table>\n",
              "</div>"
            ],
            "text/plain": [
              "       Country                     Region  ...  Generosity  Dystopia Residual\n",
              "8  New Zealand  Australia and New Zealand  ...     0.47501            2.26425\n",
              "9    Australia  Australia and New Zealand  ...     0.43562            2.26646\n",
              "\n",
              "[2 rows x 12 columns]"
            ]
          },
          "metadata": {
            "tags": []
          },
          "execution_count": 12
        }
      ]
    },
    {
      "cell_type": "markdown",
      "metadata": {
        "id": "NHPpRRjgsIzG"
      },
      "source": [
        "GroupBy.get_group() gives a dataframe containing just the rows for the countries in the Australia and New Zealand."
      ]
    },
    {
      "cell_type": "code",
      "metadata": {
        "id": "sn6OfR-cez9L",
        "colab": {
          "base_uri": "https://localhost:8080/"
        },
        "outputId": "6929e864-7885-419d-e47b-c68f31d85ad5"
      },
      "source": [
        "# take a look on `grouped`\r\n",
        "grouping"
      ],
      "execution_count": 13,
      "outputs": [
        {
          "output_type": "execute_result",
          "data": {
            "text/plain": [
              "<pandas.core.groupby.generic.DataFrameGroupBy object at 0x7ff64bdbb4a8>"
            ]
          },
          "metadata": {
            "tags": []
          },
          "execution_count": 13
        }
      ]
    },
    {
      "cell_type": "code",
      "metadata": {
        "colab": {
          "base_uri": "https://localhost:8080/"
        },
        "id": "ZhIqXdIAsb5_",
        "outputId": "01b2f795-6e19-4e54-a3b1-2bc8297e057e"
      },
      "source": [
        "# you can get more information about the groupby object by using\r\n",
        "print(grouping.groups)"
      ],
      "execution_count": 15,
      "outputs": [
        {
          "output_type": "stream",
          "text": [
            "{'Australia and New Zealand': [8, 9], 'Central and Eastern Europe': [30, 43, 44, 51, 53, 54, 55, 58, 59, 61, 63, 68, 69, 72, 76, 79, 82, 85, 86, 88, 92, 94, 95, 103, 105, 110, 126, 129, 133], 'Eastern Asia': [37, 45, 46, 71, 83, 99], 'Latin America and Caribbean': [11, 13, 15, 22, 24, 26, 29, 31, 32, 39, 40, 41, 42, 47, 50, 52, 56, 57, 64, 97, 104, 118], 'Middle East and Northern Africa': [10, 19, 21, 27, 34, 38, 48, 62, 67, 75, 81, 91, 102, 106, 107, 109, 111, 134, 135, 155], 'North America': [4, 14], 'Southeastern Asia': [23, 33, 60, 73, 74, 89, 98, 128, 144], 'Southern Asia': [78, 80, 108, 116, 120, 131, 152], 'Sub-Saharan Africa': [70, 77, 84, 90, 93, 96, 100, 112, 113, 114, 115, 117, 119, 121, 122, 123, 124, 125, 127, 130, 132, 136, 137, 138, 139, 140, 141, 142, 143, 145, 146, 147, 148, 149, 150, 151, 153, 154, 156, 157], 'Western Europe': [0, 1, 2, 3, 5, 6, 7, 12, 16, 17, 18, 20, 25, 28, 35, 36, 49, 65, 66, 87, 101]}\n"
          ],
          "name": "stdout"
        }
      ]
    },
    {
      "cell_type": "code",
      "metadata": {
        "colab": {
          "base_uri": "https://localhost:8080/",
          "height": 190
        },
        "id": "eXD7kRGkstnF",
        "outputId": "1c67d3c9-1ce7-472e-db2f-ffba35ef7011"
      },
      "source": [
        "n2 = grouping.get_group('North America')\r\n",
        "n2"
      ],
      "execution_count": 16,
      "outputs": [
        {
          "output_type": "execute_result",
          "data": {
            "text/html": [
              "<div>\n",
              "<style scoped>\n",
              "    .dataframe tbody tr th:only-of-type {\n",
              "        vertical-align: middle;\n",
              "    }\n",
              "\n",
              "    .dataframe tbody tr th {\n",
              "        vertical-align: top;\n",
              "    }\n",
              "\n",
              "    .dataframe thead th {\n",
              "        text-align: right;\n",
              "    }\n",
              "</style>\n",
              "<table border=\"1\" class=\"dataframe\">\n",
              "  <thead>\n",
              "    <tr style=\"text-align: right;\">\n",
              "      <th></th>\n",
              "      <th>Country</th>\n",
              "      <th>Region</th>\n",
              "      <th>Happiness Rank</th>\n",
              "      <th>Happiness Score</th>\n",
              "      <th>Standard Error</th>\n",
              "      <th>Economy (GDP per Capita)</th>\n",
              "      <th>Family</th>\n",
              "      <th>Health (Life Expectancy)</th>\n",
              "      <th>Freedom</th>\n",
              "      <th>Trust (Government Corruption)</th>\n",
              "      <th>Generosity</th>\n",
              "      <th>Dystopia Residual</th>\n",
              "    </tr>\n",
              "  </thead>\n",
              "  <tbody>\n",
              "    <tr>\n",
              "      <th>4</th>\n",
              "      <td>Canada</td>\n",
              "      <td>North America</td>\n",
              "      <td>5</td>\n",
              "      <td>7.427</td>\n",
              "      <td>0.03553</td>\n",
              "      <td>1.32629</td>\n",
              "      <td>1.32261</td>\n",
              "      <td>0.90563</td>\n",
              "      <td>0.63297</td>\n",
              "      <td>0.32957</td>\n",
              "      <td>0.45811</td>\n",
              "      <td>2.45176</td>\n",
              "    </tr>\n",
              "    <tr>\n",
              "      <th>14</th>\n",
              "      <td>United States</td>\n",
              "      <td>North America</td>\n",
              "      <td>15</td>\n",
              "      <td>7.119</td>\n",
              "      <td>0.03839</td>\n",
              "      <td>1.39451</td>\n",
              "      <td>1.24711</td>\n",
              "      <td>0.86179</td>\n",
              "      <td>0.54604</td>\n",
              "      <td>0.15890</td>\n",
              "      <td>0.40105</td>\n",
              "      <td>2.51011</td>\n",
              "    </tr>\n",
              "  </tbody>\n",
              "</table>\n",
              "</div>"
            ],
            "text/plain": [
              "          Country         Region  ...  Generosity  Dystopia Residual\n",
              "4          Canada  North America  ...     0.45811            2.45176\n",
              "14  United States  North America  ...     0.40105            2.51011\n",
              "\n",
              "[2 rows x 12 columns]"
            ]
          },
          "metadata": {
            "tags": []
          },
          "execution_count": 16
        }
      ]
    },
    {
      "cell_type": "code",
      "metadata": {
        "colab": {
          "base_uri": "https://localhost:8080/"
        },
        "id": "t7T9HPfRtZby",
        "outputId": "51f573aa-d8eb-4623-c2eb-69337873e7ee"
      },
      "source": [
        "# another way of above task is \r\n",
        "n_america = report.iloc[[4,14]] # 4 and 14 are indexes indicated above\r\n",
        "print(n2 == n_america) # check the similarity between 2 results"
      ],
      "execution_count": 17,
      "outputs": [
        {
          "output_type": "stream",
          "text": [
            "    Country  Region  ...  Generosity  Dystopia Residual\n",
            "4      True    True  ...        True               True\n",
            "14     True    True  ...        True               True\n",
            "\n",
            "[2 rows x 12 columns]\n"
          ],
          "name": "stdout"
        }
      ]
    },
    {
      "cell_type": "code",
      "metadata": {
        "colab": {
          "base_uri": "https://localhost:8080/"
        },
        "id": "P808DVoYtwVu",
        "outputId": "7346f0fe-67b3-414e-8626-c06ab5b6f7d9"
      },
      "source": [
        "##Compute the number of rows for each group.\r\n",
        "grouping.size() # The result is a `Series`"
      ],
      "execution_count": 18,
      "outputs": [
        {
          "output_type": "execute_result",
          "data": {
            "text/plain": [
              "Region\n",
              "Australia and New Zealand           2\n",
              "Central and Eastern Europe         29\n",
              "Eastern Asia                        6\n",
              "Latin America and Caribbean        22\n",
              "Middle East and Northern Africa    20\n",
              "North America                       2\n",
              "Southeastern Asia                   9\n",
              "Southern Asia                       7\n",
              "Sub-Saharan Africa                 40\n",
              "Western Europe                     21\n",
              "dtype: int64"
            ]
          },
          "metadata": {
            "tags": []
          },
          "execution_count": 18
        }
      ]
    },
    {
      "cell_type": "markdown",
      "metadata": {
        "id": "x3EJYqc-uSPd"
      },
      "source": [
        "\r\n",
        "Other Methods\tDescription similar to .size()\r\n",
        "\r\n",
        ".mean()\tCalculates the mean of groups.\r\n",
        "\r\n",
        ".sum()\tCalculates the sum of group values.\r\n",
        "\r\n",
        ".size()\tCalculates the size of the groups.\r\n",
        "\r\n",
        ".count()\tCalculates the count of values in groups.\r\n",
        "\r\n",
        ".min()\tCalculates the minimum of group values.\r\n",
        "\r\n",
        ".max()\tCalculates the maximum of group values."
      ]
    },
    {
      "cell_type": "code",
      "metadata": {
        "colab": {
          "base_uri": "https://localhost:8080/",
          "height": 559
        },
        "id": "uyKb7CkGuHyZ",
        "outputId": "d040ceef-e18b-46ac-a73c-09009de74390"
      },
      "source": [
        "grouping.mean()"
      ],
      "execution_count": 19,
      "outputs": [
        {
          "output_type": "execute_result",
          "data": {
            "text/html": [
              "<div>\n",
              "<style scoped>\n",
              "    .dataframe tbody tr th:only-of-type {\n",
              "        vertical-align: middle;\n",
              "    }\n",
              "\n",
              "    .dataframe tbody tr th {\n",
              "        vertical-align: top;\n",
              "    }\n",
              "\n",
              "    .dataframe thead th {\n",
              "        text-align: right;\n",
              "    }\n",
              "</style>\n",
              "<table border=\"1\" class=\"dataframe\">\n",
              "  <thead>\n",
              "    <tr style=\"text-align: right;\">\n",
              "      <th></th>\n",
              "      <th>Happiness Rank</th>\n",
              "      <th>Happiness Score</th>\n",
              "      <th>Standard Error</th>\n",
              "      <th>Economy (GDP per Capita)</th>\n",
              "      <th>Family</th>\n",
              "      <th>Health (Life Expectancy)</th>\n",
              "      <th>Freedom</th>\n",
              "      <th>Trust (Government Corruption)</th>\n",
              "      <th>Generosity</th>\n",
              "      <th>Dystopia Residual</th>\n",
              "    </tr>\n",
              "    <tr>\n",
              "      <th>Region</th>\n",
              "      <th></th>\n",
              "      <th></th>\n",
              "      <th></th>\n",
              "      <th></th>\n",
              "      <th></th>\n",
              "      <th></th>\n",
              "      <th></th>\n",
              "      <th></th>\n",
              "      <th></th>\n",
              "      <th></th>\n",
              "    </tr>\n",
              "  </thead>\n",
              "  <tbody>\n",
              "    <tr>\n",
              "      <th>Australia and New Zealand</th>\n",
              "      <td>9.500000</td>\n",
              "      <td>7.285000</td>\n",
              "      <td>0.037270</td>\n",
              "      <td>1.291880</td>\n",
              "      <td>1.314450</td>\n",
              "      <td>0.919965</td>\n",
              "      <td>0.645310</td>\n",
              "      <td>0.392795</td>\n",
              "      <td>0.455315</td>\n",
              "      <td>2.265355</td>\n",
              "    </tr>\n",
              "    <tr>\n",
              "      <th>Central and Eastern Europe</th>\n",
              "      <td>79.000000</td>\n",
              "      <td>5.332931</td>\n",
              "      <td>0.045208</td>\n",
              "      <td>0.942438</td>\n",
              "      <td>1.053042</td>\n",
              "      <td>0.718774</td>\n",
              "      <td>0.358269</td>\n",
              "      <td>0.086674</td>\n",
              "      <td>0.152264</td>\n",
              "      <td>2.021400</td>\n",
              "    </tr>\n",
              "    <tr>\n",
              "      <th>Eastern Asia</th>\n",
              "      <td>64.500000</td>\n",
              "      <td>5.626167</td>\n",
              "      <td>0.037225</td>\n",
              "      <td>1.151780</td>\n",
              "      <td>1.099427</td>\n",
              "      <td>0.877388</td>\n",
              "      <td>0.462490</td>\n",
              "      <td>0.127695</td>\n",
              "      <td>0.225885</td>\n",
              "      <td>1.681607</td>\n",
              "    </tr>\n",
              "    <tr>\n",
              "      <th>Latin America and Caribbean</th>\n",
              "      <td>46.909091</td>\n",
              "      <td>6.144682</td>\n",
              "      <td>0.061127</td>\n",
              "      <td>0.876815</td>\n",
              "      <td>1.104720</td>\n",
              "      <td>0.703870</td>\n",
              "      <td>0.501740</td>\n",
              "      <td>0.117172</td>\n",
              "      <td>0.217788</td>\n",
              "      <td>2.622577</td>\n",
              "    </tr>\n",
              "    <tr>\n",
              "      <th>Middle East and Northern Africa</th>\n",
              "      <td>77.600000</td>\n",
              "      <td>5.406900</td>\n",
              "      <td>0.046337</td>\n",
              "      <td>1.066973</td>\n",
              "      <td>0.920490</td>\n",
              "      <td>0.705616</td>\n",
              "      <td>0.361751</td>\n",
              "      <td>0.181702</td>\n",
              "      <td>0.190375</td>\n",
              "      <td>1.980009</td>\n",
              "    </tr>\n",
              "    <tr>\n",
              "      <th>North America</th>\n",
              "      <td>10.000000</td>\n",
              "      <td>7.273000</td>\n",
              "      <td>0.036960</td>\n",
              "      <td>1.360400</td>\n",
              "      <td>1.284860</td>\n",
              "      <td>0.883710</td>\n",
              "      <td>0.589505</td>\n",
              "      <td>0.244235</td>\n",
              "      <td>0.429580</td>\n",
              "      <td>2.480935</td>\n",
              "    </tr>\n",
              "    <tr>\n",
              "      <th>Southeastern Asia</th>\n",
              "      <td>81.222222</td>\n",
              "      <td>5.317444</td>\n",
              "      <td>0.042691</td>\n",
              "      <td>0.789054</td>\n",
              "      <td>0.940468</td>\n",
              "      <td>0.677357</td>\n",
              "      <td>0.557104</td>\n",
              "      <td>0.151276</td>\n",
              "      <td>0.419261</td>\n",
              "      <td>1.783020</td>\n",
              "    </tr>\n",
              "    <tr>\n",
              "      <th>Southern Asia</th>\n",
              "      <td>113.142857</td>\n",
              "      <td>4.580857</td>\n",
              "      <td>0.032161</td>\n",
              "      <td>0.560486</td>\n",
              "      <td>0.645321</td>\n",
              "      <td>0.540830</td>\n",
              "      <td>0.373337</td>\n",
              "      <td>0.102536</td>\n",
              "      <td>0.341429</td>\n",
              "      <td>2.016769</td>\n",
              "    </tr>\n",
              "    <tr>\n",
              "      <th>Sub-Saharan Africa</th>\n",
              "      <td>127.900000</td>\n",
              "      <td>4.202800</td>\n",
              "      <td>0.055299</td>\n",
              "      <td>0.380473</td>\n",
              "      <td>0.809085</td>\n",
              "      <td>0.282332</td>\n",
              "      <td>0.365944</td>\n",
              "      <td>0.123878</td>\n",
              "      <td>0.221137</td>\n",
              "      <td>2.019980</td>\n",
              "    </tr>\n",
              "    <tr>\n",
              "      <th>Western Europe</th>\n",
              "      <td>29.523810</td>\n",
              "      <td>6.689619</td>\n",
              "      <td>0.037625</td>\n",
              "      <td>1.298596</td>\n",
              "      <td>1.247302</td>\n",
              "      <td>0.909148</td>\n",
              "      <td>0.549926</td>\n",
              "      <td>0.231463</td>\n",
              "      <td>0.302109</td>\n",
              "      <td>2.151185</td>\n",
              "    </tr>\n",
              "  </tbody>\n",
              "</table>\n",
              "</div>"
            ],
            "text/plain": [
              "                                 Happiness Rank  ...  Dystopia Residual\n",
              "Region                                           ...                   \n",
              "Australia and New Zealand              9.500000  ...           2.265355\n",
              "Central and Eastern Europe            79.000000  ...           2.021400\n",
              "Eastern Asia                          64.500000  ...           1.681607\n",
              "Latin America and Caribbean           46.909091  ...           2.622577\n",
              "Middle East and Northern Africa       77.600000  ...           1.980009\n",
              "North America                         10.000000  ...           2.480935\n",
              "Southeastern Asia                     81.222222  ...           1.783020\n",
              "Southern Asia                        113.142857  ...           2.016769\n",
              "Sub-Saharan Africa                   127.900000  ...           2.019980\n",
              "Western Europe                        29.523810  ...           2.151185\n",
              "\n",
              "[10 rows x 10 columns]"
            ]
          },
          "metadata": {
            "tags": []
          },
          "execution_count": 19
        }
      ]
    },
    {
      "cell_type": "markdown",
      "metadata": {
        "id": "_JARHA-puuMV"
      },
      "source": [
        "##### Region appears in a different row than the rest of the column names. It's because that Region in this case is used to be the index of the dataframe."
      ]
    },
    {
      "cell_type": "code",
      "metadata": {
        "colab": {
          "base_uri": "https://localhost:8080/"
        },
        "id": "B5jjtFqCumRh",
        "outputId": "8e8fed9c-f73c-45b1-8dbc-f19ff6e35ec8"
      },
      "source": [
        "##Select just the Happiness Score column from grouped and then compute its mean.\r\n",
        "happy_grouped = grouping['Happiness Score']\r\n",
        "happy_grouped.mean()\r\n"
      ],
      "execution_count": 20,
      "outputs": [
        {
          "output_type": "execute_result",
          "data": {
            "text/plain": [
              "Region\n",
              "Australia and New Zealand          7.285000\n",
              "Central and Eastern Europe         5.332931\n",
              "Eastern Asia                       5.626167\n",
              "Latin America and Caribbean        6.144682\n",
              "Middle East and Northern Africa    5.406900\n",
              "North America                      7.273000\n",
              "Southeastern Asia                  5.317444\n",
              "Southern Asia                      4.580857\n",
              "Sub-Saharan Africa                 4.202800\n",
              "Western Europe                     6.689619\n",
              "Name: Happiness Score, dtype: float64"
            ]
          },
          "metadata": {
            "tags": []
          },
          "execution_count": 20
        }
      ]
    },
    {
      "cell_type": "code",
      "metadata": {
        "colab": {
          "base_uri": "https://localhost:8080/"
        },
        "id": "QFhsRlMJvLWa",
        "outputId": "08868b08-7904-4e0b-c153-6406fab520fd"
      },
      "source": [
        "# another way\r\n",
        "grouping.mean()['Happiness Score']"
      ],
      "execution_count": 21,
      "outputs": [
        {
          "output_type": "execute_result",
          "data": {
            "text/plain": [
              "Region\n",
              "Australia and New Zealand          7.285000\n",
              "Central and Eastern Europe         5.332931\n",
              "Eastern Asia                       5.626167\n",
              "Latin America and Caribbean        6.144682\n",
              "Middle East and Northern Africa    5.406900\n",
              "North America                      7.273000\n",
              "Southeastern Asia                  5.317444\n",
              "Southern Asia                      4.580857\n",
              "Sub-Saharan Africa                 4.202800\n",
              "Western Europe                     6.689619\n",
              "Name: Happiness Score, dtype: float64"
            ]
          },
          "metadata": {
            "tags": []
          },
          "execution_count": 21
        }
      ]
    },
    {
      "cell_type": "markdown",
      "metadata": {
        "id": "N39z4QMJvqQZ"
      },
      "source": [
        "####we wanted to apply more than one kind of aggregation to a column at a time (e.g. apply both mean() and max())?\r\n",
        "\r\n",
        "Use GroupBy.agg() method.\r\n",
        "\r\n"
      ]
    },
    {
      "cell_type": "code",
      "metadata": {
        "colab": {
          "base_uri": "https://localhost:8080/",
          "height": 375
        },
        "id": "W2tgPl8xvY3u",
        "outputId": "998d3455-d008-444d-c68f-dd98036f6c38"
      },
      "source": [
        "# happy_grouped = grouped['Happiness Score']\r\n",
        "happy_mean_max = happy_grouped.agg([np.mean, np.max])\r\n",
        "happy_mean_max"
      ],
      "execution_count": 22,
      "outputs": [
        {
          "output_type": "execute_result",
          "data": {
            "text/html": [
              "<div>\n",
              "<style scoped>\n",
              "    .dataframe tbody tr th:only-of-type {\n",
              "        vertical-align: middle;\n",
              "    }\n",
              "\n",
              "    .dataframe tbody tr th {\n",
              "        vertical-align: top;\n",
              "    }\n",
              "\n",
              "    .dataframe thead th {\n",
              "        text-align: right;\n",
              "    }\n",
              "</style>\n",
              "<table border=\"1\" class=\"dataframe\">\n",
              "  <thead>\n",
              "    <tr style=\"text-align: right;\">\n",
              "      <th></th>\n",
              "      <th>mean</th>\n",
              "      <th>amax</th>\n",
              "    </tr>\n",
              "    <tr>\n",
              "      <th>Region</th>\n",
              "      <th></th>\n",
              "      <th></th>\n",
              "    </tr>\n",
              "  </thead>\n",
              "  <tbody>\n",
              "    <tr>\n",
              "      <th>Australia and New Zealand</th>\n",
              "      <td>7.285000</td>\n",
              "      <td>7.286</td>\n",
              "    </tr>\n",
              "    <tr>\n",
              "      <th>Central and Eastern Europe</th>\n",
              "      <td>5.332931</td>\n",
              "      <td>6.505</td>\n",
              "    </tr>\n",
              "    <tr>\n",
              "      <th>Eastern Asia</th>\n",
              "      <td>5.626167</td>\n",
              "      <td>6.298</td>\n",
              "    </tr>\n",
              "    <tr>\n",
              "      <th>Latin America and Caribbean</th>\n",
              "      <td>6.144682</td>\n",
              "      <td>7.226</td>\n",
              "    </tr>\n",
              "    <tr>\n",
              "      <th>Middle East and Northern Africa</th>\n",
              "      <td>5.406900</td>\n",
              "      <td>7.278</td>\n",
              "    </tr>\n",
              "    <tr>\n",
              "      <th>North America</th>\n",
              "      <td>7.273000</td>\n",
              "      <td>7.427</td>\n",
              "    </tr>\n",
              "    <tr>\n",
              "      <th>Southeastern Asia</th>\n",
              "      <td>5.317444</td>\n",
              "      <td>6.798</td>\n",
              "    </tr>\n",
              "    <tr>\n",
              "      <th>Southern Asia</th>\n",
              "      <td>4.580857</td>\n",
              "      <td>5.253</td>\n",
              "    </tr>\n",
              "    <tr>\n",
              "      <th>Sub-Saharan Africa</th>\n",
              "      <td>4.202800</td>\n",
              "      <td>5.477</td>\n",
              "    </tr>\n",
              "    <tr>\n",
              "      <th>Western Europe</th>\n",
              "      <td>6.689619</td>\n",
              "      <td>7.587</td>\n",
              "    </tr>\n",
              "  </tbody>\n",
              "</table>\n",
              "</div>"
            ],
            "text/plain": [
              "                                     mean   amax\n",
              "Region                                          \n",
              "Australia and New Zealand        7.285000  7.286\n",
              "Central and Eastern Europe       5.332931  6.505\n",
              "Eastern Asia                     5.626167  6.298\n",
              "Latin America and Caribbean      6.144682  7.226\n",
              "Middle East and Northern Africa  5.406900  7.278\n",
              "North America                    7.273000  7.427\n",
              "Southeastern Asia                5.317444  6.798\n",
              "Southern Asia                    4.580857  5.253\n",
              "Sub-Saharan Africa               4.202800  5.477\n",
              "Western Europe                   6.689619  7.587"
            ]
          },
          "metadata": {
            "tags": []
          },
          "execution_count": 22
        }
      ]
    },
    {
      "cell_type": "markdown",
      "metadata": {
        "id": "4cOcDaIcwFp5"
      },
      "source": [
        "####Because np.max is an alias for np.amax, the corresponding column'name is amax."
      ]
    },
    {
      "cell_type": "code",
      "metadata": {
        "colab": {
          "base_uri": "https://localhost:8080/"
        },
        "id": "cECN_4Vlv_Cd",
        "outputId": "44158d29-d760-4e2d-e1ae-f8ac6b846d14"
      },
      "source": [
        "##I can define a custom function and then apply `.agg`\r\n",
        "def max_diff(group):\r\n",
        "  return (group.max()-group.mean())\r\n",
        "mean_max_diff=happy_grouped.agg(max_diff)\r\n",
        "mean_max_diff\r\n"
      ],
      "execution_count": 23,
      "outputs": [
        {
          "output_type": "execute_result",
          "data": {
            "text/plain": [
              "Region\n",
              "Australia and New Zealand          0.001000\n",
              "Central and Eastern Europe         1.172069\n",
              "Eastern Asia                       0.671833\n",
              "Latin America and Caribbean        1.081318\n",
              "Middle East and Northern Africa    1.871100\n",
              "North America                      0.154000\n",
              "Southeastern Asia                  1.480556\n",
              "Southern Asia                      0.672143\n",
              "Sub-Saharan Africa                 1.274200\n",
              "Western Europe                     0.897381\n",
              "Name: Happiness Score, dtype: float64"
            ]
          },
          "metadata": {
            "tags": []
          },
          "execution_count": 23
        }
      ]
    },
    {
      "cell_type": "code",
      "metadata": {
        "colab": {
          "base_uri": "https://localhost:8080/"
        },
        "id": "5NSBnALLxCxA",
        "outputId": "3d7602a2-4d66-4447-d0e4-63d799fba635"
      },
      "source": [
        "mean_max_dif = report.groupby('Region')['Happiness Score'].agg(max_diff)#after groupby region beahve as inex and happiness \r\n",
        "#score is working as their respective  happiness score for the function we have used\r\n",
        "type(mean_max_dif)\r\n",
        "mean_max_dif"
      ],
      "execution_count": 25,
      "outputs": [
        {
          "output_type": "execute_result",
          "data": {
            "text/plain": [
              "Region\n",
              "Australia and New Zealand          0.001000\n",
              "Central and Eastern Europe         1.172069\n",
              "Eastern Asia                       0.671833\n",
              "Latin America and Caribbean        1.081318\n",
              "Middle East and Northern Africa    1.871100\n",
              "North America                      0.154000\n",
              "Southeastern Asia                  1.480556\n",
              "Southern Asia                      0.672143\n",
              "Sub-Saharan Africa                 1.274200\n",
              "Western Europe                     0.897381\n",
              "Name: Happiness Score, dtype: float64"
            ]
          },
          "metadata": {
            "tags": []
          },
          "execution_count": 25
        }
      ]
    },
    {
      "cell_type": "markdown",
      "metadata": {
        "id": "MgXsH93ZyLFX"
      },
      "source": [
        "####.pivot_table() method\r\n",
        "\r\n",
        "index and values are actually arguments used in another method used to aggregate data - the DataFrame.pivot_table() method. We can perform the same result as in GroupBy."
      ]
    },
    {
      "cell_type": "code",
      "metadata": {
        "colab": {
          "base_uri": "https://localhost:8080/"
        },
        "id": "YfL-R9dhxhdL",
        "outputId": "09046a8d-189d-44ed-febd-eb07483866e4"
      },
      "source": [
        "# use GroupBy\r\n",
        "report.groupby('Region')['Happiness Score'].mean()\r\n",
        "# Type: Series"
      ],
      "execution_count": 26,
      "outputs": [
        {
          "output_type": "execute_result",
          "data": {
            "text/plain": [
              "Region\n",
              "Australia and New Zealand          7.285000\n",
              "Central and Eastern Europe         5.332931\n",
              "Eastern Asia                       5.626167\n",
              "Latin America and Caribbean        6.144682\n",
              "Middle East and Northern Africa    5.406900\n",
              "North America                      7.273000\n",
              "Southeastern Asia                  5.317444\n",
              "Southern Asia                      4.580857\n",
              "Sub-Saharan Africa                 4.202800\n",
              "Western Europe                     6.689619\n",
              "Name: Happiness Score, dtype: float64"
            ]
          },
          "metadata": {
            "tags": []
          },
          "execution_count": 26
        }
      ]
    },
    {
      "cell_type": "code",
      "metadata": {
        "colab": {
          "base_uri": "https://localhost:8080/",
          "height": 375
        },
        "id": "ju9kNqiByUFA",
        "outputId": "a835dd18-0385-4736-b90e-e13fb2ffd2f6"
      },
      "source": [
        "# use pivot_table\r\n",
        "report.pivot_table(values='Happiness Score', index='Region', aggfunc=np.mean)\r\n",
        "# type: DataFrame\r\n"
      ],
      "execution_count": 27,
      "outputs": [
        {
          "output_type": "execute_result",
          "data": {
            "text/html": [
              "<div>\n",
              "<style scoped>\n",
              "    .dataframe tbody tr th:only-of-type {\n",
              "        vertical-align: middle;\n",
              "    }\n",
              "\n",
              "    .dataframe tbody tr th {\n",
              "        vertical-align: top;\n",
              "    }\n",
              "\n",
              "    .dataframe thead th {\n",
              "        text-align: right;\n",
              "    }\n",
              "</style>\n",
              "<table border=\"1\" class=\"dataframe\">\n",
              "  <thead>\n",
              "    <tr style=\"text-align: right;\">\n",
              "      <th></th>\n",
              "      <th>Happiness Score</th>\n",
              "    </tr>\n",
              "    <tr>\n",
              "      <th>Region</th>\n",
              "      <th></th>\n",
              "    </tr>\n",
              "  </thead>\n",
              "  <tbody>\n",
              "    <tr>\n",
              "      <th>Australia and New Zealand</th>\n",
              "      <td>7.285000</td>\n",
              "    </tr>\n",
              "    <tr>\n",
              "      <th>Central and Eastern Europe</th>\n",
              "      <td>5.332931</td>\n",
              "    </tr>\n",
              "    <tr>\n",
              "      <th>Eastern Asia</th>\n",
              "      <td>5.626167</td>\n",
              "    </tr>\n",
              "    <tr>\n",
              "      <th>Latin America and Caribbean</th>\n",
              "      <td>6.144682</td>\n",
              "    </tr>\n",
              "    <tr>\n",
              "      <th>Middle East and Northern Africa</th>\n",
              "      <td>5.406900</td>\n",
              "    </tr>\n",
              "    <tr>\n",
              "      <th>North America</th>\n",
              "      <td>7.273000</td>\n",
              "    </tr>\n",
              "    <tr>\n",
              "      <th>Southeastern Asia</th>\n",
              "      <td>5.317444</td>\n",
              "    </tr>\n",
              "    <tr>\n",
              "      <th>Southern Asia</th>\n",
              "      <td>4.580857</td>\n",
              "    </tr>\n",
              "    <tr>\n",
              "      <th>Sub-Saharan Africa</th>\n",
              "      <td>4.202800</td>\n",
              "    </tr>\n",
              "    <tr>\n",
              "      <th>Western Europe</th>\n",
              "      <td>6.689619</td>\n",
              "    </tr>\n",
              "  </tbody>\n",
              "</table>\n",
              "</div>"
            ],
            "text/plain": [
              "                                 Happiness Score\n",
              "Region                                          \n",
              "Australia and New Zealand               7.285000\n",
              "Central and Eastern Europe              5.332931\n",
              "Eastern Asia                            5.626167\n",
              "Latin America and Caribbean             6.144682\n",
              "Middle East and Northern Africa         5.406900\n",
              "North America                           7.273000\n",
              "Southeastern Asia                       5.317444\n",
              "Southern Asia                           4.580857\n",
              "Sub-Saharan Africa                      4.202800\n",
              "Western Europe                          6.689619"
            ]
          },
          "metadata": {
            "tags": []
          },
          "execution_count": 27
        }
      ]
    },
    {
      "cell_type": "code",
      "metadata": {
        "colab": {
          "base_uri": "https://localhost:8080/",
          "height": 297
        },
        "id": "G-PtGXsqyaGl",
        "outputId": "8173f22c-cde2-4089-c4a5-3f36a31f6893"
      },
      "source": [
        "# we can apply normal dataframe filter to the above result\r\n",
        "pv_happiness = report.pivot_table('Happiness Score', 'Region') \r\n",
        "# there is no 'aggfunc' because its default value is 'mean'\r\n",
        "pv_happiness.plot(kind='barh', title='Mean Happiness Scores by Region', xlim=(0,10), legend=False)"
      ],
      "execution_count": 28,
      "outputs": [
        {
          "output_type": "execute_result",
          "data": {
            "text/plain": [
              "<matplotlib.axes._subplots.AxesSubplot at 0x7ff64aa4ee80>"
            ]
          },
          "metadata": {
            "tags": []
          },
          "execution_count": 28
        },
        {
          "output_type": "display_data",
          "data": {
            "image/png": "[encoded data removed]",
            "text/plain": [
              "<Figure size 432x288 with 1 Axes>"
            ]
          },
          "metadata": {
            "tags": [],
            "needs_background": "light"
          }
        }
      ]
    },
    {
      "cell_type": "code",
      "metadata": {
        "colab": {
          "base_uri": "https://localhost:8080/",
          "height": 297
        },
        "id": "e_DZFLDryvXq",
        "outputId": "b892cabb-0438-4266-cd80-b6a56e0d0638"
      },
      "source": [
        "# plot the \"All\" group with option `margins=True`\r\n",
        "pv_happiness = report.pivot_table(values='Happiness Score', index='Region', aggfunc=np.mean, margins=True)\r\n",
        "pv_happiness.plot(kind='barh', xlim=(0,10), title='Mean Happiness Scores by Region', legend=False)"
      ],
      "execution_count": 30,
      "outputs": [
        {
          "output_type": "execute_result",
          "data": {
            "text/plain": [
              "<matplotlib.axes._subplots.AxesSubplot at 0x7ff64a913390>"
            ]
          },
          "metadata": {
            "tags": []
          },
          "execution_count": 30
        },
        {
          "output_type": "display_data",
          "data": {
            "image/png": "[encoded data removed]",
            "text/plain": [
              "<Figure size 432x288 with 1 Axes>"
            ]
          },
          "metadata": {
            "tags": [],
            "needs_background": "light"
          }
        }
      ]
    },
    {
      "cell_type": "code",
      "metadata": {
        "colab": {
          "base_uri": "https://localhost:8080/"
        },
        "id": "eu8LKYi7y7t9",
        "outputId": "d38c806b-ddb7-4fa0-a3bd-7625a11cc7d7"
      },
      "source": [
        "##All is the mean of the Happiness Score column. It is:\r\n",
        "report['Happiness Score'].mean() # value of `All` bar\r\n"
      ],
      "execution_count": 31,
      "outputs": [
        {
          "output_type": "execute_result",
          "data": {
            "text/plain": [
              "5.3757341772151905"
            ]
          },
          "metadata": {
            "tags": []
          },
          "execution_count": 31
        }
      ]
    },
    {
      "cell_type": "code",
      "metadata": {
        "colab": {
          "base_uri": "https://localhost:8080/",
          "height": 375
        },
        "id": "VDsDI4C3zNe2",
        "outputId": "212b98b0-6b97-4586-9836-8c8125ed1115"
      },
      "source": [
        "#We can aggregate multiple columns and apply multiple functions at once.\r\n",
        "\r\n",
        "#like  we aggregate both the 'Happiness Score' and 'Family' columns in report and group by the 'Region' column:\r\n",
        "report.pivot_table(['Happiness Score', 'Family'], 'Region')"
      ],
      "execution_count": 32,
      "outputs": [
        {
          "output_type": "execute_result",
          "data": {
            "text/html": [
              "<div>\n",
              "<style scoped>\n",
              "    .dataframe tbody tr th:only-of-type {\n",
              "        vertical-align: middle;\n",
              "    }\n",
              "\n",
              "    .dataframe tbody tr th {\n",
              "        vertical-align: top;\n",
              "    }\n",
              "\n",
              "    .dataframe thead th {\n",
              "        text-align: right;\n",
              "    }\n",
              "</style>\n",
              "<table border=\"1\" class=\"dataframe\">\n",
              "  <thead>\n",
              "    <tr style=\"text-align: right;\">\n",
              "      <th></th>\n",
              "      <th>Family</th>\n",
              "      <th>Happiness Score</th>\n",
              "    </tr>\n",
              "    <tr>\n",
              "      <th>Region</th>\n",
              "      <th></th>\n",
              "      <th></th>\n",
              "    </tr>\n",
              "  </thead>\n",
              "  <tbody>\n",
              "    <tr>\n",
              "      <th>Australia and New Zealand</th>\n",
              "      <td>1.314450</td>\n",
              "      <td>7.285000</td>\n",
              "    </tr>\n",
              "    <tr>\n",
              "      <th>Central and Eastern Europe</th>\n",
              "      <td>1.053042</td>\n",
              "      <td>5.332931</td>\n",
              "    </tr>\n",
              "    <tr>\n",
              "      <th>Eastern Asia</th>\n",
              "      <td>1.099427</td>\n",
              "      <td>5.626167</td>\n",
              "    </tr>\n",
              "    <tr>\n",
              "      <th>Latin America and Caribbean</th>\n",
              "      <td>1.104720</td>\n",
              "      <td>6.144682</td>\n",
              "    </tr>\n",
              "    <tr>\n",
              "      <th>Middle East and Northern Africa</th>\n",
              "      <td>0.920490</td>\n",
              "      <td>5.406900</td>\n",
              "    </tr>\n",
              "    <tr>\n",
              "      <th>North America</th>\n",
              "      <td>1.284860</td>\n",
              "      <td>7.273000</td>\n",
              "    </tr>\n",
              "    <tr>\n",
              "      <th>Southeastern Asia</th>\n",
              "      <td>0.940468</td>\n",
              "      <td>5.317444</td>\n",
              "    </tr>\n",
              "    <tr>\n",
              "      <th>Southern Asia</th>\n",
              "      <td>0.645321</td>\n",
              "      <td>4.580857</td>\n",
              "    </tr>\n",
              "    <tr>\n",
              "      <th>Sub-Saharan Africa</th>\n",
              "      <td>0.809085</td>\n",
              "      <td>4.202800</td>\n",
              "    </tr>\n",
              "    <tr>\n",
              "      <th>Western Europe</th>\n",
              "      <td>1.247302</td>\n",
              "      <td>6.689619</td>\n",
              "    </tr>\n",
              "  </tbody>\n",
              "</table>\n",
              "</div>"
            ],
            "text/plain": [
              "                                   Family  Happiness Score\n",
              "Region                                                    \n",
              "Australia and New Zealand        1.314450         7.285000\n",
              "Central and Eastern Europe       1.053042         5.332931\n",
              "Eastern Asia                     1.099427         5.626167\n",
              "Latin America and Caribbean      1.104720         6.144682\n",
              "Middle East and Northern Africa  0.920490         5.406900\n",
              "North America                    1.284860         7.273000\n",
              "Southeastern Asia                0.940468         5.317444\n",
              "Southern Asia                    0.645321         4.580857\n",
              "Sub-Saharan Africa               0.809085         4.202800\n",
              "Western Europe                   1.247302         6.689619"
            ]
          },
          "metadata": {
            "tags": []
          },
          "execution_count": 32
        }
      ]
    },
    {
      "cell_type": "code",
      "metadata": {
        "colab": {
          "base_uri": "https://localhost:8080/",
          "height": 435
        },
        "id": "l9zGBLvqzeti",
        "outputId": "726fd24d-64bc-4373-c316-d28cc3538545"
      },
      "source": [
        "#apply list of functions\r\n",
        "report.pivot_table('Happiness Score', 'Region', aggfunc=[np.mean, np.min , np.max], margins=True)"
      ],
      "execution_count": 34,
      "outputs": [
        {
          "output_type": "execute_result",
          "data": {
            "text/html": [
              "<div>\n",
              "<style scoped>\n",
              "    .dataframe tbody tr th:only-of-type {\n",
              "        vertical-align: middle;\n",
              "    }\n",
              "\n",
              "    .dataframe tbody tr th {\n",
              "        vertical-align: top;\n",
              "    }\n",
              "\n",
              "    .dataframe thead tr th {\n",
              "        text-align: left;\n",
              "    }\n",
              "\n",
              "    .dataframe thead tr:last-of-type th {\n",
              "        text-align: right;\n",
              "    }\n",
              "</style>\n",
              "<table border=\"1\" class=\"dataframe\">\n",
              "  <thead>\n",
              "    <tr>\n",
              "      <th></th>\n",
              "      <th>mean</th>\n",
              "      <th>amin</th>\n",
              "      <th>amax</th>\n",
              "    </tr>\n",
              "    <tr>\n",
              "      <th></th>\n",
              "      <th>Happiness Score</th>\n",
              "      <th>Happiness Score</th>\n",
              "      <th>Happiness Score</th>\n",
              "    </tr>\n",
              "    <tr>\n",
              "      <th>Region</th>\n",
              "      <th></th>\n",
              "      <th></th>\n",
              "      <th></th>\n",
              "    </tr>\n",
              "  </thead>\n",
              "  <tbody>\n",
              "    <tr>\n",
              "      <th>Australia and New Zealand</th>\n",
              "      <td>7.285000</td>\n",
              "      <td>7.284</td>\n",
              "      <td>7.286</td>\n",
              "    </tr>\n",
              "    <tr>\n",
              "      <th>Central and Eastern Europe</th>\n",
              "      <td>5.332931</td>\n",
              "      <td>4.218</td>\n",
              "      <td>6.505</td>\n",
              "    </tr>\n",
              "    <tr>\n",
              "      <th>Eastern Asia</th>\n",
              "      <td>5.626167</td>\n",
              "      <td>4.874</td>\n",
              "      <td>6.298</td>\n",
              "    </tr>\n",
              "    <tr>\n",
              "      <th>Latin America and Caribbean</th>\n",
              "      <td>6.144682</td>\n",
              "      <td>4.518</td>\n",
              "      <td>7.226</td>\n",
              "    </tr>\n",
              "    <tr>\n",
              "      <th>Middle East and Northern Africa</th>\n",
              "      <td>5.406900</td>\n",
              "      <td>3.006</td>\n",
              "      <td>7.278</td>\n",
              "    </tr>\n",
              "    <tr>\n",
              "      <th>North America</th>\n",
              "      <td>7.273000</td>\n",
              "      <td>7.119</td>\n",
              "      <td>7.427</td>\n",
              "    </tr>\n",
              "    <tr>\n",
              "      <th>Southeastern Asia</th>\n",
              "      <td>5.317444</td>\n",
              "      <td>3.819</td>\n",
              "      <td>6.798</td>\n",
              "    </tr>\n",
              "    <tr>\n",
              "      <th>Southern Asia</th>\n",
              "      <td>4.580857</td>\n",
              "      <td>3.575</td>\n",
              "      <td>5.253</td>\n",
              "    </tr>\n",
              "    <tr>\n",
              "      <th>Sub-Saharan Africa</th>\n",
              "      <td>4.202800</td>\n",
              "      <td>2.839</td>\n",
              "      <td>5.477</td>\n",
              "    </tr>\n",
              "    <tr>\n",
              "      <th>Western Europe</th>\n",
              "      <td>6.689619</td>\n",
              "      <td>4.857</td>\n",
              "      <td>7.587</td>\n",
              "    </tr>\n",
              "    <tr>\n",
              "      <th>All</th>\n",
              "      <td>5.375734</td>\n",
              "      <td>2.839</td>\n",
              "      <td>7.587</td>\n",
              "    </tr>\n",
              "  </tbody>\n",
              "</table>\n",
              "</div>"
            ],
            "text/plain": [
              "                                           mean            amin            amax\n",
              "                                Happiness Score Happiness Score Happiness Score\n",
              "Region                                                                         \n",
              "Australia and New Zealand              7.285000           7.284           7.286\n",
              "Central and Eastern Europe             5.332931           4.218           6.505\n",
              "Eastern Asia                           5.626167           4.874           6.298\n",
              "Latin America and Caribbean            6.144682           4.518           7.226\n",
              "Middle East and Northern Africa        5.406900           3.006           7.278\n",
              "North America                          7.273000           7.119           7.427\n",
              "Southeastern Asia                      5.317444           3.819           6.798\n",
              "Southern Asia                          4.580857           3.575           5.253\n",
              "Sub-Saharan Africa                     4.202800           2.839           5.477\n",
              "Western Europe                         6.689619           4.857           7.587\n",
              "All                                    5.375734           2.839           7.587"
            ]
          },
          "metadata": {
            "tags": []
          },
          "execution_count": 34
        }
      ]
    },
    {
      "cell_type": "code",
      "metadata": {
        "colab": {
          "base_uri": "https://localhost:8080/",
          "height": 435
        },
        "id": "uzcrkf8F0Ure",
        "outputId": "d47bf5d0-c92a-4d31-cc75-9aed762641f8"
      },
      "source": [
        "#apply list of functions\r\n",
        "report.pivot_table(['Happiness Score','Family'] ,'Region', aggfunc=[np.mean, np.min , np.max], margins=True)"
      ],
      "execution_count": 35,
      "outputs": [
        {
          "output_type": "execute_result",
          "data": {
            "text/html": [
              "<div>\n",
              "<style scoped>\n",
              "    .dataframe tbody tr th:only-of-type {\n",
              "        vertical-align: middle;\n",
              "    }\n",
              "\n",
              "    .dataframe tbody tr th {\n",
              "        vertical-align: top;\n",
              "    }\n",
              "\n",
              "    .dataframe thead tr th {\n",
              "        text-align: left;\n",
              "    }\n",
              "\n",
              "    .dataframe thead tr:last-of-type th {\n",
              "        text-align: right;\n",
              "    }\n",
              "</style>\n",
              "<table border=\"1\" class=\"dataframe\">\n",
              "  <thead>\n",
              "    <tr>\n",
              "      <th></th>\n",
              "      <th colspan=\"2\" halign=\"left\">mean</th>\n",
              "      <th colspan=\"2\" halign=\"left\">amin</th>\n",
              "      <th colspan=\"2\" halign=\"left\">amax</th>\n",
              "    </tr>\n",
              "    <tr>\n",
              "      <th></th>\n",
              "      <th>Family</th>\n",
              "      <th>Happiness Score</th>\n",
              "      <th>Family</th>\n",
              "      <th>Happiness Score</th>\n",
              "      <th>Family</th>\n",
              "      <th>Happiness Score</th>\n",
              "    </tr>\n",
              "    <tr>\n",
              "      <th>Region</th>\n",
              "      <th></th>\n",
              "      <th></th>\n",
              "      <th></th>\n",
              "      <th></th>\n",
              "      <th></th>\n",
              "      <th></th>\n",
              "    </tr>\n",
              "  </thead>\n",
              "  <tbody>\n",
              "    <tr>\n",
              "      <th>Australia and New Zealand</th>\n",
              "      <td>1.314450</td>\n",
              "      <td>7.285000</td>\n",
              "      <td>1.30923</td>\n",
              "      <td>7.284</td>\n",
              "      <td>1.31967</td>\n",
              "      <td>7.286</td>\n",
              "    </tr>\n",
              "    <tr>\n",
              "      <th>Central and Eastern Europe</th>\n",
              "      <td>1.053042</td>\n",
              "      <td>5.332931</td>\n",
              "      <td>0.38562</td>\n",
              "      <td>4.218</td>\n",
              "      <td>1.34043</td>\n",
              "      <td>6.505</td>\n",
              "    </tr>\n",
              "    <tr>\n",
              "      <th>Eastern Asia</th>\n",
              "      <td>1.099427</td>\n",
              "      <td>5.626167</td>\n",
              "      <td>0.94675</td>\n",
              "      <td>4.874</td>\n",
              "      <td>1.30060</td>\n",
              "      <td>6.298</td>\n",
              "    </tr>\n",
              "    <tr>\n",
              "      <th>Latin America and Caribbean</th>\n",
              "      <td>1.104720</td>\n",
              "      <td>6.144682</td>\n",
              "      <td>0.74302</td>\n",
              "      <td>4.518</td>\n",
              "      <td>1.30477</td>\n",
              "      <td>7.226</td>\n",
              "    </tr>\n",
              "    <tr>\n",
              "      <th>Middle East and Northern Africa</th>\n",
              "      <td>0.920490</td>\n",
              "      <td>5.406900</td>\n",
              "      <td>0.47489</td>\n",
              "      <td>3.006</td>\n",
              "      <td>1.22393</td>\n",
              "      <td>7.278</td>\n",
              "    </tr>\n",
              "    <tr>\n",
              "      <th>North America</th>\n",
              "      <td>1.284860</td>\n",
              "      <td>7.273000</td>\n",
              "      <td>1.24711</td>\n",
              "      <td>7.119</td>\n",
              "      <td>1.32261</td>\n",
              "      <td>7.427</td>\n",
              "    </tr>\n",
              "    <tr>\n",
              "      <th>Southeastern Asia</th>\n",
              "      <td>0.940468</td>\n",
              "      <td>5.317444</td>\n",
              "      <td>0.62736</td>\n",
              "      <td>3.819</td>\n",
              "      <td>1.26504</td>\n",
              "      <td>6.798</td>\n",
              "    </tr>\n",
              "    <tr>\n",
              "      <th>Southern Asia</th>\n",
              "      <td>0.645321</td>\n",
              "      <td>4.580857</td>\n",
              "      <td>0.30285</td>\n",
              "      <td>3.575</td>\n",
              "      <td>1.10395</td>\n",
              "      <td>5.253</td>\n",
              "    </tr>\n",
              "    <tr>\n",
              "      <th>Sub-Saharan Africa</th>\n",
              "      <td>0.809085</td>\n",
              "      <td>4.202800</td>\n",
              "      <td>0.00000</td>\n",
              "      <td>2.839</td>\n",
              "      <td>1.18468</td>\n",
              "      <td>5.477</td>\n",
              "    </tr>\n",
              "    <tr>\n",
              "      <th>Western Europe</th>\n",
              "      <td>1.247302</td>\n",
              "      <td>6.689619</td>\n",
              "      <td>0.89318</td>\n",
              "      <td>4.857</td>\n",
              "      <td>1.40223</td>\n",
              "      <td>7.587</td>\n",
              "    </tr>\n",
              "    <tr>\n",
              "      <th>All</th>\n",
              "      <td>0.991046</td>\n",
              "      <td>5.375734</td>\n",
              "      <td>0.00000</td>\n",
              "      <td>2.839</td>\n",
              "      <td>1.40223</td>\n",
              "      <td>7.587</td>\n",
              "    </tr>\n",
              "  </tbody>\n",
              "</table>\n",
              "</div>"
            ],
            "text/plain": [
              "                                     mean  ...            amax\n",
              "                                   Family  ... Happiness Score\n",
              "Region                                     ...                \n",
              "Australia and New Zealand        1.314450  ...           7.286\n",
              "Central and Eastern Europe       1.053042  ...           6.505\n",
              "Eastern Asia                     1.099427  ...           6.298\n",
              "Latin America and Caribbean      1.104720  ...           7.226\n",
              "Middle East and Northern Africa  0.920490  ...           7.278\n",
              "North America                    1.284860  ...           7.427\n",
              "Southeastern Asia                0.940468  ...           6.798\n",
              "Southern Asia                    0.645321  ...           5.253\n",
              "Sub-Saharan Africa               0.809085  ...           5.477\n",
              "Western Europe                   1.247302  ...           7.587\n",
              "All                              0.991046  ...           7.587\n",
              "\n",
              "[11 rows x 6 columns]"
            ]
          },
          "metadata": {
            "tags": []
          },
          "execution_count": 35
        }
      ]
    },
    {
      "cell_type": "code",
      "metadata": {
        "id": "FmdxNY1K0oGf"
      },
      "source": [
        "# compare groupby and and  using pivot_table\r\n",
        "grouped = report.groupby('Region')[['Happiness Score','Family']]\r\n",
        "gb_happy_family_stats = grouped.agg([np.min, np.max, np.mean])\r\n",
        "pv_happy_family_stats = report.pivot_table(['Happiness Score', 'Family'], 'Region', \r\n",
        "                                                  aggfunc=[np.min, np.max, np.mean], margins=True)"
      ],
      "execution_count": 39,
      "outputs": []
    },
    {
      "cell_type": "code",
      "metadata": {
        "colab": {
          "base_uri": "https://localhost:8080/",
          "height": 405
        },
        "id": "2d1FEx_D1PNH",
        "outputId": "1410bf41-e1ca-4c1b-fc32-6857f77722db"
      },
      "source": [
        "gb_happy_family_stats"
      ],
      "execution_count": 41,
      "outputs": [
        {
          "output_type": "execute_result",
          "data": {
            "text/html": [
              "<div>\n",
              "<style scoped>\n",
              "    .dataframe tbody tr th:only-of-type {\n",
              "        vertical-align: middle;\n",
              "    }\n",
              "\n",
              "    .dataframe tbody tr th {\n",
              "        vertical-align: top;\n",
              "    }\n",
              "\n",
              "    .dataframe thead tr th {\n",
              "        text-align: left;\n",
              "    }\n",
              "\n",
              "    .dataframe thead tr:last-of-type th {\n",
              "        text-align: right;\n",
              "    }\n",
              "</style>\n",
              "<table border=\"1\" class=\"dataframe\">\n",
              "  <thead>\n",
              "    <tr>\n",
              "      <th></th>\n",
              "      <th colspan=\"3\" halign=\"left\">Happiness Score</th>\n",
              "      <th colspan=\"3\" halign=\"left\">Family</th>\n",
              "    </tr>\n",
              "    <tr>\n",
              "      <th></th>\n",
              "      <th>amin</th>\n",
              "      <th>amax</th>\n",
              "      <th>mean</th>\n",
              "      <th>amin</th>\n",
              "      <th>amax</th>\n",
              "      <th>mean</th>\n",
              "    </tr>\n",
              "    <tr>\n",
              "      <th>Region</th>\n",
              "      <th></th>\n",
              "      <th></th>\n",
              "      <th></th>\n",
              "      <th></th>\n",
              "      <th></th>\n",
              "      <th></th>\n",
              "    </tr>\n",
              "  </thead>\n",
              "  <tbody>\n",
              "    <tr>\n",
              "      <th>Australia and New Zealand</th>\n",
              "      <td>7.284</td>\n",
              "      <td>7.286</td>\n",
              "      <td>7.285000</td>\n",
              "      <td>1.30923</td>\n",
              "      <td>1.31967</td>\n",
              "      <td>1.314450</td>\n",
              "    </tr>\n",
              "    <tr>\n",
              "      <th>Central and Eastern Europe</th>\n",
              "      <td>4.218</td>\n",
              "      <td>6.505</td>\n",
              "      <td>5.332931</td>\n",
              "      <td>0.38562</td>\n",
              "      <td>1.34043</td>\n",
              "      <td>1.053042</td>\n",
              "    </tr>\n",
              "    <tr>\n",
              "      <th>Eastern Asia</th>\n",
              "      <td>4.874</td>\n",
              "      <td>6.298</td>\n",
              "      <td>5.626167</td>\n",
              "      <td>0.94675</td>\n",
              "      <td>1.30060</td>\n",
              "      <td>1.099427</td>\n",
              "    </tr>\n",
              "    <tr>\n",
              "      <th>Latin America and Caribbean</th>\n",
              "      <td>4.518</td>\n",
              "      <td>7.226</td>\n",
              "      <td>6.144682</td>\n",
              "      <td>0.74302</td>\n",
              "      <td>1.30477</td>\n",
              "      <td>1.104720</td>\n",
              "    </tr>\n",
              "    <tr>\n",
              "      <th>Middle East and Northern Africa</th>\n",
              "      <td>3.006</td>\n",
              "      <td>7.278</td>\n",
              "      <td>5.406900</td>\n",
              "      <td>0.47489</td>\n",
              "      <td>1.22393</td>\n",
              "      <td>0.920490</td>\n",
              "    </tr>\n",
              "    <tr>\n",
              "      <th>North America</th>\n",
              "      <td>7.119</td>\n",
              "      <td>7.427</td>\n",
              "      <td>7.273000</td>\n",
              "      <td>1.24711</td>\n",
              "      <td>1.32261</td>\n",
              "      <td>1.284860</td>\n",
              "    </tr>\n",
              "    <tr>\n",
              "      <th>Southeastern Asia</th>\n",
              "      <td>3.819</td>\n",
              "      <td>6.798</td>\n",
              "      <td>5.317444</td>\n",
              "      <td>0.62736</td>\n",
              "      <td>1.26504</td>\n",
              "      <td>0.940468</td>\n",
              "    </tr>\n",
              "    <tr>\n",
              "      <th>Southern Asia</th>\n",
              "      <td>3.575</td>\n",
              "      <td>5.253</td>\n",
              "      <td>4.580857</td>\n",
              "      <td>0.30285</td>\n",
              "      <td>1.10395</td>\n",
              "      <td>0.645321</td>\n",
              "    </tr>\n",
              "    <tr>\n",
              "      <th>Sub-Saharan Africa</th>\n",
              "      <td>2.839</td>\n",
              "      <td>5.477</td>\n",
              "      <td>4.202800</td>\n",
              "      <td>0.00000</td>\n",
              "      <td>1.18468</td>\n",
              "      <td>0.809085</td>\n",
              "    </tr>\n",
              "    <tr>\n",
              "      <th>Western Europe</th>\n",
              "      <td>4.857</td>\n",
              "      <td>7.587</td>\n",
              "      <td>6.689619</td>\n",
              "      <td>0.89318</td>\n",
              "      <td>1.40223</td>\n",
              "      <td>1.247302</td>\n",
              "    </tr>\n",
              "  </tbody>\n",
              "</table>\n",
              "</div>"
            ],
            "text/plain": [
              "                                Happiness Score         ...   Family          \n",
              "                                           amin   amax  ...     amax      mean\n",
              "Region                                                  ...                   \n",
              "Australia and New Zealand                 7.284  7.286  ...  1.31967  1.314450\n",
              "Central and Eastern Europe                4.218  6.505  ...  1.34043  1.053042\n",
              "Eastern Asia                              4.874  6.298  ...  1.30060  1.099427\n",
              "Latin America and Caribbean               4.518  7.226  ...  1.30477  1.104720\n",
              "Middle East and Northern Africa           3.006  7.278  ...  1.22393  0.920490\n",
              "North America                             7.119  7.427  ...  1.32261  1.284860\n",
              "Southeastern Asia                         3.819  6.798  ...  1.26504  0.940468\n",
              "Southern Asia                             3.575  5.253  ...  1.10395  0.645321\n",
              "Sub-Saharan Africa                        2.839  5.477  ...  1.18468  0.809085\n",
              "Western Europe                            4.857  7.587  ...  1.40223  1.247302\n",
              "\n",
              "[10 rows x 6 columns]"
            ]
          },
          "metadata": {
            "tags": []
          },
          "execution_count": 41
        }
      ]
    },
    {
      "cell_type": "code",
      "metadata": {
        "colab": {
          "base_uri": "https://localhost:8080/",
          "height": 435
        },
        "id": "7MvkvaOr1sPr",
        "outputId": "ec50ddf9-be34-4a13-db8c-66acc2e88c50"
      },
      "source": [
        "pv_happy_family_stats"
      ],
      "execution_count": 42,
      "outputs": [
        {
          "output_type": "execute_result",
          "data": {
            "text/html": [
              "<div>\n",
              "<style scoped>\n",
              "    .dataframe tbody tr th:only-of-type {\n",
              "        vertical-align: middle;\n",
              "    }\n",
              "\n",
              "    .dataframe tbody tr th {\n",
              "        vertical-align: top;\n",
              "    }\n",
              "\n",
              "    .dataframe thead tr th {\n",
              "        text-align: left;\n",
              "    }\n",
              "\n",
              "    .dataframe thead tr:last-of-type th {\n",
              "        text-align: right;\n",
              "    }\n",
              "</style>\n",
              "<table border=\"1\" class=\"dataframe\">\n",
              "  <thead>\n",
              "    <tr>\n",
              "      <th></th>\n",
              "      <th colspan=\"2\" halign=\"left\">amin</th>\n",
              "      <th colspan=\"2\" halign=\"left\">amax</th>\n",
              "      <th colspan=\"2\" halign=\"left\">mean</th>\n",
              "    </tr>\n",
              "    <tr>\n",
              "      <th></th>\n",
              "      <th>Family</th>\n",
              "      <th>Happiness Score</th>\n",
              "      <th>Family</th>\n",
              "      <th>Happiness Score</th>\n",
              "      <th>Family</th>\n",
              "      <th>Happiness Score</th>\n",
              "    </tr>\n",
              "    <tr>\n",
              "      <th>Region</th>\n",
              "      <th></th>\n",
              "      <th></th>\n",
              "      <th></th>\n",
              "      <th></th>\n",
              "      <th></th>\n",
              "      <th></th>\n",
              "    </tr>\n",
              "  </thead>\n",
              "  <tbody>\n",
              "    <tr>\n",
              "      <th>Australia and New Zealand</th>\n",
              "      <td>1.30923</td>\n",
              "      <td>7.284</td>\n",
              "      <td>1.31967</td>\n",
              "      <td>7.286</td>\n",
              "      <td>1.314450</td>\n",
              "      <td>7.285000</td>\n",
              "    </tr>\n",
              "    <tr>\n",
              "      <th>Central and Eastern Europe</th>\n",
              "      <td>0.38562</td>\n",
              "      <td>4.218</td>\n",
              "      <td>1.34043</td>\n",
              "      <td>6.505</td>\n",
              "      <td>1.053042</td>\n",
              "      <td>5.332931</td>\n",
              "    </tr>\n",
              "    <tr>\n",
              "      <th>Eastern Asia</th>\n",
              "      <td>0.94675</td>\n",
              "      <td>4.874</td>\n",
              "      <td>1.30060</td>\n",
              "      <td>6.298</td>\n",
              "      <td>1.099427</td>\n",
              "      <td>5.626167</td>\n",
              "    </tr>\n",
              "    <tr>\n",
              "      <th>Latin America and Caribbean</th>\n",
              "      <td>0.74302</td>\n",
              "      <td>4.518</td>\n",
              "      <td>1.30477</td>\n",
              "      <td>7.226</td>\n",
              "      <td>1.104720</td>\n",
              "      <td>6.144682</td>\n",
              "    </tr>\n",
              "    <tr>\n",
              "      <th>Middle East and Northern Africa</th>\n",
              "      <td>0.47489</td>\n",
              "      <td>3.006</td>\n",
              "      <td>1.22393</td>\n",
              "      <td>7.278</td>\n",
              "      <td>0.920490</td>\n",
              "      <td>5.406900</td>\n",
              "    </tr>\n",
              "    <tr>\n",
              "      <th>North America</th>\n",
              "      <td>1.24711</td>\n",
              "      <td>7.119</td>\n",
              "      <td>1.32261</td>\n",
              "      <td>7.427</td>\n",
              "      <td>1.284860</td>\n",
              "      <td>7.273000</td>\n",
              "    </tr>\n",
              "    <tr>\n",
              "      <th>Southeastern Asia</th>\n",
              "      <td>0.62736</td>\n",
              "      <td>3.819</td>\n",
              "      <td>1.26504</td>\n",
              "      <td>6.798</td>\n",
              "      <td>0.940468</td>\n",
              "      <td>5.317444</td>\n",
              "    </tr>\n",
              "    <tr>\n",
              "      <th>Southern Asia</th>\n",
              "      <td>0.30285</td>\n",
              "      <td>3.575</td>\n",
              "      <td>1.10395</td>\n",
              "      <td>5.253</td>\n",
              "      <td>0.645321</td>\n",
              "      <td>4.580857</td>\n",
              "    </tr>\n",
              "    <tr>\n",
              "      <th>Sub-Saharan Africa</th>\n",
              "      <td>0.00000</td>\n",
              "      <td>2.839</td>\n",
              "      <td>1.18468</td>\n",
              "      <td>5.477</td>\n",
              "      <td>0.809085</td>\n",
              "      <td>4.202800</td>\n",
              "    </tr>\n",
              "    <tr>\n",
              "      <th>Western Europe</th>\n",
              "      <td>0.89318</td>\n",
              "      <td>4.857</td>\n",
              "      <td>1.40223</td>\n",
              "      <td>7.587</td>\n",
              "      <td>1.247302</td>\n",
              "      <td>6.689619</td>\n",
              "    </tr>\n",
              "    <tr>\n",
              "      <th>All</th>\n",
              "      <td>0.00000</td>\n",
              "      <td>2.839</td>\n",
              "      <td>1.40223</td>\n",
              "      <td>7.587</td>\n",
              "      <td>0.991046</td>\n",
              "      <td>5.375734</td>\n",
              "    </tr>\n",
              "  </tbody>\n",
              "</table>\n",
              "</div>"
            ],
            "text/plain": [
              "                                    amin  ...            mean\n",
              "                                  Family  ... Happiness Score\n",
              "Region                                    ...                \n",
              "Australia and New Zealand        1.30923  ...        7.285000\n",
              "Central and Eastern Europe       0.38562  ...        5.332931\n",
              "Eastern Asia                     0.94675  ...        5.626167\n",
              "Latin America and Caribbean      0.74302  ...        6.144682\n",
              "Middle East and Northern Africa  0.47489  ...        5.406900\n",
              "North America                    1.24711  ...        7.273000\n",
              "Southeastern Asia                0.62736  ...        5.317444\n",
              "Southern Asia                    0.30285  ...        4.580857\n",
              "Sub-Saharan Africa               0.00000  ...        4.202800\n",
              "Western Europe                   0.89318  ...        6.689619\n",
              "All                              0.00000  ...        5.375734\n",
              "\n",
              "[11 rows x 6 columns]"
            ]
          },
          "metadata": {
            "tags": []
          },
          "execution_count": 42
        }
      ]
    },
    {
      "cell_type": "code",
      "metadata": {
        "id": "IG1aGGhA14nt"
      },
      "source": [
        ""
      ],
      "execution_count": null,
      "outputs": []
    }
  ]
}