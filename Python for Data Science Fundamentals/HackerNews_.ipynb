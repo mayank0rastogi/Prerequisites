{
  "nbformat": 4,
  "nbformat_minor": 0,
  "metadata": {
    "colab": {
      "name": "HackerNews_.ipynb",
      "provenance": [],
      "collapsed_sections": []
    },
    "kernelspec": {
      "name": "python3",
      "display_name": "Python 3"
    }
  },
  "cells": [
    {
      "cell_type": "code",
      "metadata": {
        "id": "h89rqjqIN56e"
      },
      "source": [
        "!cp '/content/drive/MyDrive/Dataset/hackernews.csv'  ."
      ],
      "execution_count": null,
      "outputs": []
    },
    {
      "cell_type": "markdown",
      "metadata": {
        "id": "XZUaHqp5opGA"
      },
      "source": [
        "We'll compare Ask HN and Show HN to answer the following questions:\r\n",
        "\r\n",
        "A. Do `Ask HN` or `Show HN` receive more comments on average?\r\n",
        "\r\n",
        "B. Do posts created at a certain time receive more comments on average?\r\n",
        "\r\n",
        "C. Do either `Ask HN` or `Show HN` receive more points?\r\n",
        "\r\n",
        "D. During which hours are the posts more likely to receive higher \r\n",
        "points?\r\n"
      ]
    },
    {
      "cell_type": "code",
      "metadata": {
        "colab": {
          "base_uri": "https://localhost:8080/"
        },
        "id": "EtvpkUP8UQw3",
        "outputId": "4c273767-23db-4a5d-ffb5-1d2eadf6c69e"
      },
      "source": [
        "from csv import reader\r\n",
        "opened_file = open(\"hackernews.csv\")\r\n",
        "read_file = reader(opened_file)\r\n",
        "data = list(read_file)\r\n",
        "print(data[0:5])"
      ],
      "execution_count": null,
      "outputs": [
        {
          "output_type": "stream",
          "text": [
            "[['id', 'title', 'url', 'num_points', 'num_comments', 'author', 'created_at'], ['12224879', 'Interactive Dynamic Video', 'http://www.interactivedynamicvideo.com/', '386', '52', 'ne0phyte', '8/4/2016 11:52'], ['10975351', 'How to Use Open Source and Shut the Fuck Up at the Same Time', 'http://hueniverse.com/2016/01/26/how-to-use-open-source-and-shut-the-fuck-up-at-the-same-time/', '39', '10', 'josep2', '1/26/2016 19:30'], ['11964716', \"Florida DJs May Face Felony for April Fools' Water Joke\", 'http://www.thewire.com/entertainment/2013/04/florida-djs-april-fools-water-joke/63798/', '2', '1', 'vezycash', '6/23/2016 22:20'], ['11919867', 'Technology ventures: From Idea to Enterprise', 'https://www.amazon.com/Technology-Ventures-Enterprise-Thomas-Byers/dp/0073523429', '3', '1', 'hswarna', '6/17/2016 0:01']]\n"
          ],
          "name": "stdout"
        }
      ]
    },
    {
      "cell_type": "markdown",
      "metadata": {
        "id": "FimkkyDDnxVJ"
      },
      "source": [
        "In order to analyze our data, we'll remove the first row of column headers:\r\n"
      ]
    },
    {
      "cell_type": "code",
      "metadata": {
        "colab": {
          "base_uri": "https://localhost:8080/"
        },
        "id": "NucsdhCmnoyZ",
        "outputId": "748fec6e-9e08-47b0-eaee-3af74084e24c"
      },
      "source": [
        "headers = data[0]\r\n",
        "data = data[1:]\r\n",
        "print(data[0:5])"
      ],
      "execution_count": null,
      "outputs": [
        {
          "output_type": "stream",
          "text": [
            "[['12224879', 'Interactive Dynamic Video', 'http://www.interactivedynamicvideo.com/', '386', '52', 'ne0phyte', '8/4/2016 11:52'], ['10975351', 'How to Use Open Source and Shut the Fuck Up at the Same Time', 'http://hueniverse.com/2016/01/26/how-to-use-open-source-and-shut-the-fuck-up-at-the-same-time/', '39', '10', 'josep2', '1/26/2016 19:30'], ['11964716', \"Florida DJs May Face Felony for April Fools' Water Joke\", 'http://www.thewire.com/entertainment/2013/04/florida-djs-april-fools-water-joke/63798/', '2', '1', 'vezycash', '6/23/2016 22:20'], ['11919867', 'Technology ventures: From Idea to Enterprise', 'https://www.amazon.com/Technology-Ventures-Enterprise-Thomas-Byers/dp/0073523429', '3', '1', 'hswarna', '6/17/2016 0:01'], ['10301696', 'Note by Note: The Making of Steinway L1037 (2007)', 'http://www.nytimes.com/2007/11/07/movies/07stein.html?_r=0', '8', '2', 'walterbell', '9/30/2015 4:12']]\n"
          ],
          "name": "stdout"
        }
      ]
    },
    {
      "cell_type": "code",
      "metadata": {
        "colab": {
          "base_uri": "https://localhost:8080/"
        },
        "id": "JANZAPA8n3zX",
        "outputId": "bf5caf09-a2b9-4e8a-c74c-2edf79309ef6"
      },
      "source": [
        "ask_posts = []\r\n",
        "show_posts = []\r\n",
        "other_posts = []\r\n",
        "for row in data:\r\n",
        "    title = row[1]\r\n",
        "    if title.lower().startswith('ask hn'):\r\n",
        "        ask_posts.append(row)\r\n",
        "    elif title.lower().startswith('show hn'):\r\n",
        "        show_posts.append(row)\r\n",
        "    else:\r\n",
        "        other_posts.append(row)\r\n",
        "\r\n",
        "print(\"Total number of ask posts:\", len(ask_posts))\r\n",
        "print(\"Total number of show posts:\", len(show_posts))\r\n",
        "print(\"Total number of other posts:\", len(other_posts))"
      ],
      "execution_count": null,
      "outputs": [
        {
          "output_type": "stream",
          "text": [
            "Total number of ask posts: 1744\n",
            "Total number of show posts: 1162\n",
            "Total number of other posts: 17195\n"
          ],
          "name": "stdout"
        }
      ]
    },
    {
      "cell_type": "code",
      "metadata": {
        "colab": {
          "base_uri": "https://localhost:8080/"
        },
        "id": "FEotrQQxoIFI",
        "outputId": "2178cdf8-c333-4030-fbaa-317eb097cd8d"
      },
      "source": [
        "\r\n",
        "print(ask_posts[0:5])"
      ],
      "execution_count": null,
      "outputs": [
        {
          "output_type": "stream",
          "text": [
            "[['12296411', 'Ask HN: How to improve my personal website?', '', '2', '6', 'ahmedbaracat', '8/16/2016 9:55'], ['10610020', 'Ask HN: Am I the only one outraged by Twitter shutting down share counts?', '', '28', '29', 'tkfx', '11/22/2015 13:43'], ['11610310', 'Ask HN: Aby recent changes to CSS that broke mobile?', '', '1', '1', 'polskibus', '5/2/2016 10:14'], ['12210105', 'Ask HN: Looking for Employee #3 How do I do it?', '', '1', '3', 'sph130', '8/2/2016 14:20'], ['10394168', 'Ask HN: Someone offered to buy my browser extension from me. What now?', '', '28', '17', 'roykolak', '10/15/2015 16:38']]\n"
          ],
          "name": "stdout"
        }
      ]
    },
    {
      "cell_type": "code",
      "metadata": {
        "colab": {
          "base_uri": "https://localhost:8080/"
        },
        "id": "sqr8xUM3oK66",
        "outputId": "7ba13c4b-aef7-44d1-fd9a-a4c4bc56cd77"
      },
      "source": [
        "print(show_posts[0:5])"
      ],
      "execution_count": null,
      "outputs": [
        {
          "output_type": "stream",
          "text": [
            "[['10627194', 'Show HN: Wio Link  ESP8266 Based Web of Things Hardware Development Platform', 'https://iot.seeed.cc', '26', '22', 'kfihihc', '11/25/2015 14:03'], ['10646440', 'Show HN: Something pointless I made', 'http://dn.ht/picklecat/', '747', '102', 'dhotson', '11/29/2015 22:46'], ['11590768', 'Show HN: Shanhu.io, a programming playground powered by e8vm', 'https://shanhu.io', '1', '1', 'h8liu', '4/28/2016 18:05'], ['12178806', 'Show HN: Webscope  Easy way for web developers to communicate with Clients', 'http://webscopeapp.com', '3', '3', 'fastbrick', '7/28/2016 7:11'], ['10872799', 'Show HN: GeoScreenshot  Easily test Geo-IP based web pages', 'https://www.geoscreenshot.com/', '1', '9', 'kpsychwave', '1/9/2016 20:45']]\n"
          ],
          "name": "stdout"
        }
      ]
    },
    {
      "cell_type": "markdown",
      "metadata": {
        "id": "kNNbZGtAoSrM"
      },
      "source": [
        "Determine if ask posts or show posts receive more comments on average\r\n"
      ]
    },
    {
      "cell_type": "code",
      "metadata": {
        "colab": {
          "base_uri": "https://localhost:8080/"
        },
        "id": "C6QJGm5doOC0",
        "outputId": "3d1acb09-a26a-4cd9-b85c-f1df4019198f"
      },
      "source": [
        "\r\n",
        "# Using list comprehension to tidy up the loops\r\n",
        "ask_comments = [int(row[4]) for row in ask_posts]\r\n",
        "show_comments = [int(row[4]) for row in show_posts]\r\n",
        "print(sum(ask_comments))\r\n",
        "print(len(ask_comments))\r\n",
        "\r\n",
        "avg_ask_comments = sum(ask_comments)/len(ask_comments)\r\n",
        "avg_show_comments = sum(show_comments)/len(show_comments)\r\n",
        "\r\n",
        "print(\"Average Ask Comments: \", avg_ask_comments)\r\n",
        "print(\"Average Show Comments: \", avg_show_comments)"
      ],
      "execution_count": null,
      "outputs": [
        {
          "output_type": "stream",
          "text": [
            "24483\n",
            "1744\n",
            "Average Ask Comments:  14.038417431192661\n",
            "Average Show Comments:  10.31669535283993\n"
          ],
          "name": "stdout"
        }
      ]
    },
    {
      "cell_type": "markdown",
      "metadata": {
        "id": "b5p2wSVyplQ3"
      },
      "source": [
        "**Our calculation indicates that on average, ask hn posts receive more comments.**\r\n",
        "Since ask posts are more likely to receive comments, we'll focus our remaining analysis just on these posts."
      ]
    },
    {
      "cell_type": "markdown",
      "metadata": {
        "id": "4mIf2JIDpx-G"
      },
      "source": [
        "Determine if there is a certain time ask posts are more likely to attract comments"
      ]
    },
    {
      "cell_type": "code",
      "metadata": {
        "colab": {
          "base_uri": "https://localhost:8080/"
        },
        "id": "uUkJEjBbpxk1",
        "outputId": "9c821ab5-9617-4d75-d9b8-00d6e94d7615"
      },
      "source": [
        "import datetime as dt\r\n",
        "result_list = []\r\n",
        "for row in ask_posts:\r\n",
        "    sublist = []\r\n",
        "    created_time = row[6]\r\n",
        "    num_comments = int(row[4])\r\n",
        "    sublist.append(created_time)\r\n",
        "    sublist.append(num_comments)\r\n",
        "    result_list.append(sublist)\r\n",
        "\r\n",
        "result_list[0:12]"
      ],
      "execution_count": null,
      "outputs": [
        {
          "output_type": "execute_result",
          "data": {
            "text/plain": [
              "[['8/16/2016 9:55', 6],\n",
              " ['11/22/2015 13:43', 29],\n",
              " ['5/2/2016 10:14', 1],\n",
              " ['8/2/2016 14:20', 3],\n",
              " ['10/15/2015 16:38', 17],\n",
              " ['9/26/2015 23:23', 1],\n",
              " ['4/22/2016 12:24', 4],\n",
              " ['11/16/2015 9:22', 1],\n",
              " ['2/24/2016 17:57', 1],\n",
              " ['6/4/2016 17:17', 2],\n",
              " ['9/19/2015 17:04', 7],\n",
              " ['9/22/2015 13:16', 1]]"
            ]
          },
          "metadata": {
            "tags": []
          },
          "execution_count": 8
        }
      ]
    },
    {
      "cell_type": "markdown",
      "metadata": {
        "id": "9bNyHFOZq2YF"
      },
      "source": [
        "**create the frequency table with the date and comments data:**"
      ]
    },
    {
      "cell_type": "code",
      "metadata": {
        "colab": {
          "base_uri": "https://localhost:8080/"
        },
        "id": "LE2k0M0apxh1",
        "outputId": "80f7db31-635f-46e8-9f94-29402ea8b7a8"
      },
      "source": [
        "counts_by_hour = {}\r\n",
        "comments_by_hour = {}\r\n",
        "\r\n",
        "for row in result_list:\r\n",
        "    dt_object = row[0]\r\n",
        "    dt_parsed = dt.datetime.strptime(dt_object, \"%m/%d/%Y %H:%M\")\r\n",
        "    hr = dt.datetime.strftime(dt_parsed, \"%H\")\r\n",
        "    #print(hr)\r\n",
        "\r\n",
        "    if hr not in counts_by_hour:\r\n",
        "        counts_by_hour[hr] = 1\r\n",
        "        comments_by_hour[hr] = int(row[1])\r\n",
        "    else:\r\n",
        "        counts_by_hour[hr] = counts_by_hour[hr] + 1\r\n",
        "        comments_by_hour[hr] = comments_by_hour[hr] + int(row[1])\r\n",
        "\r\n",
        "print(comments_by_hour)\r\n",
        "print(counts_by_hour)"
      ],
      "execution_count": null,
      "outputs": [
        {
          "output_type": "stream",
          "text": [
            "{'09': 251, '13': 1253, '10': 793, '14': 1416, '16': 1814, '23': 543, '12': 687, '17': 1146, '15': 4477, '21': 1745, '20': 1722, '02': 1381, '18': 1439, '03': 421, '05': 464, '19': 1188, '01': 683, '22': 479, '08': 492, '04': 337, '00': 447, '06': 397, '07': 267, '11': 641}\n",
            "{'09': 45, '13': 85, '10': 59, '14': 107, '16': 108, '23': 68, '12': 73, '17': 100, '15': 116, '21': 109, '20': 80, '02': 58, '18': 109, '03': 54, '05': 46, '19': 110, '01': 60, '22': 71, '08': 48, '04': 47, '00': 55, '06': 44, '07': 34, '11': 58}\n"
          ],
          "name": "stdout"
        }
      ]
    },
    {
      "cell_type": "markdown",
      "metadata": {
        "id": "Hn6OZkl9reUE"
      },
      "source": [
        "Average number of comments in an hour"
      ]
    },
    {
      "cell_type": "markdown",
      "metadata": {
        "id": "_a-MxeUmrlqV"
      },
      "source": [
        "We can now use these two dictionaries to calculate the average number of comments for posts created during each hour of the day.You See bellow  we will build a list of lists containing the hours during which posts were created and the average number of comments those posts received."
      ]
    },
    {
      "cell_type": "code",
      "metadata": {
        "colab": {
          "base_uri": "https://localhost:8080/"
        },
        "id": "Kr7I-mGKpxet",
        "outputId": "19aa1cc8-5ca6-4132-bf94-f796bc6d3ad1"
      },
      "source": [
        "avg_by_hour = []\r\n",
        "\r\n",
        "for hour in comments_by_hour:\r\n",
        "    avg_by_hour.append([hour, comments_by_hour[hour]/counts_by_hour[hour]])\r\n",
        "\r\n",
        "avg_by_hour\r\n",
        "# 1. lists can be created from dictionaries\r\n",
        "# 2. Calculatons can be done on the key values of dictionaries"
      ],
      "execution_count": null,
      "outputs": [
        {
          "output_type": "execute_result",
          "data": {
            "text/plain": [
              "[['09', 5.5777777777777775],\n",
              " ['13', 14.741176470588234],\n",
              " ['10', 13.440677966101696],\n",
              " ['14', 13.233644859813085],\n",
              " ['16', 16.796296296296298],\n",
              " ['23', 7.985294117647059],\n",
              " ['12', 9.41095890410959],\n",
              " ['17', 11.46],\n",
              " ['15', 38.5948275862069],\n",
              " ['21', 16.009174311926607],\n",
              " ['20', 21.525],\n",
              " ['02', 23.810344827586206],\n",
              " ['18', 13.20183486238532],\n",
              " ['03', 7.796296296296297],\n",
              " ['05', 10.08695652173913],\n",
              " ['19', 10.8],\n",
              " ['01', 11.383333333333333],\n",
              " ['22', 6.746478873239437],\n",
              " ['08', 10.25],\n",
              " ['04', 7.170212765957447],\n",
              " ['00', 8.127272727272727],\n",
              " ['06', 9.022727272727273],\n",
              " ['07', 7.852941176470588],\n",
              " ['11', 11.051724137931034]]"
            ]
          },
          "metadata": {
            "tags": []
          },
          "execution_count": 10
        }
      ]
    },
    {
      "cell_type": "markdown",
      "metadata": {
        "id": "vR0dT9DwsZ0k"
      },
      "source": [
        "We'll swap the elements to display the average by hour below."
      ]
    },
    {
      "cell_type": "code",
      "metadata": {
        "colab": {
          "base_uri": "https://localhost:8080/"
        },
        "id": "Hstu4C45pxaz",
        "outputId": "0aa6beda-5210-492e-8a48-069681963672"
      },
      "source": [
        "\r\n",
        "swap_avg_by_hour = []\r\n",
        "for row in avg_by_hour:\r\n",
        "    # print(key)\r\n",
        "    # creating a sublist and appending it\r\n",
        "    sublist = []\r\n",
        "    sublist.append(row[1])\r\n",
        "    sublist.append(row[0])\r\n",
        "    swap_avg_by_hour.append(sublist)\r\n",
        "print(swap_avg_by_hour)"
      ],
      "execution_count": null,
      "outputs": [
        {
          "output_type": "stream",
          "text": [
            "[[5.5777777777777775, '09'], [14.741176470588234, '13'], [13.440677966101696, '10'], [13.233644859813085, '14'], [16.796296296296298, '16'], [7.985294117647059, '23'], [9.41095890410959, '12'], [11.46, '17'], [38.5948275862069, '15'], [16.009174311926607, '21'], [21.525, '20'], [23.810344827586206, '02'], [13.20183486238532, '18'], [7.796296296296297, '03'], [10.08695652173913, '05'], [10.8, '19'], [11.383333333333333, '01'], [6.746478873239437, '22'], [10.25, '08'], [7.170212765957447, '04'], [8.127272727272727, '00'], [9.022727272727273, '06'], [7.852941176470588, '07'], [11.051724137931034, '11']]\n"
          ],
          "name": "stdout"
        }
      ]
    },
    {
      "cell_type": "code",
      "metadata": {
        "colab": {
          "base_uri": "https://localhost:8080/"
        },
        "id": "grxCgTwHpxWT",
        "outputId": "c402bb32-75a3-446f-fc64-3821e2e56f56"
      },
      "source": [
        "#top 5 hours for posting comments:\r\n",
        "\r\n",
        "# sorted function to arrange\r\n",
        "sorted_swap = sorted(swap_avg_by_hour, reverse=True)\r\n",
        "print(\"Top 5 hours for Ask Posts Comments:\")\r\n",
        "\r\n",
        "for i in range(0, 5):\r\n",
        "    hr_obj = dt.datetime.strptime(\r\n",
        "        sorted_swap[i][1], \"%H\")  # Assigns each value\r\n",
        "    hr_obj_string = dt.datetime.strftime(hr_obj, \"%H:%M\")  # To final string\r\n",
        "    avg = sorted_swap[i][0]\r\n",
        "    template = '''\r\n",
        "    {}: {:.2f} average comments per post    \r\n",
        "    '''\r\n",
        "    print(template.format(hr_obj_string, avg))"
      ],
      "execution_count": null,
      "outputs": [
        {
          "output_type": "stream",
          "text": [
            "Top 5 hours for Ask Posts Comments:\n",
            "\n",
            "    15:00: 38.59 average comments per post    \n",
            "    \n",
            "\n",
            "    02:00: 23.81 average comments per post    \n",
            "    \n",
            "\n",
            "    20:00: 21.52 average comments per post    \n",
            "    \n",
            "\n",
            "    16:00: 16.80 average comments per post    \n",
            "    \n",
            "\n",
            "    21:00: 16.01 average comments per post    \n",
            "    \n"
          ],
          "name": "stdout"
        }
      ]
    },
    {
      "cell_type": "markdown",
      "metadata": {
        "id": "zcdzavXBtK5S"
      },
      "source": [
        "Ans For 2nd Question -> On average, the majority of comments are created at 15:00 you can adjust it with your time zoone this is for EST"
      ]
    },
    {
      "cell_type": "code",
      "metadata": {
        "colab": {
          "base_uri": "https://localhost:8080/"
        },
        "id": "QhHZwi9rtXbE",
        "outputId": "4018f7ac-a6dc-4465-e63e-5da2abf3f26f"
      },
      "source": [
        "a_points = 0\r\n",
        "s_points = 0\r\n",
        "\r\n",
        "for row in ask_posts:\r\n",
        "    a_points = a_points + int(row[3])\r\n",
        "\r\n",
        "print(\"Total Number of points received by all ask posts:\", a_points, \"\\n\"\r\n",
        "      \"Avg. number of points per ask post:\", (a_points/len(ask_posts)), \"\\n\")\r\n",
        "\r\n",
        "for row in show_posts:\r\n",
        "    s_points = s_points + int(row[3])\r\n",
        "\r\n",
        "print(\"Total Number of points received by all show posts:\", s_points, \"\\n\",\r\n",
        "      \"Avg. number of points per show post:\", (s_points/len(show_posts)), \"\\n\")\r\n",
        "\r\n",
        "if (a_points/len(ask_posts)) > (s_points/len(show_posts)):\r\n",
        "    print(\"On average, number of points received is greater for a an ask post.\")\r\n",
        "else:\r\n",
        "    print(\"On average, number of points received is greater for a show post.\")"
      ],
      "execution_count": null,
      "outputs": [
        {
          "output_type": "stream",
          "text": [
            "Total Number of points received by all ask posts: 26268 \n",
            "Avg. number of points per ask post: 15.061926605504587 \n",
            "\n",
            "Total Number of points received by all show posts: 32019 \n",
            " Avg. number of points per show post: 27.555077452667813 \n",
            "\n",
            "On average, number of points received is greater for a show post.\n"
          ],
          "name": "stdout"
        }
      ]
    },
    {
      "cell_type": "markdown",
      "metadata": {
        "id": "gO3oqTBEvEQq"
      },
      "source": [
        "**which hours are Show HN posts more likely to receive higher points**"
      ]
    },
    {
      "cell_type": "markdown",
      "metadata": {
        "id": "eZ7Hdv5kvIdW"
      },
      "source": [
        "construct a list to hold the data we're interested in"
      ]
    },
    {
      "cell_type": "code",
      "metadata": {
        "colab": {
          "base_uri": "https://localhost:8080/"
        },
        "id": "OvNTqUjjtXYj",
        "outputId": "ab30196e-6154-4c59-9246-8e3a2e2d09c3"
      },
      "source": [
        "points_date = []\r\n",
        "\r\n",
        "for row in show_posts:\r\n",
        "    sublist = []\r\n",
        "    created_time = row[6]\r\n",
        "    points = int(row[3])\r\n",
        "    sublist.append(created_time)\r\n",
        "    sublist.append(points)\r\n",
        "    points_date.append(sublist)\r\n",
        "\r\n",
        "points_date[0:4]"
      ],
      "execution_count": null,
      "outputs": [
        {
          "output_type": "execute_result",
          "data": {
            "text/plain": [
              "[['11/25/2015 14:03', 26],\n",
              " ['11/29/2015 22:46', 747],\n",
              " ['4/28/2016 18:05', 1],\n",
              " ['7/28/2016 7:11', 3]]"
            ]
          },
          "metadata": {
            "tags": []
          },
          "execution_count": 14
        }
      ]
    },
    {
      "cell_type": "code",
      "metadata": {
        "colab": {
          "base_uri": "https://localhost:8080/"
        },
        "id": "l2bBBSqetXU2",
        "outputId": "d929584f-c3a7-4ac6-8cc1-6d6c6aba7077"
      },
      "source": [
        "show_counts_by_hour = {}\r\n",
        "points_by_hour = {}\r\n",
        "\r\n",
        "for row in points_date:\r\n",
        "    dt_obj = row[0]\r\n",
        "    dt_parsed = dt.datetime.strptime(dt_obj, \"%m/%d/%Y %H:%M\")\r\n",
        "    hr = dt.datetime.strftime(dt_parsed, \"%H\")\r\n",
        "    # print(hr)\r\n",
        "\r\n",
        "    if hr not in show_counts_by_hour:\r\n",
        "        show_counts_by_hour[hr] = 1\r\n",
        "        points_by_hour[hr] = int(row[1])\r\n",
        "    else:\r\n",
        "        show_counts_by_hour[hr] = show_counts_by_hour[hr] + 1\r\n",
        "        points_by_hour[hr] = points_by_hour[hr] + int(row[1])\r\n",
        "\r\n",
        "print(points_by_hour)\r\n",
        "print(show_counts_by_hour)"
      ],
      "execution_count": null,
      "outputs": [
        {
          "output_type": "stream",
          "text": [
            "{'14': 2187, '22': 1856, '18': 2215, '07': 494, '20': 1819, '05': 104, '16': 2634, '19': 1702, '15': 2228, '03': 679, '17': 2521, '06': 375, '02': 340, '13': 2438, '08': 519, '21': 866, '04': 386, '11': 1480, '12': 2543, '23': 1526, '09': 553, '01': 700, '10': 681, '00': 1173}\n",
            "{'14': 86, '22': 46, '18': 61, '07': 26, '20': 60, '05': 19, '16': 93, '19': 55, '15': 78, '03': 27, '17': 93, '06': 16, '02': 30, '13': 99, '08': 34, '21': 47, '04': 26, '11': 44, '12': 61, '23': 36, '09': 30, '01': 28, '10': 36, '00': 31}\n"
          ],
          "name": "stdout"
        }
      ]
    },
    {
      "cell_type": "code",
      "metadata": {
        "colab": {
          "base_uri": "https://localhost:8080/"
        },
        "id": "V7Xj4cVxtXR2",
        "outputId": "ee12237b-a9f2-414f-bb89-0f7fbbe91bd1"
      },
      "source": [
        "show_avg_by_hour = []\r\n",
        "\r\n",
        "for hour in points_by_hour:\r\n",
        "    show_avg_by_hour.append(\r\n",
        "        [hour, points_by_hour[hour]/show_counts_by_hour[hour]])\r\n",
        "\r\n",
        "show_avg_by_hour"
      ],
      "execution_count": null,
      "outputs": [
        {
          "output_type": "execute_result",
          "data": {
            "text/plain": [
              "[['14', 25.430232558139537],\n",
              " ['22', 40.34782608695652],\n",
              " ['18', 36.31147540983606],\n",
              " ['07', 19.0],\n",
              " ['20', 30.316666666666666],\n",
              " ['05', 5.473684210526316],\n",
              " ['16', 28.322580645161292],\n",
              " ['19', 30.945454545454545],\n",
              " ['15', 28.564102564102566],\n",
              " ['03', 25.14814814814815],\n",
              " ['17', 27.107526881720432],\n",
              " ['06', 23.4375],\n",
              " ['02', 11.333333333333334],\n",
              " ['13', 24.626262626262626],\n",
              " ['08', 15.264705882352942],\n",
              " ['21', 18.425531914893618],\n",
              " ['04', 14.846153846153847],\n",
              " ['11', 33.63636363636363],\n",
              " ['12', 41.68852459016394],\n",
              " ['23', 42.388888888888886],\n",
              " ['09', 18.433333333333334],\n",
              " ['01', 25.0],\n",
              " ['10', 18.916666666666668],\n",
              " ['00', 37.83870967741935]]"
            ]
          },
          "metadata": {
            "tags": []
          },
          "execution_count": 16
        }
      ]
    },
    {
      "cell_type": "code",
      "metadata": {
        "colab": {
          "base_uri": "https://localhost:8080/"
        },
        "id": "eIrEwhdwvpD3",
        "outputId": "be27b908-9c4b-4591-a165-faec64a6a7c1"
      },
      "source": [
        "swap_show_avg_by_hour = []\r\n",
        "for row in show_avg_by_hour:\r\n",
        "    # print(key)\r\n",
        "    # creating a sublist and appending it\r\n",
        "    sublist = []\r\n",
        "    sublist.append(row[1])\r\n",
        "    sublist.append(row[0])\r\n",
        "    swap_show_avg_by_hour.append(sublist)\r\n",
        "print(swap_show_avg_by_hour)"
      ],
      "execution_count": null,
      "outputs": [
        {
          "output_type": "stream",
          "text": [
            "[[25.430232558139537, '14'], [40.34782608695652, '22'], [36.31147540983606, '18'], [19.0, '07'], [30.316666666666666, '20'], [5.473684210526316, '05'], [28.322580645161292, '16'], [30.945454545454545, '19'], [28.564102564102566, '15'], [25.14814814814815, '03'], [27.107526881720432, '17'], [23.4375, '06'], [11.333333333333334, '02'], [24.626262626262626, '13'], [15.264705882352942, '08'], [18.425531914893618, '21'], [14.846153846153847, '04'], [33.63636363636363, '11'], [41.68852459016394, '12'], [42.388888888888886, '23'], [18.433333333333334, '09'], [25.0, '01'], [18.916666666666668, '10'], [37.83870967741935, '00']]\n"
          ],
          "name": "stdout"
        }
      ]
    },
    {
      "cell_type": "code",
      "metadata": {
        "colab": {
          "base_uri": "https://localhost:8080/"
        },
        "id": "QPMLopaJvo_f",
        "outputId": "876e7fb6-204d-45b0-9d34-062400f76970"
      },
      "source": [
        "#sorted function to arrange \r\n",
        "show_sorted_swap = sorted(swap_show_avg_by_hour, reverse = True)\r\n",
        "print(\"Top 5 hours for Show Posts Points\")\r\n",
        "\r\n",
        "for i in range(0,5):\r\n",
        "    obj = dt.datetime.strptime(show_sorted_swap[i][1],\"%H\") # Assigns what is what\r\n",
        "    obj_string = dt.datetime.strftime(obj, \"%H:%M\") #To final string\r\n",
        "    show_avg = show_sorted_swap[i][0]\r\n",
        "    template = '''\r\n",
        "    {}: {:.2f} average points per post    \r\n",
        "    '''\r\n",
        "    print(template.format(obj_string,show_avg))"
      ],
      "execution_count": null,
      "outputs": [
        {
          "output_type": "stream",
          "text": [
            "Top 5 hours for Show Posts Points\n",
            "\n",
            "    23:00: 42.39 average points per post    \n",
            "    \n",
            "\n",
            "    12:00: 41.69 average points per post    \n",
            "    \n",
            "\n",
            "    22:00: 40.35 average points per post    \n",
            "    \n",
            "\n",
            "    00:00: 37.84 average points per post    \n",
            "    \n",
            "\n",
            "    18:00: 36.31 average points per post    \n",
            "    \n"
          ],
          "name": "stdout"
        }
      ]
    },
    {
      "cell_type": "markdown",
      "metadata": {
        "id": "In_D1K4HvonA"
      },
      "source": [
        "Ans D: the best time for a show HN post is at 23:00 EST and on an average 12:00 and 22:00"
      ]
    },
    {
      "cell_type": "code",
      "metadata": {
        "id": "k9xlaWCUoVlI"
      },
      "source": [
        "import pandas as pd\r\n",
        "df=pd.read_csv('hackernews.csv')"
      ],
      "execution_count": null,
      "outputs": []
    },
    {
      "cell_type": "code",
      "metadata": {
        "colab": {
          "base_uri": "https://localhost:8080/",
          "height": 279
        },
        "id": "c7BTc8fkpYLS",
        "outputId": "b11de6a3-251b-4f2c-c115-21e4bfe25b4f"
      },
      "source": [
        "df.head()"
      ],
      "execution_count": null,
      "outputs": [
        {
          "output_type": "execute_result",
          "data": {
            "text/html": [
              "<div>\n",
              "<style scoped>\n",
              "    .dataframe tbody tr th:only-of-type {\n",
              "        vertical-align: middle;\n",
              "    }\n",
              "\n",
              "    .dataframe tbody tr th {\n",
              "        vertical-align: top;\n",
              "    }\n",
              "\n",
              "    .dataframe thead th {\n",
              "        text-align: right;\n",
              "    }\n",
              "</style>\n",
              "<table border=\"1\" class=\"dataframe\">\n",
              "  <thead>\n",
              "    <tr style=\"text-align: right;\">\n",
              "      <th></th>\n",
              "      <th>id</th>\n",
              "      <th>title</th>\n",
              "      <th>url</th>\n",
              "      <th>num_points</th>\n",
              "      <th>num_comments</th>\n",
              "      <th>author</th>\n",
              "      <th>created_at</th>\n",
              "    </tr>\n",
              "  </thead>\n",
              "  <tbody>\n",
              "    <tr>\n",
              "      <th>0</th>\n",
              "      <td>12224879</td>\n",
              "      <td>Interactive Dynamic Video</td>\n",
              "      <td>http://www.interactivedynamicvideo.com/</td>\n",
              "      <td>386</td>\n",
              "      <td>52</td>\n",
              "      <td>ne0phyte</td>\n",
              "      <td>8/4/2016 11:52</td>\n",
              "    </tr>\n",
              "    <tr>\n",
              "      <th>1</th>\n",
              "      <td>10975351</td>\n",
              "      <td>How to Use Open Source and Shut the Fuck Up at...</td>\n",
              "      <td>http://hueniverse.com/2016/01/26/how-to-use-op...</td>\n",
              "      <td>39</td>\n",
              "      <td>10</td>\n",
              "      <td>josep2</td>\n",
              "      <td>1/26/2016 19:30</td>\n",
              "    </tr>\n",
              "    <tr>\n",
              "      <th>2</th>\n",
              "      <td>11964716</td>\n",
              "      <td>Florida DJs May Face Felony for April Fools' W...</td>\n",
              "      <td>http://www.thewire.com/entertainment/2013/04/f...</td>\n",
              "      <td>2</td>\n",
              "      <td>1</td>\n",
              "      <td>vezycash</td>\n",
              "      <td>6/23/2016 22:20</td>\n",
              "    </tr>\n",
              "    <tr>\n",
              "      <th>3</th>\n",
              "      <td>11919867</td>\n",
              "      <td>Technology ventures: From Idea to Enterprise</td>\n",
              "      <td>https://www.amazon.com/Technology-Ventures-Ent...</td>\n",
              "      <td>3</td>\n",
              "      <td>1</td>\n",
              "      <td>hswarna</td>\n",
              "      <td>6/17/2016 0:01</td>\n",
              "    </tr>\n",
              "    <tr>\n",
              "      <th>4</th>\n",
              "      <td>10301696</td>\n",
              "      <td>Note by Note: The Making of Steinway L1037 (2007)</td>\n",
              "      <td>http://www.nytimes.com/2007/11/07/movies/07ste...</td>\n",
              "      <td>8</td>\n",
              "      <td>2</td>\n",
              "      <td>walterbell</td>\n",
              "      <td>9/30/2015 4:12</td>\n",
              "    </tr>\n",
              "  </tbody>\n",
              "</table>\n",
              "</div>"
            ],
            "text/plain": [
              "         id  ...       created_at\n",
              "0  12224879  ...   8/4/2016 11:52\n",
              "1  10975351  ...  1/26/2016 19:30\n",
              "2  11964716  ...  6/23/2016 22:20\n",
              "3  11919867  ...   6/17/2016 0:01\n",
              "4  10301696  ...   9/30/2015 4:12\n",
              "\n",
              "[5 rows x 7 columns]"
            ]
          },
          "metadata": {
            "tags": []
          },
          "execution_count": 51
        }
      ]
    },
    {
      "cell_type": "code",
      "metadata": {
        "id": "Ckc2n57VpZb0"
      },
      "source": [
        ""
      ],
      "execution_count": null,
      "outputs": []
    }
  ]
}