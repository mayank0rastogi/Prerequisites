{
  "nbformat": 4,
  "nbformat_minor": 0,
  "metadata": {
    "kernelspec": {
      "display_name": "Python 3",
      "language": "python",
      "name": "python3"
    },
    "language_info": {
      "codemirror_mode": {
        "name": "ipython",
        "version": 3
      },
      "file_extension": ".py",
      "mimetype": "text/x-python",
      "name": "python",
      "nbconvert_exporter": "python",
      "pygments_lexer": "ipython3",
      "version": "3.6.6"
    },
    "colab": {
      "name": "Dictionaries.ipynb",
      "provenance": [],
      "collapsed_sections": [],
      "toc_visible": true
    }
  },
  "cells": [
    {
      "cell_type": "markdown",
      "metadata": {
        "id": "5M4YUqy_30rK"
      },
      "source": [
        "# Dictionaries\n",
        "\n",
        "We've been learning about *sequences* in Python but now we're going to switch gears and learn about *mappings* in Python. If you're familiar with other languages you can think of these Dictionaries as hash tables. \n",
        "\n",
        "This section will serve as a brief introduction to dictionaries and consist of:\n",
        "\n",
        "    1.) Constructing a Dictionary\n",
        "    2.) Accessing objects from a dictionary\n",
        "    3.) Nesting Dictionaries\n",
        "    4.) Basic Dictionary Methods\n",
        "\n",
        "So what are mappings? Mappings are a collection of objects that are stored by a *key*, unlike a sequence that stored objects by their relative position. This is an important distinction, since mappings won't retain order since they have objects defined by a key.\n",
        "\n",
        "A Python dictionary consists of a key and then an associated value. That value can be almost any Python object.\n",
        "\n",
        "\n",
        "## Constructing a Dictionary\n",
        "Let's see how we can construct dictionaries to get a better understanding of how they work!"
      ]
    },
    {
      "cell_type": "code",
      "metadata": {
        "collapsed": true,
        "id": "oUNn3Mfd30rO"
      },
      "source": [
        "# Make a dictionary with {} and : to signify a key and a value\n",
        "#my_dict={}\n",
        "#print(type(my_dict))\n",
        "\n",
        "my_dict = {'key1':'value1','key2':'value2','key3':'value3'}"
      ],
      "execution_count": 2,
      "outputs": []
    },
    {
      "cell_type": "code",
      "metadata": {
        "id": "K7ldUkDg30rQ",
        "colab": {
          "base_uri": "https://localhost:8080/",
          "height": 35
        },
        "outputId": "8de80e1b-a503-42d2-c97f-c3fdac9007e5"
      },
      "source": [
        "# Call values by their key\n",
        "my_dict['key2']"
      ],
      "execution_count": 3,
      "outputs": [
        {
          "output_type": "execute_result",
          "data": {
            "application/vnd.google.colaboratory.intrinsic+json": {
              "type": "string"
            },
            "text/plain": [
              "'value2'"
            ]
          },
          "metadata": {
            "tags": []
          },
          "execution_count": 3
        }
      ]
    },
    {
      "cell_type": "markdown",
      "metadata": {
        "id": "tMc9p7Qg30rT"
      },
      "source": [
        "Its important to note that dictionaries are very flexible in the data types they can hold. For example:"
      ]
    },
    {
      "cell_type": "code",
      "metadata": {
        "collapsed": true,
        "id": "fGwLoKC730rU",
        "colab": {
          "base_uri": "https://localhost:8080/"
        },
        "outputId": "fd65b1dc-c01b-42d0-a623-e5aae4d64dbe"
      },
      "source": [
        "my_dict = {'key1':123,'key2':[42,23,33],'key3':['item-a','item-b','item-c']}\r\n",
        "my_dict"
      ],
      "execution_count": 4,
      "outputs": [
        {
          "output_type": "execute_result",
          "data": {
            "text/plain": [
              "{'key1': 123, 'key2': [42, 23, 33], 'key3': ['item-a', 'item-b', 'item-c']}"
            ]
          },
          "metadata": {
            "tags": []
          },
          "execution_count": 4
        }
      ]
    },
    {
      "cell_type": "code",
      "metadata": {
        "id": "7MQX7tQF30rV",
        "colab": {
          "base_uri": "https://localhost:8080/"
        },
        "outputId": "448152cc-1beb-4542-e89c-761218654986"
      },
      "source": [
        "# Let's call items from the dictionary\n",
        "my_dict['key3']"
      ],
      "execution_count": 5,
      "outputs": [
        {
          "output_type": "execute_result",
          "data": {
            "text/plain": [
              "['item-a', 'item-b', 'item-c']"
            ]
          },
          "metadata": {
            "tags": []
          },
          "execution_count": 5
        }
      ]
    },
    {
      "cell_type": "code",
      "metadata": {
        "colab": {
          "base_uri": "https://localhost:8080/",
          "height": 35
        },
        "id": "adpm-wLY30rW",
        "outputId": "ad3f6c64-aec4-4dff-9e72-bd1f8822d944"
      },
      "source": [
        "# Can call an index on that value\n",
        "my_dict['key3'][0]"
      ],
      "execution_count": 6,
      "outputs": [
        {
          "output_type": "execute_result",
          "data": {
            "application/vnd.google.colaboratory.intrinsic+json": {
              "type": "string"
            },
            "text/plain": [
              "'item-a'"
            ]
          },
          "metadata": {
            "tags": []
          },
          "execution_count": 6
        }
      ]
    },
    {
      "cell_type": "code",
      "metadata": {
        "id": "jIdkAvqc30rW",
        "colab": {
          "base_uri": "https://localhost:8080/",
          "height": 35
        },
        "outputId": "e35534b7-3932-4280-f10f-fbb081592cbe"
      },
      "source": [
        "# Can then even call methods on that value\n",
        "my_dict['key3'][0].upper()"
      ],
      "execution_count": 7,
      "outputs": [
        {
          "output_type": "execute_result",
          "data": {
            "application/vnd.google.colaboratory.intrinsic+json": {
              "type": "string"
            },
            "text/plain": [
              "'ITEM-A'"
            ]
          },
          "metadata": {
            "tags": []
          },
          "execution_count": 7
        }
      ]
    },
    {
      "cell_type": "markdown",
      "metadata": {
        "id": "Ye6HYLNQ30rX"
      },
      "source": [
        "We can affect the values of a key as well. For instance:"
      ]
    },
    {
      "cell_type": "code",
      "metadata": {
        "id": "QMzVyCIG30rY",
        "colab": {
          "base_uri": "https://localhost:8080/"
        },
        "outputId": "a8437afa-340b-42a5-a112-6ea6b15958cb"
      },
      "source": [
        "my_dict['key1']\r\n",
        "my_dict['key1']=129\r\n",
        "my_dict['key3'][0]=\"New Parcel\"\r\n",
        "#my_dict.pop('key12')\r\n",
        "my_dict"
      ],
      "execution_count": 8,
      "outputs": [
        {
          "output_type": "execute_result",
          "data": {
            "text/plain": [
              "{'key1': 129, 'key2': [42, 23, 33], 'key3': ['New Parcel', 'item-b', 'item-c']}"
            ]
          },
          "metadata": {
            "tags": []
          },
          "execution_count": 8
        }
      ]
    },
    {
      "cell_type": "code",
      "metadata": {
        "collapsed": true,
        "id": "_NjnOOAc30rf",
        "colab": {
          "base_uri": "https://localhost:8080/"
        },
        "outputId": "a5ab83a2-0496-4fc0-abb4-8a38d463277f"
      },
      "source": [
        "# Subtract 123 from the value\n",
        "my_dict['key1']=521\n",
        "my_dict['key1'] = my_dict['key1'] - 321\n",
        "my_dict['key3'][0]='new_item'\n",
        "my_dict['key3']=my_dict['key3'] + ['new_item2']\n",
        "my_dict\n",
        "\n",
        "\n"
      ],
      "execution_count": 9,
      "outputs": [
        {
          "output_type": "execute_result",
          "data": {
            "text/plain": [
              "{'key1': 200,\n",
              " 'key2': [42, 23, 33],\n",
              " 'key3': ['new_item', 'item-b', 'item-c', 'new_item2']}"
            ]
          },
          "metadata": {
            "tags": []
          },
          "execution_count": 9
        }
      ]
    },
    {
      "cell_type": "code",
      "metadata": {
        "colab": {
          "base_uri": "https://localhost:8080/"
        },
        "id": "ztBJ3bwgBsb-",
        "outputId": "26d2e64b-c2ab-41cc-db0b-bc9a7fd99791"
      },
      "source": [
        "#number of elements in dict -> len()\r\n",
        "len(my_dict)"
      ],
      "execution_count": 10,
      "outputs": [
        {
          "output_type": "execute_result",
          "data": {
            "text/plain": [
              "3"
            ]
          },
          "metadata": {
            "tags": []
          },
          "execution_count": 10
        }
      ]
    },
    {
      "cell_type": "code",
      "metadata": {
        "id": "BsfIqxRw30rf",
        "colab": {
          "base_uri": "https://localhost:8080/"
        },
        "outputId": "908490fe-f29d-4b03-c1ea-275009f7d242"
      },
      "source": [
        "#Check\n",
        "my_dict['key1']"
      ],
      "execution_count": 11,
      "outputs": [
        {
          "output_type": "execute_result",
          "data": {
            "text/plain": [
              "200"
            ]
          },
          "metadata": {
            "tags": []
          },
          "execution_count": 11
        }
      ]
    },
    {
      "cell_type": "markdown",
      "metadata": {
        "id": "1lx-l2gg30rg"
      },
      "source": [
        "A quick note, Python has a built-in method of doing a self subtraction or addition (or multiplication or division). We could have also used += or -= for the above statement. For example:"
      ]
    },
    {
      "cell_type": "code",
      "metadata": {
        "id": "bghajWyp30rh",
        "colab": {
          "base_uri": "https://localhost:8080/"
        },
        "outputId": "9c356e4f-3aa8-4fb1-d1e4-f28ea52620fe"
      },
      "source": [
        "# Set the object equal to itself minus 123 \n",
        "my_dict['key1'] -= 123\n",
        "my_dict['key1']"
      ],
      "execution_count": 12,
      "outputs": [
        {
          "output_type": "execute_result",
          "data": {
            "text/plain": [
              "77"
            ]
          },
          "metadata": {
            "tags": []
          },
          "execution_count": 12
        }
      ]
    },
    {
      "cell_type": "markdown",
      "metadata": {
        "id": "hyPcCrs830ri"
      },
      "source": [
        "We can also create keys by assignment. For instance if we started off with an empty dictionary, we could continually add to it:"
      ]
    },
    {
      "cell_type": "code",
      "metadata": {
        "collapsed": true,
        "id": "RV3dKEwS30rj",
        "colab": {
          "base_uri": "https://localhost:8080/"
        },
        "outputId": "9d301f9c-1cad-486f-8de9-931a60267f66"
      },
      "source": [
        "# Create a new dictionary\n",
        "d = {}\n",
        "\n",
        "type(d)"
      ],
      "execution_count": 13,
      "outputs": [
        {
          "output_type": "execute_result",
          "data": {
            "text/plain": [
              "dict"
            ]
          },
          "metadata": {
            "tags": []
          },
          "execution_count": 13
        }
      ]
    },
    {
      "cell_type": "code",
      "metadata": {
        "collapsed": true,
        "id": "0D7T6L-H30rk",
        "colab": {
          "base_uri": "https://localhost:8080/"
        },
        "outputId": "b0d2be25-c2bf-44c1-aa89-0969eac163a9"
      },
      "source": [
        "# Create a new key through assignment\n",
        "d['animal1'] = 'Cat'\n",
        "d\n"
      ],
      "execution_count": 15,
      "outputs": [
        {
          "output_type": "execute_result",
          "data": {
            "text/plain": [
              "{'animal1': 'Cat'}"
            ]
          },
          "metadata": {
            "tags": []
          },
          "execution_count": 15
        }
      ]
    },
    {
      "cell_type": "code",
      "metadata": {
        "collapsed": true,
        "id": "Ty61FLtC30rk",
        "colab": {
          "base_uri": "https://localhost:8080/"
        },
        "outputId": "a562970f-64c7-48b9-a457-776a00bfff4d"
      },
      "source": [
        "# Can do this with any object\n",
        "d['animal1'] = 'cat'\n",
        "d\n"
      ],
      "execution_count": 16,
      "outputs": [
        {
          "output_type": "execute_result",
          "data": {
            "text/plain": [
              "{'animal1': 'cat'}"
            ]
          },
          "metadata": {
            "tags": []
          },
          "execution_count": 16
        }
      ]
    },
    {
      "cell_type": "code",
      "metadata": {
        "id": "1l4dAs5330rl",
        "colab": {
          "base_uri": "https://localhost:8080/"
        },
        "outputId": "a8d3b145-2c6f-44ed-a9cd-f019dff6f51c"
      },
      "source": [
        "#Show\n",
        "d1={28:'v',29:'U',33:'78'}\n",
        "d.update(d1)\n",
        "d[\"Name1\"]=\"Rohit\"\n",
        "\n",
        "d"
      ],
      "execution_count": 17,
      "outputs": [
        {
          "output_type": "execute_result",
          "data": {
            "text/plain": [
              "{28: 'v', 29: 'U', 33: '78', 'Name1': 'Rohit', 'animal1': 'cat'}"
            ]
          },
          "metadata": {
            "tags": []
          },
          "execution_count": 17
        }
      ]
    },
    {
      "cell_type": "markdown",
      "metadata": {
        "id": "5kj3AdtT30rn"
      },
      "source": [
        "## Nesting with Dictionaries\n",
        "\n",
        "Hopefully you're starting to see how powerful Python is with its flexibility of nesting objects and calling methods on them. Let's see a dictionary nested inside a dictionary:"
      ]
    },
    {
      "cell_type": "code",
      "metadata": {
        "collapsed": true,
        "id": "hYz2QYv430rn",
        "colab": {
          "base_uri": "https://localhost:8080/"
        },
        "outputId": "7892da42-2c36-4b57-d3a9-d6feff4e7a99"
      },
      "source": [
        "# Dictionary nested inside a dictionary nested inside a dictionary\n",
        "d = {'key1':{'nestkey':{'subnestkey':'value'}}}\n",
        "d['key1']['nestkey']"
      ],
      "execution_count": 18,
      "outputs": [
        {
          "output_type": "execute_result",
          "data": {
            "text/plain": [
              "{'subnestkey': 'value'}"
            ]
          },
          "metadata": {
            "tags": []
          },
          "execution_count": 18
        }
      ]
    },
    {
      "cell_type": "markdown",
      "metadata": {
        "id": "yDSq-D_v30ro"
      },
      "source": [
        "Wow! That's a quite the inception of dictionaries! Let's see how we can grab that value:"
      ]
    },
    {
      "cell_type": "code",
      "metadata": {
        "id": "vAt0s7bZ30ro",
        "colab": {
          "base_uri": "https://localhost:8080/",
          "height": 35
        },
        "outputId": "26f9870b-2511-4652-c028-5ab1e835bc1c"
      },
      "source": [
        "# Keep calling the keys\n",
        "d['key1']['nestkey']['subnestkey']"
      ],
      "execution_count": 19,
      "outputs": [
        {
          "output_type": "execute_result",
          "data": {
            "application/vnd.google.colaboratory.intrinsic+json": {
              "type": "string"
            },
            "text/plain": [
              "'value'"
            ]
          },
          "metadata": {
            "tags": []
          },
          "execution_count": 19
        }
      ]
    },
    {
      "cell_type": "markdown",
      "metadata": {
        "id": "dQ50n70630rs"
      },
      "source": [
        "## A few Dictionary Methods\n",
        "\n",
        "There are a few methods we can call on a dictionary. Let's get a quick introduction to a few of them:"
      ]
    },
    {
      "cell_type": "code",
      "metadata": {
        "collapsed": true,
        "id": "HMJNfFvu30rv"
      },
      "source": [
        "# Create a typical dictionary\n",
        "d = {'key1':1,'key2':2,'key3':3}"
      ],
      "execution_count": 20,
      "outputs": []
    },
    {
      "cell_type": "code",
      "metadata": {
        "id": "mQ2sq__i30rw",
        "colab": {
          "base_uri": "https://localhost:8080/"
        },
        "outputId": "73be6c9d-0cd3-45cf-d7d1-8836547e31db"
      },
      "source": [
        "# Method to return a list of all keys \n",
        "d.keys()"
      ],
      "execution_count": 21,
      "outputs": [
        {
          "output_type": "execute_result",
          "data": {
            "text/plain": [
              "dict_keys(['key1', 'key2', 'key3'])"
            ]
          },
          "metadata": {
            "tags": []
          },
          "execution_count": 21
        }
      ]
    },
    {
      "cell_type": "code",
      "metadata": {
        "id": "5u2XcL2Z30rw",
        "colab": {
          "base_uri": "https://localhost:8080/"
        },
        "outputId": "0145a585-0e34-4c6a-df62-b12486b9d107"
      },
      "source": [
        "# Method to grab all values\n",
        "d.values()"
      ],
      "execution_count": 22,
      "outputs": [
        {
          "output_type": "execute_result",
          "data": {
            "text/plain": [
              "dict_values([1, 2, 3])"
            ]
          },
          "metadata": {
            "tags": []
          },
          "execution_count": 22
        }
      ]
    },
    {
      "cell_type": "code",
      "metadata": {
        "id": "Lo9QZSls30rx",
        "colab": {
          "base_uri": "https://localhost:8080/"
        },
        "outputId": "29550c74-3c7c-4532-e948-e08a866be239"
      },
      "source": [
        "# Method to return tuples of all items  (we'll learn about tuples soon)\n",
        "d.items()"
      ],
      "execution_count": 23,
      "outputs": [
        {
          "output_type": "execute_result",
          "data": {
            "text/plain": [
              "dict_items([('key1', 1), ('key2', 2), ('key3', 3)])"
            ]
          },
          "metadata": {
            "tags": []
          },
          "execution_count": 23
        }
      ]
    },
    {
      "cell_type": "code",
      "metadata": {
        "colab": {
          "base_uri": "https://localhost:8080/"
        },
        "id": "WT9GaNZFYlDk",
        "outputId": "52ee82f7-d193-4fd0-c08c-80caa0116692"
      },
      "source": [
        "d.update(d1)\r\n",
        "d"
      ],
      "execution_count": 24,
      "outputs": [
        {
          "output_type": "execute_result",
          "data": {
            "text/plain": [
              "{28: 'v', 29: 'U', 33: '78', 'key1': 1, 'key2': 2, 'key3': 3}"
            ]
          },
          "metadata": {
            "tags": []
          },
          "execution_count": 24
        }
      ]
    },
    {
      "cell_type": "code",
      "metadata": {
        "id": "ypLrIlCyY7bG"
      },
      "source": [
        ""
      ],
      "execution_count": 24,
      "outputs": []
    },
    {
      "cell_type": "markdown",
      "metadata": {
        "id": "Yrg_13qo30ry"
      },
      "source": [
        "Hopefully you now have a good basic understanding how to construct dictionaries. There's a lot more to go into here, but we will revisit dictionaries at later time. After this section all you need to know is how to create a dictionary and how to retrieve values from it."
      ]
    },
    {
      "cell_type": "code",
      "metadata": {
        "colab": {
          "base_uri": "https://localhost:8080/"
        },
        "id": "Ws0fzG5t_Bti",
        "outputId": "a2110e28-6c9b-45d1-bbc0-793a4b466d82"
      },
      "source": [
        "d\r\n",
        "k=7\r\n",
        "for i in d:\r\n",
        "  print(i)\r\n",
        "\r\n",
        "d.get('key1')\r\n",
        "d['key1']\r\n",
        "d.update({'k2':'v2'})\r\n",
        "d['k2']='v2'\r\n",
        "d"
      ],
      "execution_count": 27,
      "outputs": [
        {
          "output_type": "stream",
          "text": [
            "key1\n",
            "key2\n",
            "key3\n",
            "28\n",
            "29\n",
            "33\n",
            "k2\n"
          ],
          "name": "stdout"
        },
        {
          "output_type": "execute_result",
          "data": {
            "text/plain": [
              "{28: 'v', 29: 'U', 33: '78', 'k2': 'v2', 'key1': 1, 'key2': 2, 'key3': 3}"
            ]
          },
          "metadata": {
            "tags": []
          },
          "execution_count": 27
        }
      ]
    },
    {
      "cell_type": "code",
      "metadata": {
        "colab": {
          "base_uri": "https://localhost:8080/"
        },
        "id": "5BqEF1hTFDjT",
        "outputId": "4ce95314-b57f-4f84-e2c8-0ea9c2506e6b"
      },
      "source": [
        "d\r\n",
        "for i,j in d.items():\r\n",
        "  print(i,j)"
      ],
      "execution_count": 28,
      "outputs": [
        {
          "output_type": "stream",
          "text": [
            "key1 1\n",
            "key2 2\n",
            "key3 3\n",
            "28 v\n",
            "29 U\n",
            "33 78\n",
            "k2 v2\n"
          ],
          "name": "stdout"
        }
      ]
    },
    {
      "cell_type": "code",
      "metadata": {
        "colab": {
          "base_uri": "https://localhost:8080/"
        },
        "id": "zdSuCBxuFzh-",
        "outputId": "e7e35f27-b57f-4885-e43d-4c51e014fa3b"
      },
      "source": [
        "#d.pop('key3')\r\n",
        "d1={10:1,20:2,30:3}\r\n",
        "d.update(d1)\r\n",
        "d\r\n"
      ],
      "execution_count": 29,
      "outputs": [
        {
          "output_type": "execute_result",
          "data": {
            "text/plain": [
              "{10: 1,\n",
              " 20: 2,\n",
              " 28: 'v',\n",
              " 29: 'U',\n",
              " 30: 3,\n",
              " 33: '78',\n",
              " 'k2': 'v2',\n",
              " 'key1': 1,\n",
              " 'key2': 2,\n",
              " 'key3': 3}"
            ]
          },
          "metadata": {
            "tags": []
          },
          "execution_count": 29
        }
      ]
    },
    {
      "cell_type": "code",
      "metadata": {
        "colab": {
          "base_uri": "https://localhost:8080/"
        },
        "id": "dRuem8PHdr0e",
        "outputId": "39a6d3af-f186-4b2e-e16c-712e97dcd3b1"
      },
      "source": [
        "d\r\n",
        "\"\"\"\r\n",
        "for i in range(5):\r\n",
        "  a=input(\"\")\r\n",
        "  b=input(\"\")\r\n",
        "  d.update({a:b})\r\n",
        "\"\"\"\r\n",
        "for i,j in d.items():\r\n",
        "  print(i,j)\r\n",
        "#d.pop('key2')\r\n",
        "d"
      ],
      "execution_count": 31,
      "outputs": [
        {
          "output_type": "stream",
          "text": [
            "key1 1\n",
            "key2 2\n",
            "key3 3\n",
            "28 v\n",
            "29 U\n",
            "33 78\n",
            "k2 v2\n",
            "10 1\n",
            "20 2\n",
            "30 3\n"
          ],
          "name": "stdout"
        },
        {
          "output_type": "execute_result",
          "data": {
            "text/plain": [
              "{10: 1,\n",
              " 20: 2,\n",
              " 28: 'v',\n",
              " 29: 'U',\n",
              " 30: 3,\n",
              " 33: '78',\n",
              " 'k2': 'v2',\n",
              " 'key1': 1,\n",
              " 'key2': 2,\n",
              " 'key3': 3}"
            ]
          },
          "metadata": {
            "tags": []
          },
          "execution_count": 31
        }
      ]
    },
    {
      "cell_type": "code",
      "metadata": {
        "colab": {
          "base_uri": "https://localhost:8080/"
        },
        "id": "vZtYHQfFY9DY",
        "outputId": "038f87e1-e043-4235-f723-9d8adf5c58f4"
      },
      "source": [
        "for i in d:\r\n",
        "  d[i]=0\r\n",
        "\r\n",
        "#del d[29]\r\n",
        "d\r\n",
        "\r\n",
        "\r\n"
      ],
      "execution_count": 32,
      "outputs": [
        {
          "output_type": "execute_result",
          "data": {
            "text/plain": [
              "{10: 0,\n",
              " 20: 0,\n",
              " 28: 0,\n",
              " 29: 0,\n",
              " 30: 0,\n",
              " 33: 0,\n",
              " 'k2': 0,\n",
              " 'key1': 0,\n",
              " 'key2': 0,\n",
              " 'key3': 0}"
            ]
          },
          "metadata": {
            "tags": []
          },
          "execution_count": 32
        }
      ]
    },
    {
      "cell_type": "code",
      "metadata": {
        "id": "xAnJATuTbRwB"
      },
      "source": [
        "d={28: 'v', 29: 'U', 33: 78, 'key123': 1, 'key72': 2, 'key23': 3}\r\n",
        "\r\n"
      ],
      "execution_count": 33,
      "outputs": []
    }
  ]
}