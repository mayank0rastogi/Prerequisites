{
  "nbformat": 4,
  "nbformat_minor": 0,
  "metadata": {
    "colab": {
      "name": "Lists.ipynb",
      "provenance": [],
      "collapsed_sections": [],
      "toc_visible": true
    },
    "kernelspec": {
      "display_name": "Python 3",
      "language": "python",
      "name": "python3"
    },
    "language_info": {
      "codemirror_mode": {
        "name": "ipython",
        "version": 3
      },
      "file_extension": ".py",
      "mimetype": "text/x-python",
      "name": "python",
      "nbconvert_exporter": "python",
      "pygments_lexer": "ipython3",
      "version": "3.6.6"
    }
  },
  "cells": [
    {
      "cell_type": "markdown",
      "metadata": {
        "id": "bPTb74Q--GyD"
      },
      "source": [
        "# Lists\n",
        "\n",
        "Earlier when discussing strings we introduced the concept of a *sequence* in Python. Lists can be thought of the most general version of a *sequence* in Python. Unlike strings, they are mutable, meaning the elements inside a list can be changed!\n",
        "\n",
        "In this section we will learn about:\n",
        "    \n",
        "    1.) Creating lists\n",
        "    2.) Indexing and Slicing Lists\n",
        "    3.) Basic List Methods\n",
        "    4.) Nesting Lists\n",
        "    5.) Introduction to List Comprehensions\n",
        "\n",
        "Lists are constructed with brackets [] and commas separating every element in the list.\n",
        "\n",
        "Let's go ahead and see how we can construct lists!"
      ]
    },
    {
      "cell_type": "code",
      "metadata": {
        "colab": {
          "base_uri": "https://localhost:8080/"
        },
        "collapsed": true,
        "id": "_uye_zis-GyE",
        "outputId": "e0cbe6ba-7bc5-4b85-8362-7a4bb1b9ec87"
      },
      "source": [
        "# Assign a list to an variable named my_list\n",
        "my_list = [10,9,8,7,6,5,4,3,2,1]\n",
        "\n",
        "print(my_list)\n",
        "\n",
        "list1=[]\n",
        "print(list1)"
      ],
      "execution_count": 1,
      "outputs": [
        {
          "output_type": "stream",
          "text": [
            "[10, 9, 8, 7, 6, 5, 4, 3, 2, 1]\n",
            "[]\n"
          ],
          "name": "stdout"
        }
      ]
    },
    {
      "cell_type": "markdown",
      "metadata": {
        "id": "Qg3bTxcd-GyG"
      },
      "source": [
        "We just created a list of integers, but lists can actually hold different object types. For example:"
      ]
    },
    {
      "cell_type": "code",
      "metadata": {
        "collapsed": true,
        "id": "21TXcjOX-GyI"
      },
      "source": [
        "my_list = ['string',23,100.232,'o',True]"
      ],
      "execution_count": 2,
      "outputs": []
    },
    {
      "cell_type": "markdown",
      "metadata": {
        "id": "ZIsb086Z-GyL"
      },
      "source": [
        "Just like strings, the len() function will tell you how many items are in the sequence of the list."
      ]
    },
    {
      "cell_type": "code",
      "metadata": {
        "colab": {
          "base_uri": "https://localhost:8080/"
        },
        "id": "MJktzw5k-GyL",
        "outputId": "0c3d1ef3-f0e6-43ac-d365-a9506593b941"
      },
      "source": [
        "len(my_list)"
      ],
      "execution_count": 3,
      "outputs": [
        {
          "output_type": "execute_result",
          "data": {
            "text/plain": [
              "5"
            ]
          },
          "metadata": {
            "tags": []
          },
          "execution_count": 3
        }
      ]
    },
    {
      "cell_type": "markdown",
      "metadata": {
        "id": "9jwUjG7G-GyN"
      },
      "source": [
        "### Indexing and Slicing\n",
        "Indexing and slicing work just like in strings. Let's make a new list to remind ourselves of how this works:"
      ]
    },
    {
      "cell_type": "code",
      "metadata": {
        "collapsed": true,
        "id": "Go3zQm8C-GyO"
      },
      "source": [
        "my_list = ['one','two','three',4,5]"
      ],
      "execution_count": 4,
      "outputs": []
    },
    {
      "cell_type": "code",
      "metadata": {
        "colab": {
          "base_uri": "https://localhost:8080/",
          "height": 35
        },
        "id": "LJz-GdMN-GyP",
        "outputId": "d00864d8-ee04-4627-f6fc-48abb7f2bfec"
      },
      "source": [
        "# Grab element at index 0\n",
        "my_list[0]"
      ],
      "execution_count": 5,
      "outputs": [
        {
          "output_type": "execute_result",
          "data": {
            "application/vnd.google.colaboratory.intrinsic+json": {
              "type": "string"
            },
            "text/plain": [
              "'one'"
            ]
          },
          "metadata": {
            "tags": []
          },
          "execution_count": 5
        }
      ]
    },
    {
      "cell_type": "code",
      "metadata": {
        "colab": {
          "base_uri": "https://localhost:8080/"
        },
        "id": "rIlJDkSf-GyP",
        "outputId": "73e79744-2f37-4ec3-a058-611d03c444cf"
      },
      "source": [
        "# Grab index 1 and everything past it\n",
        "my_list[0:4]"
      ],
      "execution_count": 6,
      "outputs": [
        {
          "output_type": "execute_result",
          "data": {
            "text/plain": [
              "['one', 'two', 'three', 4]"
            ]
          },
          "metadata": {
            "tags": []
          },
          "execution_count": 6
        }
      ]
    },
    {
      "cell_type": "code",
      "metadata": {
        "colab": {
          "base_uri": "https://localhost:8080/"
        },
        "id": "gzSfM4Mc-GyQ",
        "outputId": "f9e4cf99-5ca8-421e-c49c-afa7d3a00251"
      },
      "source": [
        "# Grab everything UP TO index 3\n",
        "my_list[:3]\n",
        "my_list[::-1]"
      ],
      "execution_count": 7,
      "outputs": [
        {
          "output_type": "execute_result",
          "data": {
            "text/plain": [
              "[5, 4, 'three', 'two', 'one']"
            ]
          },
          "metadata": {
            "tags": []
          },
          "execution_count": 7
        }
      ]
    },
    {
      "cell_type": "markdown",
      "metadata": {
        "id": "C9posVQa-GyR"
      },
      "source": [
        "We can also use + to concatenate lists, just like we did for strings."
      ]
    },
    {
      "cell_type": "code",
      "metadata": {
        "colab": {
          "base_uri": "https://localhost:8080/"
        },
        "id": "qjwlr3MS-GyR",
        "outputId": "e3700fa2-3dd1-4277-9dff-aa34188bf3c7"
      },
      "source": [
        "#my_list=my_list + ['new item']\r\n",
        "\r\n",
        "\r\n",
        "my_list=[10,14,45]\r\n",
        "\r\n",
        "my_list + [\"Hello\"]\r\n"
      ],
      "execution_count": 8,
      "outputs": [
        {
          "output_type": "execute_result",
          "data": {
            "text/plain": [
              "[10, 14, 45, 'Hello']"
            ]
          },
          "metadata": {
            "tags": []
          },
          "execution_count": 8
        }
      ]
    },
    {
      "cell_type": "markdown",
      "metadata": {
        "id": "0yQ_yNq2-GyS"
      },
      "source": [
        "Note: This doesn't actually change the original list!"
      ]
    },
    {
      "cell_type": "code",
      "metadata": {
        "id": "8X4mTzXQ-GyS",
        "colab": {
          "base_uri": "https://localhost:8080/"
        },
        "outputId": "49768cff-92b1-4c81-f4e7-3cfb06bc4a66"
      },
      "source": [
        "my_list"
      ],
      "execution_count": 9,
      "outputs": [
        {
          "output_type": "execute_result",
          "data": {
            "text/plain": [
              "[10, 14, 45]"
            ]
          },
          "metadata": {
            "tags": []
          },
          "execution_count": 9
        }
      ]
    },
    {
      "cell_type": "markdown",
      "metadata": {
        "id": "wcT5rUoo-GyT"
      },
      "source": [
        "You would have to reassign the list to make the change permanent."
      ]
    },
    {
      "cell_type": "code",
      "metadata": {
        "collapsed": true,
        "id": "SABw-vEV-GyU"
      },
      "source": [
        "# Reassign\n",
        "my_list = my_list + ['add new item permanently']"
      ],
      "execution_count": 10,
      "outputs": []
    },
    {
      "cell_type": "code",
      "metadata": {
        "colab": {
          "base_uri": "https://localhost:8080/"
        },
        "id": "kccTRSqB-GyU",
        "outputId": "fea14a24-82a2-45e1-8c42-0a5439ea459b"
      },
      "source": [
        "my_list\r\n",
        "\r\n"
      ],
      "execution_count": 11,
      "outputs": [
        {
          "output_type": "execute_result",
          "data": {
            "text/plain": [
              "[10, 14, 45, 'add new item permanently']"
            ]
          },
          "metadata": {
            "tags": []
          },
          "execution_count": 11
        }
      ]
    },
    {
      "cell_type": "code",
      "metadata": {
        "colab": {
          "base_uri": "https://localhost:8080/"
        },
        "id": "gkZx_YEjHkvF",
        "outputId": "c82e7359-39a0-4d4d-81ff-8387577ab5a8"
      },
      "source": [
        "lst=[1,2,3,5]\r\n",
        "lst=lst + [7,9,\"hello\"]\r\n",
        "lst"
      ],
      "execution_count": 12,
      "outputs": [
        {
          "output_type": "execute_result",
          "data": {
            "text/plain": [
              "[1, 2, 3, 5, 7, 9, 'hello']"
            ]
          },
          "metadata": {
            "tags": []
          },
          "execution_count": 12
        }
      ]
    },
    {
      "cell_type": "markdown",
      "metadata": {
        "id": "WCuBPdut-GyV"
      },
      "source": [
        "We can also use the * for a duplication method similar to strings:"
      ]
    },
    {
      "cell_type": "code",
      "metadata": {
        "colab": {
          "base_uri": "https://localhost:8080/"
        },
        "id": "TG2uJc_q-GyV",
        "outputId": "3c9f5d5c-3e65-431c-a8dc-537e8e6613d8"
      },
      "source": [
        "# Make the list double\n",
        "lst * 3"
      ],
      "execution_count": 13,
      "outputs": [
        {
          "output_type": "execute_result",
          "data": {
            "text/plain": [
              "[1,\n",
              " 2,\n",
              " 3,\n",
              " 5,\n",
              " 7,\n",
              " 9,\n",
              " 'hello',\n",
              " 1,\n",
              " 2,\n",
              " 3,\n",
              " 5,\n",
              " 7,\n",
              " 9,\n",
              " 'hello',\n",
              " 1,\n",
              " 2,\n",
              " 3,\n",
              " 5,\n",
              " 7,\n",
              " 9,\n",
              " 'hello']"
            ]
          },
          "metadata": {
            "tags": []
          },
          "execution_count": 13
        }
      ]
    },
    {
      "cell_type": "code",
      "metadata": {
        "colab": {
          "base_uri": "https://localhost:8080/"
        },
        "id": "gE-8X9X9-GyW",
        "outputId": "3550967d-45bd-4020-f75f-3fc80000ba89"
      },
      "source": [
        "# Again doubling not permanent\n",
        "my_list=my_list*3\n",
        "my_list"
      ],
      "execution_count": 14,
      "outputs": [
        {
          "output_type": "execute_result",
          "data": {
            "text/plain": [
              "[10,\n",
              " 14,\n",
              " 45,\n",
              " 'add new item permanently',\n",
              " 10,\n",
              " 14,\n",
              " 45,\n",
              " 'add new item permanently',\n",
              " 10,\n",
              " 14,\n",
              " 45,\n",
              " 'add new item permanently']"
            ]
          },
          "metadata": {
            "tags": []
          },
          "execution_count": 14
        }
      ]
    },
    {
      "cell_type": "markdown",
      "metadata": {
        "id": "sXPYph92-GyW"
      },
      "source": [
        "## Basic List Methods\n",
        "\n",
        "If you are familiar with another programming language, you might start to draw parallels between arrays in another language and lists in Python. Lists in Python however, tend to be more flexible than arrays in other languages for a two good reasons: they have no fixed size (meaning we don't have to specify how big a list will be), and they have no fixed type constraint (like we've seen above).\n",
        "\n",
        "Let's go ahead and explore some more special methods for lists:"
      ]
    },
    {
      "cell_type": "code",
      "metadata": {
        "collapsed": true,
        "id": "cbr8IVST-GyX"
      },
      "source": [
        "# Create a new list\n",
        "list1 = [1,2,3]"
      ],
      "execution_count": 15,
      "outputs": []
    },
    {
      "cell_type": "markdown",
      "metadata": {
        "id": "VuDZ0tQk-GyY"
      },
      "source": [
        "Use the **append** method to permanently add an item to the end of a list:"
      ]
    },
    {
      "cell_type": "code",
      "metadata": {
        "collapsed": true,
        "id": "HfR1NzuE-Gya"
      },
      "source": [
        "# Append\n",
        "\n",
        "list1.append('append me!')"
      ],
      "execution_count": 16,
      "outputs": []
    },
    {
      "cell_type": "code",
      "metadata": {
        "colab": {
          "base_uri": "https://localhost:8080/"
        },
        "id": "DVhWW35R-Gya",
        "outputId": "1cfee7a5-843d-4d0a-b31b-16a1c1b40d93"
      },
      "source": [
        "# Show\n",
        "list1"
      ],
      "execution_count": 17,
      "outputs": [
        {
          "output_type": "execute_result",
          "data": {
            "text/plain": [
              "[1, 2, 3, 'append me!']"
            ]
          },
          "metadata": {
            "tags": []
          },
          "execution_count": 17
        }
      ]
    },
    {
      "cell_type": "markdown",
      "metadata": {
        "id": "UU3a9npj-Gyb"
      },
      "source": [
        "Use **pop** to \"pop off\" an item from the list. By default pop takes off the last index, but you can also specify which index to pop off. Let's see an example:"
      ]
    },
    {
      "cell_type": "code",
      "metadata": {
        "colab": {
          "base_uri": "https://localhost:8080/"
        },
        "id": "aKekkosi-Gyc",
        "outputId": "bd86b380-5bea-4118-df63-b98a53bbad49"
      },
      "source": [
        "# Pop off the 0 indexed item\n",
        "list1.pop(0)\n",
        "list1"
      ],
      "execution_count": 18,
      "outputs": [
        {
          "output_type": "execute_result",
          "data": {
            "text/plain": [
              "[2, 3, 'append me!']"
            ]
          },
          "metadata": {
            "tags": []
          },
          "execution_count": 18
        }
      ]
    },
    {
      "cell_type": "code",
      "metadata": {
        "colab": {
          "base_uri": "https://localhost:8080/"
        },
        "id": "3n04dFQ6-Gyd",
        "outputId": "3b18f138-c550-4e03-a335-5c7061581f58"
      },
      "source": [
        "# Show\n",
        "list1.pop()\n",
        "list1"
      ],
      "execution_count": 19,
      "outputs": [
        {
          "output_type": "execute_result",
          "data": {
            "text/plain": [
              "[2, 3]"
            ]
          },
          "metadata": {
            "tags": []
          },
          "execution_count": 19
        }
      ]
    },
    {
      "cell_type": "code",
      "metadata": {
        "collapsed": true,
        "id": "9nsLOML6-Gye"
      },
      "source": [
        "# Assign the popped element, remember default popped index is -1\n",
        "popped_item = list1.pop()"
      ],
      "execution_count": 20,
      "outputs": []
    },
    {
      "cell_type": "code",
      "metadata": {
        "colab": {
          "base_uri": "https://localhost:8080/"
        },
        "id": "r2w7FyvD-Gye",
        "outputId": "cd287319-9d37-4b27-8e4f-08dd9a56807f"
      },
      "source": [
        "popped_item"
      ],
      "execution_count": 21,
      "outputs": [
        {
          "output_type": "execute_result",
          "data": {
            "text/plain": [
              "3"
            ]
          },
          "metadata": {
            "tags": []
          },
          "execution_count": 21
        }
      ]
    },
    {
      "cell_type": "code",
      "metadata": {
        "colab": {
          "base_uri": "https://localhost:8080/"
        },
        "id": "zg04TTXq-Gyf",
        "outputId": "e2986ff0-0e2f-46f9-fb3c-fd146a983688"
      },
      "source": [
        "# Show remaining list\n",
        "list1"
      ],
      "execution_count": 22,
      "outputs": [
        {
          "output_type": "execute_result",
          "data": {
            "text/plain": [
              "[2]"
            ]
          },
          "metadata": {
            "tags": []
          },
          "execution_count": 22
        }
      ]
    },
    {
      "cell_type": "markdown",
      "metadata": {
        "id": "HQg0N6W3-Gyg"
      },
      "source": [
        "It should also be noted that lists indexing will return an error if there is no element at that index. For example:"
      ]
    },
    {
      "cell_type": "code",
      "metadata": {
        "colab": {
          "base_uri": "https://localhost:8080/",
          "height": 162
        },
        "id": "vqsCm8qb-Gyg",
        "outputId": "a73934ad-d2ed-4728-d7ef-4ee489ca25fc"
      },
      "source": [
        "list1[100]"
      ],
      "execution_count": 23,
      "outputs": [
        {
          "output_type": "error",
          "ename": "IndexError",
          "evalue": "ignored",
          "traceback": [
            "\u001b[0;31m---------------------------------------------------------------------------\u001b[0m",
            "\u001b[0;31mIndexError\u001b[0m                                Traceback (most recent call last)",
            "\u001b[0;32m<ipython-input-23-af6d2015fa1f>\u001b[0m in \u001b[0;36m<module>\u001b[0;34m()\u001b[0m\n\u001b[0;32m----> 1\u001b[0;31m \u001b[0mlist1\u001b[0m\u001b[0;34m[\u001b[0m\u001b[0;36m100\u001b[0m\u001b[0;34m]\u001b[0m\u001b[0;34m\u001b[0m\u001b[0;34m\u001b[0m\u001b[0m\n\u001b[0m",
            "\u001b[0;31mIndexError\u001b[0m: list index out of range"
          ]
        }
      ]
    },
    {
      "cell_type": "markdown",
      "metadata": {
        "id": "6nbBb1lc-Gyh"
      },
      "source": [
        "We can use the **sort** method and the **reverse** methods to also effect your lists:"
      ]
    },
    {
      "cell_type": "code",
      "metadata": {
        "collapsed": true,
        "id": "xGcEpSG2-Gyh"
      },
      "source": [
        "new_list = ['a','e','x','b','c']"
      ],
      "execution_count": 24,
      "outputs": []
    },
    {
      "cell_type": "code",
      "metadata": {
        "colab": {
          "base_uri": "https://localhost:8080/"
        },
        "id": "Ut2V1kFe-Gyh",
        "outputId": "b7116057-5bb1-430c-b10b-b66489ba2ad5"
      },
      "source": [
        "#Show\n",
        "new_list"
      ],
      "execution_count": 25,
      "outputs": [
        {
          "output_type": "execute_result",
          "data": {
            "text/plain": [
              "['a', 'e', 'x', 'b', 'c']"
            ]
          },
          "metadata": {
            "tags": []
          },
          "execution_count": 25
        }
      ]
    },
    {
      "cell_type": "code",
      "metadata": {
        "colab": {
          "base_uri": "https://localhost:8080/"
        },
        "collapsed": true,
        "id": "rhkt4dSc-Gyi",
        "outputId": "4560b9e8-3d86-4a2d-f096-95f63eb6e2c1"
      },
      "source": [
        "# Use reverse to reverse order (this is permanent!)\n",
        "print(new_list)\n",
        "new_list.reverse()\n",
        "print(new_list)\n",
        "\n",
        "\n",
        "new_list=new_list[::-1]\n"
      ],
      "execution_count": 26,
      "outputs": [
        {
          "output_type": "stream",
          "text": [
            "['a', 'e', 'x', 'b', 'c']\n",
            "['c', 'b', 'x', 'e', 'a']\n"
          ],
          "name": "stdout"
        }
      ]
    },
    {
      "cell_type": "code",
      "metadata": {
        "colab": {
          "base_uri": "https://localhost:8080/"
        },
        "id": "mYDF-jej-Gyj",
        "outputId": "e78158be-9a63-4953-ff9d-66715011c87c"
      },
      "source": [
        "new_list"
      ],
      "execution_count": 27,
      "outputs": [
        {
          "output_type": "execute_result",
          "data": {
            "text/plain": [
              "['a', 'e', 'x', 'b', 'c']"
            ]
          },
          "metadata": {
            "tags": []
          },
          "execution_count": 27
        }
      ]
    },
    {
      "cell_type": "code",
      "metadata": {
        "collapsed": true,
        "id": "5aOB5Vg4-Gyj"
      },
      "source": [
        "# Use sort to sort the list (in this case alphabetical order, but for numbers it will go ascending)\n",
        "#new_list.sort()\n",
        "new_list.sort(reverse=True)"
      ],
      "execution_count": 28,
      "outputs": []
    },
    {
      "cell_type": "code",
      "metadata": {
        "colab": {
          "base_uri": "https://localhost:8080/"
        },
        "id": "xkLv86U--Gyj",
        "outputId": "9b2c53ab-1658-4dd2-d12f-5491b5d794da"
      },
      "source": [
        "new_list"
      ],
      "execution_count": 29,
      "outputs": [
        {
          "output_type": "execute_result",
          "data": {
            "text/plain": [
              "['x', 'e', 'c', 'b', 'a']"
            ]
          },
          "metadata": {
            "tags": []
          },
          "execution_count": 29
        }
      ]
    },
    {
      "cell_type": "markdown",
      "metadata": {
        "id": "f1HVvm3I-Gyk"
      },
      "source": [
        "## Nesting Lists\n",
        "A great feature of of Python data structures is that they support *nesting*. This means we can have data structures within data structures. For example: A list inside a list.\n",
        "\n",
        "Let's see how this works!"
      ]
    },
    {
      "cell_type": "code",
      "metadata": {
        "collapsed": true,
        "id": "mBiEQln7-Gyl"
      },
      "source": [
        "# Let's make three lists\n",
        "lst_1=[1,2,3]\n",
        "lst_2=[4,5,6]\n",
        "lst_3=[7,8,9]\n",
        "\n",
        "# Make a list of lists to form a matrix\n",
        "matrix = [lst_1,lst_2,lst_3]"
      ],
      "execution_count": 30,
      "outputs": []
    },
    {
      "cell_type": "code",
      "metadata": {
        "colab": {
          "base_uri": "https://localhost:8080/"
        },
        "id": "GNwplZFp-Gyl",
        "outputId": "a34f8deb-ee8e-4d8d-e389-7bbfb9d03b40"
      },
      "source": [
        "# Show\n",
        "matrix"
      ],
      "execution_count": 31,
      "outputs": [
        {
          "output_type": "execute_result",
          "data": {
            "text/plain": [
              "[[1, 2, 3], [4, 5, 6], [7, 8, 9]]"
            ]
          },
          "metadata": {
            "tags": []
          },
          "execution_count": 31
        }
      ]
    },
    {
      "cell_type": "markdown",
      "metadata": {
        "id": "7MqX4MYj-Gyn"
      },
      "source": [
        "We can again use indexing to grab elements, but now there are two levels for the index. The items in the matrix object, and then the items inside that list!"
      ]
    },
    {
      "cell_type": "code",
      "metadata": {
        "colab": {
          "base_uri": "https://localhost:8080/"
        },
        "id": "AzM6QMqz-Gyo",
        "outputId": "26f06c0e-c91a-4314-ac53-b00428236495"
      },
      "source": [
        "# Grab first item in matrix object\n",
        "matrix[-1][-1]"
      ],
      "execution_count": 32,
      "outputs": [
        {
          "output_type": "execute_result",
          "data": {
            "text/plain": [
              "9"
            ]
          },
          "metadata": {
            "tags": []
          },
          "execution_count": 32
        }
      ]
    },
    {
      "cell_type": "code",
      "metadata": {
        "colab": {
          "base_uri": "https://localhost:8080/"
        },
        "id": "bt8h832x-Gyp",
        "outputId": "8d5df938-5f28-4a76-c6bf-3c70139e054c"
      },
      "source": [
        "# Grab first item of the first item in the matrix object\n",
        "matrix[0][0]\n",
        "matrix[:2]"
      ],
      "execution_count": 33,
      "outputs": [
        {
          "output_type": "execute_result",
          "data": {
            "text/plain": [
              "[[1, 2, 3], [4, 5, 6]]"
            ]
          },
          "metadata": {
            "tags": []
          },
          "execution_count": 33
        }
      ]
    },
    {
      "cell_type": "markdown",
      "metadata": {
        "id": "VQS-ILM5-Gyq"
      },
      "source": [
        "# List Comprehensions\n",
        "Python has an advanced feature called list comprehensions. They allow for quick construction of lists. To fully understand list comprehensions we need to understand for loops. So don't worry if you don't completely understand this section, and feel free to just skip it since we will return to this topic later.\n",
        "\n",
        "But in case you want to know now, here are a few examples!"
      ]
    },
    {
      "cell_type": "code",
      "metadata": {
        "colab": {
          "base_uri": "https://localhost:8080/"
        },
        "id": "YfM1x6_HDox3",
        "outputId": "ee43479c-0b94-410d-be12-b8086261f5d6"
      },
      "source": [
        "print(matrix)\r\n",
        "temp_list=[]\r\n",
        "for i in matrix:\r\n",
        "  temp_list.append(i[0])\r\n",
        "temp_list "
      ],
      "execution_count": 34,
      "outputs": [
        {
          "output_type": "stream",
          "text": [
            "[[1, 2, 3], [4, 5, 6], [7, 8, 9]]\n"
          ],
          "name": "stdout"
        },
        {
          "output_type": "execute_result",
          "data": {
            "text/plain": [
              "[1, 4, 7]"
            ]
          },
          "metadata": {
            "tags": []
          },
          "execution_count": 34
        }
      ]
    },
    {
      "cell_type": "code",
      "metadata": {
        "colab": {
          "base_uri": "https://localhost:8080/"
        },
        "collapsed": true,
        "id": "dEf5r-Vh-Gyq",
        "outputId": "a6359d8d-3c3b-4aa9-e9b3-6d26fbef863e"
      },
      "source": [
        "# Build a list comprehension by deconstructing a for loop within a []\n",
        "print(matrix)\n",
        "first_col = [row[0] for row in matrix]"
      ],
      "execution_count": 35,
      "outputs": [
        {
          "output_type": "stream",
          "text": [
            "[[1, 2, 3], [4, 5, 6], [7, 8, 9]]\n"
          ],
          "name": "stdout"
        }
      ]
    },
    {
      "cell_type": "code",
      "metadata": {
        "colab": {
          "base_uri": "https://localhost:8080/"
        },
        "id": "tHymjRVE-Gyq",
        "outputId": "d059e5d5-1bd9-4f0d-ba42-94aa4c737a40"
      },
      "source": [
        "first_col"
      ],
      "execution_count": 36,
      "outputs": [
        {
          "output_type": "execute_result",
          "data": {
            "text/plain": [
              "[1, 4, 7]"
            ]
          },
          "metadata": {
            "tags": []
          },
          "execution_count": 36
        }
      ]
    },
    {
      "cell_type": "code",
      "metadata": {
        "colab": {
          "base_uri": "https://localhost:8080/"
        },
        "id": "qJmm2D1FEtC2",
        "outputId": "af36944a-d976-42b7-a3ab-8b2300424cea"
      },
      "source": [
        "list1=[[\"Rohan\",30,25000,\"Dehradun\"],[\"Mohit\",27,56000,\"Delhi\"]]\r\n",
        "list1"
      ],
      "execution_count": 37,
      "outputs": [
        {
          "output_type": "execute_result",
          "data": {
            "text/plain": [
              "[['Rohan', 30, 25000, 'Dehradun'], ['Mohit', 27, 56000, 'Delhi']]"
            ]
          },
          "metadata": {
            "tags": []
          },
          "execution_count": 37
        }
      ]
    },
    {
      "cell_type": "markdown",
      "metadata": {
        "id": "s3voNmiy-Gyr"
      },
      "source": [
        "We used a list comprehension here to grab the first element of every row in the matrix object. We will cover this in much more detail later on!\n",
        "\n",
        "For more advanced methods and features of lists in Python, check out the Advanced Lists section later on in this course!"
      ]
    },
    {
      "cell_type": "code",
      "metadata": {
        "colab": {
          "base_uri": "https://localhost:8080/"
        },
        "id": "vZIDf4RNE9re",
        "outputId": "39e1fa9a-c6a2-4775-a180-c2c713e413f2"
      },
      "source": [
        "sum=0\r\n",
        "for i in list1:\r\n",
        "  print(\"name=\",i[0],\"address=\",i[3],\"age=\",i[1])\r\n",
        "  sum=sum+i[2]\r\n",
        "print(\"total sal=\",sum)"
      ],
      "execution_count": 38,
      "outputs": [
        {
          "output_type": "stream",
          "text": [
            "name= Rohan address= Dehradun age= 30\n",
            "name= Mohit address= Delhi age= 27\n",
            "total sal= 81000\n"
          ],
          "name": "stdout"
        }
      ]
    },
    {
      "cell_type": "code",
      "metadata": {
        "colab": {
          "base_uri": "https://localhost:8080/"
        },
        "id": "xynJFo4tFir3",
        "outputId": "81c374c1-fa84-4f4f-fcd0-9920bbef6990"
      },
      "source": [
        "list2=[[\"Rohan\",30,25000,[\"H. No 25\",\"Prem Nagar\",\"Dehradun\",248001]],[\"Mohit\",27,56000,[\"H. No 31\",\"Ber Sarai\",\"Delhi\",256007]]]\r\n",
        "\r\n",
        "print(list2[1][3][3])\r\n",
        "list2[1][3][0]=\"H No. 679\"\r\n",
        "list2[1]"
      ],
      "execution_count": 47,
      "outputs": [
        {
          "output_type": "stream",
          "text": [
            "256007\n"
          ],
          "name": "stdout"
        },
        {
          "output_type": "execute_result",
          "data": {
            "text/plain": [
              "['Mohit', 27, 56000, ['H No. 679', 'Ber Sarai', 'Delhi', 256007]]"
            ]
          },
          "metadata": {
            "tags": []
          },
          "execution_count": 47
        }
      ]
    },
    {
      "cell_type": "code",
      "metadata": {
        "id": "4-320FdVGTKd"
      },
      "source": [
        ""
      ],
      "execution_count": 43,
      "outputs": []
    }
  ]
}