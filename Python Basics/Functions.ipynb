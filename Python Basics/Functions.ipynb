{
  "nbformat": 4,
  "nbformat_minor": 0,
  "metadata": {
    "kernelspec": {
      "display_name": "Python 3",
      "language": "python",
      "name": "python3"
    },
    "language_info": {
      "codemirror_mode": {
        "name": "ipython",
        "version": 3
      },
      "file_extension": ".py",
      "mimetype": "text/x-python",
      "name": "python",
      "nbconvert_exporter": "python",
      "pygments_lexer": "ipython3",
      "version": "3.6.6"
    },
    "colab": {
      "name": "Functions.ipynb",
      "provenance": [],
      "collapsed_sections": [],
      "toc_visible": true
    }
  },
  "cells": [
    {
      "cell_type": "markdown",
      "metadata": {
        "id": "2mKbhbTfzA2I"
      },
      "source": [
        "# Functions\n",
        "\n",
        "## Introduction to Functions\n",
        "\n",
        "This lecture will consist of explaining what a function is in Python and how to create one. Functions will be one of our main building blocks when we construct larger and larger amounts of code to solve problems.\n",
        "\n",
        "### What is a function?\n",
        "\n",
        "Formally, a function is a useful device that groups together a set of statements so they can be run more than once. They can also let us specify parameters that can serve as inputs to the functions.\n",
        "\n",
        "On a more fundamental level, functions allow us to not have to repeatedly write the same code again and again. If you remember back to the lessons on strings and lists, remember that we used a function len() to get the length of a string. Since checking the length of a sequence is a common task you would want to write a function that can do this repeatedly at command.\n",
        "\n",
        "Functions will be one of most basic levels of reusing code in Python, and it will also allow us to start thinking of program design (we will dive much deeper into the ideas of design when we learn about Object Oriented Programming)."
      ]
    },
    {
      "cell_type": "markdown",
      "metadata": {
        "id": "DkyD5pFXzA2K"
      },
      "source": [
        "### Why even use functions?\n",
        "\n",
        "Put simply, you should use functions when you plan on using a block of code multiple times. The function will allow you to call the same block of code without having to write it multiple times. This in turn will allow you to create more complex Python scripts. To really understand this though, we should actually write our own functions! "
      ]
    },
    {
      "cell_type": "markdown",
      "metadata": {
        "id": "-xShckxJzA2L"
      },
      "source": [
        "## Function Contents\n",
        "* def keyword\n",
        "* simple example of a function\n",
        "* calling a function with ()\n",
        "* accepting parameters\n",
        "* print versus return\n",
        "* adding in logic inside a function\n",
        "* multiple returns inside a function\n",
        "* adding in loops inside a function\n",
        "* tuple unpacking\n",
        "* interactions between functions"
      ]
    },
    {
      "cell_type": "markdown",
      "metadata": {
        "id": "qkPaC3YBzA2L"
      },
      "source": [
        "### def keyword\n",
        "\n",
        "Let's see how to build out a function's syntax in Python. It has the following form:"
      ]
    },
    {
      "cell_type": "code",
      "metadata": {
        "collapsed": true,
        "id": "if5q8a1JzA2M"
      },
      "source": [
        "def name_of_function(arg1,arg2):\n",
        "    '''\n",
        "    This is where the function's Document String (docstring) goes.\n",
        "    When you call help() on your function it will be printed out.\n",
        "    '''\n",
        "    # Do stuff here\n",
        "    # Return desired result"
      ],
      "execution_count": 1,
      "outputs": []
    },
    {
      "cell_type": "markdown",
      "metadata": {
        "id": "I5ioxP9mzA2N"
      },
      "source": [
        "We begin with <code>def</code> then a space followed by the name of the function. Try to keep names relevant, for example len() is a good name for a length() function. Also be careful with names, you wouldn't want to call a function the same name as a [built-in function in Python](https://docs.python.org/3/library/functions.html) (such as len).\n",
        "\n",
        "Next come a pair of parentheses with a number of arguments separated by a comma. These arguments are the inputs for your function. You'll be able to use these inputs in your function and reference them. After this you put a colon.\n",
        "\n",
        "Now here is the important step, you must indent to begin the code inside your function correctly. Python makes use of *whitespace* to organize code. Lots of other programing languages do not do this, so keep that in mind.\n",
        "\n",
        "Next you'll see the docstring, this is where you write a basic description of the function. Using Jupyter and Jupyter Notebooks, you'll be able to read these docstrings by pressing Shift+Tab after a function name. Docstrings are not necessary for simple functions, but it's good practice to put them in so you or other people can easily understand the code you write.\n",
        "\n",
        "After all this you begin writing the code you wish to execute.\n",
        "\n",
        "The best way to learn functions is by going through examples. So let's try to go through examples that relate back to the various objects and data structures we learned about before."
      ]
    },
    {
      "cell_type": "markdown",
      "metadata": {
        "id": "48EYiqdyzA2R"
      },
      "source": [
        "### Simple example of a function"
      ]
    },
    {
      "cell_type": "code",
      "metadata": {
        "collapsed": true,
        "id": "xnMi6zd4zA2S"
      },
      "source": [
        "def print_something(n):\n",
        "    print('Functions '*10)"
      ],
      "execution_count": 9,
      "outputs": []
    },
    {
      "cell_type": "markdown",
      "metadata": {
        "id": "3mPgWSfqzA2T"
      },
      "source": [
        "### Calling a function with ()"
      ]
    },
    {
      "cell_type": "markdown",
      "metadata": {
        "id": "vxGTxcilzA2T"
      },
      "source": [
        "Call the function:"
      ]
    },
    {
      "cell_type": "code",
      "metadata": {
        "colab": {
          "base_uri": "https://localhost:8080/"
        },
        "id": "Dw3zc5bYzA2U",
        "outputId": "105f7505-4703-4f6f-b4be-59fddab6c7f1"
      },
      "source": [
        "print_something(10)"
      ],
      "execution_count": 10,
      "outputs": [
        {
          "output_type": "stream",
          "text": [
            "Functions Functions Functions Functions Functions Functions Functions Functions Functions Functions \n"
          ],
          "name": "stdout"
        }
      ]
    },
    {
      "cell_type": "markdown",
      "metadata": {
        "id": "CK0BQiIkzA2X"
      },
      "source": [
        "If you forget the parenthesis (), it will simply display the fact that say_hello is a function. Later on we will learn we can actually pass in functions into other functions! But for now, simply remember to call functions with ()."
      ]
    },
    {
      "cell_type": "code",
      "metadata": {
        "colab": {
          "base_uri": "https://localhost:8080/"
        },
        "id": "IlbFPIdGzA2Y",
        "outputId": "01d9802e-1b8b-4380-c598-e60e1a6ff094"
      },
      "source": [
        "print_something"
      ],
      "execution_count": 11,
      "outputs": [
        {
          "output_type": "execute_result",
          "data": {
            "text/plain": [
              "<function __main__.print_something>"
            ]
          },
          "metadata": {
            "tags": []
          },
          "execution_count": 11
        }
      ]
    },
    {
      "cell_type": "markdown",
      "metadata": {
        "id": "3zB8x5ZRzA2Z"
      },
      "source": [
        "### Accepting parameters (arguments)\n",
        "Let's write a function that greets people with their name."
      ]
    },
    {
      "cell_type": "code",
      "metadata": {
        "collapsed": true,
        "id": "7NUxDiebzA2a"
      },
      "source": [
        "def greeting(name):\n",
        "    print(f'Hello {name}')"
      ],
      "execution_count": 12,
      "outputs": []
    },
    {
      "cell_type": "code",
      "metadata": {
        "colab": {
          "base_uri": "https://localhost:8080/"
        },
        "id": "biCv0z2ezA2a",
        "outputId": "a91733cc-61fb-4629-8d2e-e74c838a79b4"
      },
      "source": [
        "greeting('Jose')"
      ],
      "execution_count": 13,
      "outputs": [
        {
          "output_type": "stream",
          "text": [
            "Hello Jose\n"
          ],
          "name": "stdout"
        }
      ]
    },
    {
      "cell_type": "markdown",
      "metadata": {
        "id": "VgV5gGSDzA2b"
      },
      "source": [
        "## Using return\n",
        "So far we've only seen print() used, but if we actually want to save the resulting variable we need to use the **return** keyword.\n",
        "\n",
        "Let's see some example that use a <code>return</code> statement. <code>return</code> allows a function to *return* a result that can then be stored as a variable, or used in whatever manner a user wants.\n",
        "\n",
        "### Example: Addition function"
      ]
    },
    {
      "cell_type": "code",
      "metadata": {
        "collapsed": true,
        "id": "5SBsGFJGzA2c"
      },
      "source": [
        "def add_num(num1,num2):\n",
        "    return num1+num2"
      ],
      "execution_count": 14,
      "outputs": []
    },
    {
      "cell_type": "code",
      "metadata": {
        "colab": {
          "base_uri": "https://localhost:8080/"
        },
        "id": "iDVCMI9nzA2c",
        "outputId": "8328fa52-fa1e-463d-a245-7c4aeba1ae70"
      },
      "source": [
        "add_num(4,5)"
      ],
      "execution_count": 15,
      "outputs": [
        {
          "output_type": "execute_result",
          "data": {
            "text/plain": [
              "9"
            ]
          },
          "metadata": {
            "tags": []
          },
          "execution_count": 15
        }
      ]
    },
    {
      "cell_type": "code",
      "metadata": {
        "collapsed": true,
        "id": "cm1Ew7THzA2c"
      },
      "source": [
        "# Can also save as variable due to return\n",
        "result = add_num(4,5)"
      ],
      "execution_count": 16,
      "outputs": []
    },
    {
      "cell_type": "code",
      "metadata": {
        "id": "xDl1HbcKzA2d",
        "colab": {
          "base_uri": "https://localhost:8080/"
        },
        "outputId": "93634898-63ce-4eba-de71-1c88e8caba77"
      },
      "source": [
        "print(result)"
      ],
      "execution_count": 17,
      "outputs": [
        {
          "output_type": "stream",
          "text": [
            "9\n"
          ],
          "name": "stdout"
        }
      ]
    },
    {
      "cell_type": "markdown",
      "metadata": {
        "id": "HPJRYpI1zA2d"
      },
      "source": [
        "What happens if we input two strings?"
      ]
    },
    {
      "cell_type": "code",
      "metadata": {
        "colab": {
          "base_uri": "https://localhost:8080/",
          "height": 35
        },
        "id": "DbGXqxXQzA2e",
        "outputId": "277aa3e5-8413-4bf5-e10c-49c814bc6fea"
      },
      "source": [
        "add_num('one','two')"
      ],
      "execution_count": 18,
      "outputs": [
        {
          "output_type": "execute_result",
          "data": {
            "application/vnd.google.colaboratory.intrinsic+json": {
              "type": "string"
            },
            "text/plain": [
              "'onetwo'"
            ]
          },
          "metadata": {
            "tags": []
          },
          "execution_count": 18
        }
      ]
    },
    {
      "cell_type": "markdown",
      "metadata": {
        "id": "U4qNkSnzzA2e"
      },
      "source": [
        "## Very Common Question: \"What is the difference between *return* and *print*?\"\n",
        "\n",
        "**The return keyword allows you to actually save the result of the output of a function as a variable. The print() function simply displays the output to you, but doesn't save it for future use. Let's explore this in more detail**"
      ]
    },
    {
      "cell_type": "code",
      "metadata": {
        "collapsed": true,
        "id": "ZDPRPE9kzA2f"
      },
      "source": [
        "def print_result(a,b):\n",
        "    print(a+b)"
      ],
      "execution_count": 21,
      "outputs": []
    },
    {
      "cell_type": "code",
      "metadata": {
        "collapsed": true,
        "id": "ItAZt5C2zA2f"
      },
      "source": [
        "def return_result(a,b):\n",
        "    return a+b"
      ],
      "execution_count": 22,
      "outputs": []
    },
    {
      "cell_type": "code",
      "metadata": {
        "colab": {
          "base_uri": "https://localhost:8080/"
        },
        "id": "vw8AXSZNzA2g",
        "outputId": "23e01e1c-72f8-42fa-83fa-8005fcc991c6"
      },
      "source": [
        "print_result(10,5)"
      ],
      "execution_count": 23,
      "outputs": [
        {
          "output_type": "stream",
          "text": [
            "15\n"
          ],
          "name": "stdout"
        }
      ]
    },
    {
      "cell_type": "code",
      "metadata": {
        "colab": {
          "base_uri": "https://localhost:8080/"
        },
        "id": "3IE31G5UiKrv",
        "outputId": "9a30ed5b-cc8a-43f9-ac7e-e04f4df2792e"
      },
      "source": [
        "return_result(5,10)"
      ],
      "execution_count": 26,
      "outputs": [
        {
          "output_type": "execute_result",
          "data": {
            "text/plain": [
              "15"
            ]
          },
          "metadata": {
            "tags": []
          },
          "execution_count": 26
        }
      ]
    },
    {
      "cell_type": "code",
      "metadata": {
        "id": "kePZynNDzA2g"
      },
      "source": [
        "# You won't see any output if you run this in a .py scriptreturn_result(10,5)\n"
      ],
      "execution_count": 24,
      "outputs": []
    },
    {
      "cell_type": "markdown",
      "metadata": {
        "id": "3ntLzveTzA2h"
      },
      "source": [
        "**But what happens if we actually want to save this result for later use?**"
      ]
    },
    {
      "cell_type": "code",
      "metadata": {
        "colab": {
          "base_uri": "https://localhost:8080/"
        },
        "id": "dTTli1InzA2h",
        "outputId": "5e7cc25c-c4ac-48bf-b28e-9f4cc50a1268"
      },
      "source": [
        "my_result = print_result(20,20)"
      ],
      "execution_count": 36,
      "outputs": [
        {
          "output_type": "stream",
          "text": [
            "40\n"
          ],
          "name": "stdout"
        }
      ]
    },
    {
      "cell_type": "code",
      "metadata": {
        "collapsed": true,
        "id": "Y31FUFWrzA2h"
      },
      "source": [
        "my_result"
      ],
      "execution_count": 37,
      "outputs": []
    },
    {
      "cell_type": "code",
      "metadata": {
        "colab": {
          "base_uri": "https://localhost:8080/"
        },
        "id": "ke6BZc3FzA2i",
        "outputId": "77250516-f73c-4e23-cf46-df4af4216d87"
      },
      "source": [
        "type(my_result)"
      ],
      "execution_count": 38,
      "outputs": [
        {
          "output_type": "execute_result",
          "data": {
            "text/plain": [
              "NoneType"
            ]
          },
          "metadata": {
            "tags": []
          },
          "execution_count": 38
        }
      ]
    },
    {
      "cell_type": "markdown",
      "metadata": {
        "id": "Sz8iV-OhzA2i"
      },
      "source": [
        "**Be careful! Notice how print_result() doesn't let you actually save the result to a variable! It only prints it out, with print() returning None for the assignment!**"
      ]
    },
    {
      "cell_type": "code",
      "metadata": {
        "collapsed": true,
        "id": "zND_1nULzA2j"
      },
      "source": [
        "my_result = return_result(20,10)"
      ],
      "execution_count": 39,
      "outputs": []
    },
    {
      "cell_type": "code",
      "metadata": {
        "id": "776O9LCVzA2j",
        "colab": {
          "base_uri": "https://localhost:8080/"
        },
        "outputId": "ae2087c8-9ae3-4ab9-c2b6-6d9a269bebe2"
      },
      "source": [
        "my_result"
      ],
      "execution_count": 40,
      "outputs": [
        {
          "output_type": "execute_result",
          "data": {
            "text/plain": [
              "30"
            ]
          },
          "metadata": {
            "tags": []
          },
          "execution_count": 40
        }
      ]
    },
    {
      "cell_type": "code",
      "metadata": {
        "id": "x6X0DnXRzA2k",
        "colab": {
          "base_uri": "https://localhost:8080/"
        },
        "outputId": "e3e14743-cdb3-4763-ea89-587b33df18c9"
      },
      "source": [
        "my_result + my_result"
      ],
      "execution_count": 41,
      "outputs": [
        {
          "output_type": "execute_result",
          "data": {
            "text/plain": [
              "60"
            ]
          },
          "metadata": {
            "tags": []
          },
          "execution_count": 41
        }
      ]
    },
    {
      "cell_type": "markdown",
      "metadata": {
        "id": "x_EiF1zDzA2k"
      },
      "source": [
        "# Adding Logic to Internal Function Operations\n",
        "\n",
        "So far we know quite a bit about constructing logical statements with Python, such as if/else/elif statements, for and while loops, checking if an item is **in** a list or **not in** a list (Useful Operators Lecture). Let's now see how we can perform these operations within a function."
      ]
    },
    {
      "cell_type": "markdown",
      "metadata": {
        "id": "hqynFTMSzA2k"
      },
      "source": [
        "### Check if a number is even "
      ]
    },
    {
      "cell_type": "markdown",
      "metadata": {
        "id": "YHEmvqM1zA2l"
      },
      "source": [
        "**Recall the mod operator % which returns the remainder after division, if a number is even then mod 2 (% 2) should be == to zero.**"
      ]
    },
    {
      "cell_type": "code",
      "metadata": {
        "id": "TDo19DN8zA2l",
        "colab": {
          "base_uri": "https://localhost:8080/"
        },
        "outputId": "ad1ab698-9ba4-44e4-b34d-a73307449bf1"
      },
      "source": [
        "2 % 2"
      ],
      "execution_count": 42,
      "outputs": [
        {
          "output_type": "execute_result",
          "data": {
            "text/plain": [
              "0"
            ]
          },
          "metadata": {
            "tags": []
          },
          "execution_count": 42
        }
      ]
    },
    {
      "cell_type": "code",
      "metadata": {
        "id": "wExL0qThzA2m",
        "colab": {
          "base_uri": "https://localhost:8080/"
        },
        "outputId": "cbfd60b0-cc54-49f4-b2e9-231cfe3a78df"
      },
      "source": [
        "20 % 2"
      ],
      "execution_count": 43,
      "outputs": [
        {
          "output_type": "execute_result",
          "data": {
            "text/plain": [
              "0"
            ]
          },
          "metadata": {
            "tags": []
          },
          "execution_count": 43
        }
      ]
    },
    {
      "cell_type": "code",
      "metadata": {
        "id": "SfTKej_UzA2m",
        "colab": {
          "base_uri": "https://localhost:8080/"
        },
        "outputId": "286fef79-8148-474c-9259-4090afcaefb8"
      },
      "source": [
        "21 % 2"
      ],
      "execution_count": 44,
      "outputs": [
        {
          "output_type": "execute_result",
          "data": {
            "text/plain": [
              "1"
            ]
          },
          "metadata": {
            "tags": []
          },
          "execution_count": 44
        }
      ]
    },
    {
      "cell_type": "code",
      "metadata": {
        "id": "d6ovr4ZDzA2n",
        "colab": {
          "base_uri": "https://localhost:8080/"
        },
        "outputId": "963136fc-27b7-4282-8404-b1ed4610b022"
      },
      "source": [
        "20 % 2 == 0"
      ],
      "execution_count": 45,
      "outputs": [
        {
          "output_type": "execute_result",
          "data": {
            "text/plain": [
              "True"
            ]
          },
          "metadata": {
            "tags": []
          },
          "execution_count": 45
        }
      ]
    },
    {
      "cell_type": "code",
      "metadata": {
        "id": "e_HLXinKzA2n",
        "colab": {
          "base_uri": "https://localhost:8080/"
        },
        "outputId": "ee326564-a8e2-44cf-c835-f90fc554a5e0"
      },
      "source": [
        "21 % 2 == 0"
      ],
      "execution_count": 46,
      "outputs": [
        {
          "output_type": "execute_result",
          "data": {
            "text/plain": [
              "False"
            ]
          },
          "metadata": {
            "tags": []
          },
          "execution_count": 46
        }
      ]
    },
    {
      "cell_type": "markdown",
      "metadata": {
        "id": "mX--ESWizA2o"
      },
      "source": [
        "** Let's use this to construct a function. Notice how we simply return the boolean check.**"
      ]
    },
    {
      "cell_type": "code",
      "metadata": {
        "collapsed": true,
        "id": "9CzNaLsizA2p"
      },
      "source": [
        "def even_check(number):\n",
        "    return number % 2 == 0"
      ],
      "execution_count": 47,
      "outputs": []
    },
    {
      "cell_type": "code",
      "metadata": {
        "id": "aCPwoGBuzA2p",
        "colab": {
          "base_uri": "https://localhost:8080/"
        },
        "outputId": "db444197-33b7-487f-8077-8ac19a3b0b38"
      },
      "source": [
        "even_check(20)"
      ],
      "execution_count": 48,
      "outputs": [
        {
          "output_type": "execute_result",
          "data": {
            "text/plain": [
              "True"
            ]
          },
          "metadata": {
            "tags": []
          },
          "execution_count": 48
        }
      ]
    },
    {
      "cell_type": "code",
      "metadata": {
        "id": "JsyDhO4izA2q",
        "colab": {
          "base_uri": "https://localhost:8080/"
        },
        "outputId": "0ce09ad2-892b-4e48-e435-e38286ed81c9"
      },
      "source": [
        "even_check(21)"
      ],
      "execution_count": 49,
      "outputs": [
        {
          "output_type": "execute_result",
          "data": {
            "text/plain": [
              "False"
            ]
          },
          "metadata": {
            "tags": []
          },
          "execution_count": 49
        }
      ]
    },
    {
      "cell_type": "markdown",
      "metadata": {
        "id": "F_Mv-JdDzA2q"
      },
      "source": [
        "### Check if any number in  a list is even\n",
        "\n",
        "Let's return a boolean indicating if **any** number in a list is even. Notice here how **return** breaks out of the loop and exits the function"
      ]
    },
    {
      "cell_type": "code",
      "metadata": {
        "collapsed": true,
        "id": "hBnHpn37zA2q"
      },
      "source": [
        "def check_even_list(num_list):\n",
        "    # Go through each number\n",
        "    for number in num_list:\n",
        "        # Once we get a \"hit\" on an even number, we return True\n",
        "        if number % 2 == 0:\n",
        "            return True\n",
        "        # Otherwise we don't do anything\n",
        "        else:\n",
        "            pass"
      ],
      "execution_count": 50,
      "outputs": []
    },
    {
      "cell_type": "markdown",
      "metadata": {
        "id": "I3Sw-gYqzA2r"
      },
      "source": [
        "** Is this enough? NO! We're not returning anything if they are all odds!**"
      ]
    },
    {
      "cell_type": "code",
      "metadata": {
        "id": "rFYHAiBZzA2r",
        "colab": {
          "base_uri": "https://localhost:8080/"
        },
        "outputId": "fb4dd901-2ee4-4780-f237-ddb116d33c83"
      },
      "source": [
        "check_even_list([1,2,3])"
      ],
      "execution_count": 51,
      "outputs": [
        {
          "output_type": "execute_result",
          "data": {
            "text/plain": [
              "True"
            ]
          },
          "metadata": {
            "tags": []
          },
          "execution_count": 51
        }
      ]
    },
    {
      "cell_type": "code",
      "metadata": {
        "collapsed": true,
        "id": "D7wUyoVazA2s"
      },
      "source": [
        "check_even_list([1,1,1])"
      ],
      "execution_count": 52,
      "outputs": []
    },
    {
      "cell_type": "markdown",
      "metadata": {
        "id": "ONzzyGhszA2s"
      },
      "source": [
        "**VERY COMMON MISTAKE!! LET'S SEE A COMMON LOGIC ERROR, NOTE THIS IS WRONG!!!**"
      ]
    },
    {
      "cell_type": "code",
      "metadata": {
        "collapsed": true,
        "id": "hzvktDMSzA2s"
      },
      "source": [
        "def check_even_list(num_list):\n",
        "    # Go through each number\n",
        "    for number in num_list:\n",
        "        # Once we get a \"hit\" on an even number, we return True\n",
        "        if number % 2 == 0:\n",
        "            return True\n",
        "        # This is WRONG! This returns False at the very first odd number!\n",
        "        # It doesn't end up checking the other numbers in the list!\n",
        "        else:\n",
        "            return False"
      ],
      "execution_count": 55,
      "outputs": []
    },
    {
      "cell_type": "code",
      "metadata": {
        "id": "c9ZM9Ue-zA2t",
        "colab": {
          "base_uri": "https://localhost:8080/"
        },
        "outputId": "d0e379c8-6a6a-45ac-9d83-0b6eef1dd792"
      },
      "source": [
        "# UH OH! It is returning False after hitting the first 1\n",
        "check_even_list([1,2,3])"
      ],
      "execution_count": 56,
      "outputs": [
        {
          "output_type": "execute_result",
          "data": {
            "text/plain": [
              "False"
            ]
          },
          "metadata": {
            "tags": []
          },
          "execution_count": 56
        }
      ]
    },
    {
      "cell_type": "markdown",
      "metadata": {
        "id": "35oicM1hzA2u"
      },
      "source": [
        "**Correct Approach: We need to initiate a return False AFTER running through the entire loop**"
      ]
    },
    {
      "cell_type": "code",
      "metadata": {
        "collapsed": true,
        "id": "zlGBUx-szA2v"
      },
      "source": [
        "def check_even_list(num_list):\n",
        "    # Go through each number\n",
        "    for number in num_list:\n",
        "        # Once we get a \"hit\" on an even number, we return True\n",
        "        if number % 2 == 0:\n",
        "            return True\n",
        "        # Don't do anything if its not even\n",
        "        else:\n",
        "            pass\n",
        "    # Notice the indentation! This ensures we run through the entire for loop    \n",
        "    return False"
      ],
      "execution_count": 58,
      "outputs": []
    },
    {
      "cell_type": "code",
      "metadata": {
        "id": "D2vFfZl7zA2v",
        "colab": {
          "base_uri": "https://localhost:8080/"
        },
        "outputId": "50293cda-7b07-4a90-af0d-e5591377133b"
      },
      "source": [
        "check_even_list([1,2,3])"
      ],
      "execution_count": 59,
      "outputs": [
        {
          "output_type": "execute_result",
          "data": {
            "text/plain": [
              "True"
            ]
          },
          "metadata": {
            "tags": []
          },
          "execution_count": 59
        }
      ]
    },
    {
      "cell_type": "code",
      "metadata": {
        "id": "5sjesfc0zA2w",
        "colab": {
          "base_uri": "https://localhost:8080/"
        },
        "outputId": "ec4d9bfa-e124-4960-bb80-8c629757b37f"
      },
      "source": [
        "check_even_list([1,3,5])"
      ],
      "execution_count": 60,
      "outputs": [
        {
          "output_type": "execute_result",
          "data": {
            "text/plain": [
              "False"
            ]
          },
          "metadata": {
            "tags": []
          },
          "execution_count": 60
        }
      ]
    },
    {
      "cell_type": "markdown",
      "metadata": {
        "id": "oe6LslIuzA2x"
      },
      "source": [
        "### Return all even numbers in a list\n",
        "\n",
        "Let's add more complexity, we now will return all the even numbers in a list, otherwise return an empty list."
      ]
    },
    {
      "cell_type": "code",
      "metadata": {
        "collapsed": true,
        "id": "Gc09JgiGzA2y"
      },
      "source": [
        "def check_even_list(num_list):\n",
        "    \n",
        "    even_numbers = []\n",
        "    \n",
        "    # Go through each number\n",
        "    for number in num_list:\n",
        "        # Once we get a \"hit\" on an even number, we append the even number\n",
        "        if number % 2 == 0:\n",
        "            even_numbers.append(number)\n",
        "        # Don't do anything if its not even\n",
        "        else:\n",
        "            pass\n",
        "    # Notice the indentation! This ensures we run through the entire for loop    \n",
        "    return even_numbers"
      ],
      "execution_count": 61,
      "outputs": []
    },
    {
      "cell_type": "code",
      "metadata": {
        "id": "OxfnV3WazA2y",
        "colab": {
          "base_uri": "https://localhost:8080/"
        },
        "outputId": "3d336c6c-7069-4ec4-f5a1-5ef72c499b91"
      },
      "source": [
        "check_even_list([1,2,3,4,5,6])"
      ],
      "execution_count": 62,
      "outputs": [
        {
          "output_type": "execute_result",
          "data": {
            "text/plain": [
              "[2, 4, 6]"
            ]
          },
          "metadata": {
            "tags": []
          },
          "execution_count": 62
        }
      ]
    },
    {
      "cell_type": "code",
      "metadata": {
        "id": "mZCa8xybzA2z",
        "colab": {
          "base_uri": "https://localhost:8080/"
        },
        "outputId": "0c3d447a-26bc-4d9f-ccfc-fef20adb1008"
      },
      "source": [
        "check_even_list([1,3,5])"
      ],
      "execution_count": 63,
      "outputs": [
        {
          "output_type": "execute_result",
          "data": {
            "text/plain": [
              "[]"
            ]
          },
          "metadata": {
            "tags": []
          },
          "execution_count": 63
        }
      ]
    },
    {
      "cell_type": "markdown",
      "metadata": {
        "id": "uVt9wcrfzA20"
      },
      "source": [
        "## Returning Tuples for Unpacking"
      ]
    },
    {
      "cell_type": "markdown",
      "metadata": {
        "id": "beqBvR6yzA21"
      },
      "source": [
        "**Recall we can loop through a list of tuples and \"unpack\" the values within them**"
      ]
    },
    {
      "cell_type": "code",
      "metadata": {
        "collapsed": true,
        "id": "zSpCyDVRzA21"
      },
      "source": [
        "stock_prices = [('AAPL',200),('GOOG',300),('MSFT',400)]"
      ],
      "execution_count": 65,
      "outputs": []
    },
    {
      "cell_type": "code",
      "metadata": {
        "colab": {
          "base_uri": "https://localhost:8080/"
        },
        "id": "fKIrewJwzA22",
        "outputId": "4254ea51-d98d-433d-e129-c823d2b3f79e"
      },
      "source": [
        "for item in stock_prices:\n",
        "    print(item)"
      ],
      "execution_count": 66,
      "outputs": [
        {
          "output_type": "stream",
          "text": [
            "('AAPL', 200)\n",
            "('GOOG', 300)\n",
            "('MSFT', 400)\n"
          ],
          "name": "stdout"
        }
      ]
    },
    {
      "cell_type": "code",
      "metadata": {
        "colab": {
          "base_uri": "https://localhost:8080/"
        },
        "id": "cTQSH3iLzA23",
        "outputId": "31fb41fa-8a68-4df9-fe34-63206719f502"
      },
      "source": [
        "for stock,price in stock_prices:\n",
        "    print(stock)"
      ],
      "execution_count": 67,
      "outputs": [
        {
          "output_type": "stream",
          "text": [
            "AAPL\n",
            "GOOG\n",
            "MSFT\n"
          ],
          "name": "stdout"
        }
      ]
    },
    {
      "cell_type": "code",
      "metadata": {
        "id": "qQHob4s3zA24",
        "colab": {
          "base_uri": "https://localhost:8080/"
        },
        "outputId": "1d92863a-8124-40f8-80e0-50747b7128f9"
      },
      "source": [
        "for stock,price in stock_prices:\n",
        "    print(price)"
      ],
      "execution_count": 68,
      "outputs": [
        {
          "output_type": "stream",
          "text": [
            "200\n",
            "300\n",
            "400\n"
          ],
          "name": "stdout"
        }
      ]
    },
    {
      "cell_type": "markdown",
      "metadata": {
        "id": "mgydOaWKzA24"
      },
      "source": [
        "**Similarly, functions often return tuples, to easily return multiple results for later use.**"
      ]
    },
    {
      "cell_type": "markdown",
      "metadata": {
        "id": "2vaWjegqzA25"
      },
      "source": [
        "Let's imagine the following list:"
      ]
    },
    {
      "cell_type": "code",
      "metadata": {
        "collapsed": true,
        "id": "qN39ErWAzA28"
      },
      "source": [
        "work_hours = [('beby',100),('ly',400),('lassie',800)]"
      ],
      "execution_count": 71,
      "outputs": []
    },
    {
      "cell_type": "markdown",
      "metadata": {
        "id": "FKlBGrHOzA29"
      },
      "source": [
        "The employee of the month function will return both the name and number of hours worked for the top performer (judged by number of hours worked)."
      ]
    },
    {
      "cell_type": "code",
      "metadata": {
        "collapsed": true,
        "id": "xkWQ9KdczA29"
      },
      "source": [
        "def employee_check(work_hours):\n",
        "    \n",
        "    # Set some max value to intially beat, like zero hours\n",
        "    current_max = 0\n",
        "    # Set some empty value before the loop\n",
        "    employee_of_month = ''\n",
        "    \n",
        "    for employee,hours in work_hours:\n",
        "        if hours > current_max:\n",
        "            current_max = hours\n",
        "            employee_of_month = employee\n",
        "        else:\n",
        "            pass\n",
        "    \n",
        "    # Notice the indentation here\n",
        "    return (employee_of_month,current_max)"
      ],
      "execution_count": 72,
      "outputs": []
    },
    {
      "cell_type": "code",
      "metadata": {
        "id": "y5obL0LAzA2-",
        "colab": {
          "base_uri": "https://localhost:8080/"
        },
        "outputId": "19e92c6e-1d47-48eb-96cc-1736f988fb15"
      },
      "source": [
        "employee_check(work_hours)"
      ],
      "execution_count": 73,
      "outputs": [
        {
          "output_type": "execute_result",
          "data": {
            "text/plain": [
              "('lassie', 800)"
            ]
          },
          "metadata": {
            "tags": []
          },
          "execution_count": 73
        }
      ]
    },
    {
      "cell_type": "markdown",
      "metadata": {
        "id": "6FCQTI1izA2-"
      },
      "source": [
        "## Interactions between functions\n",
        "\n",
        "Functions often use results from other functions, let's see a simple example through a guessing game. There will be 3 positions in the list, one of which is an 'O', a function will shuffle the list, another will take a player's guess, and finally another will check to see if it is correct. This is based on the classic carnival game of guessing which cup a red ball is under."
      ]
    },
    {
      "cell_type": "markdown",
      "metadata": {
        "id": "5-_0jW27zA2_"
      },
      "source": [
        "**How to shuffle a list in Python**"
      ]
    },
    {
      "cell_type": "code",
      "metadata": {
        "collapsed": true,
        "id": "3_vXOhwczA2_"
      },
      "source": [
        "example = [1,2,3,4,5]"
      ],
      "execution_count": 74,
      "outputs": []
    },
    {
      "cell_type": "code",
      "metadata": {
        "collapsed": true,
        "id": "PRqUy_-5zA2_"
      },
      "source": [
        "from random import shuffle"
      ],
      "execution_count": 75,
      "outputs": []
    },
    {
      "cell_type": "code",
      "metadata": {
        "collapsed": true,
        "id": "4EmfZm2TzA3A"
      },
      "source": [
        "# Note shuffle is in-place\n",
        "shuffle(example)"
      ],
      "execution_count": 76,
      "outputs": []
    },
    {
      "cell_type": "code",
      "metadata": {
        "id": "VBKma2x5zA3A",
        "colab": {
          "base_uri": "https://localhost:8080/"
        },
        "outputId": "c4021a56-741b-4049-8194-4905dd646829"
      },
      "source": [
        "example"
      ],
      "execution_count": 77,
      "outputs": [
        {
          "output_type": "execute_result",
          "data": {
            "text/plain": [
              "[2, 1, 5, 3, 4]"
            ]
          },
          "metadata": {
            "tags": []
          },
          "execution_count": 77
        }
      ]
    },
    {
      "cell_type": "markdown",
      "metadata": {
        "id": "ULB--6qgzA3C"
      },
      "source": [
        "**OK, let's create our simple game**"
      ]
    },
    {
      "cell_type": "code",
      "metadata": {
        "collapsed": true,
        "id": "xw6VljPdzA3C"
      },
      "source": [
        "mylist = [' ','O',' ']"
      ],
      "execution_count": 78,
      "outputs": []
    },
    {
      "cell_type": "code",
      "metadata": {
        "collapsed": true,
        "id": "jXQqkbVpzA3D"
      },
      "source": [
        "def shuffle_list(mylist):\n",
        "    # Take in list, and returned shuffle versioned\n",
        "    shuffle(mylist)\n",
        "    \n",
        "    return mylist"
      ],
      "execution_count": 79,
      "outputs": []
    },
    {
      "cell_type": "code",
      "metadata": {
        "id": "wZJYqhWMzA3E",
        "colab": {
          "base_uri": "https://localhost:8080/"
        },
        "outputId": "0933139f-61bd-46da-8b2a-7e754f85dadb"
      },
      "source": [
        "mylist "
      ],
      "execution_count": 80,
      "outputs": [
        {
          "output_type": "execute_result",
          "data": {
            "text/plain": [
              "[' ', 'O', ' ']"
            ]
          },
          "metadata": {
            "tags": []
          },
          "execution_count": 80
        }
      ]
    },
    {
      "cell_type": "code",
      "metadata": {
        "id": "g6r-yLiUzA3E",
        "colab": {
          "base_uri": "https://localhost:8080/"
        },
        "outputId": "2f7023a3-18d4-4a91-a09b-3fb3dcb3ef12"
      },
      "source": [
        "shuffle_list(mylist)"
      ],
      "execution_count": 81,
      "outputs": [
        {
          "output_type": "execute_result",
          "data": {
            "text/plain": [
              "['O', ' ', ' ']"
            ]
          },
          "metadata": {
            "tags": []
          },
          "execution_count": 81
        }
      ]
    },
    {
      "cell_type": "code",
      "metadata": {
        "collapsed": true,
        "id": "Qq6YnmnJzA3F"
      },
      "source": [
        "def player_guess():\n",
        "    \n",
        "    guess = ''\n",
        "    \n",
        "    while guess not in ['0','1','2']:\n",
        "        \n",
        "        # Recall input() returns a string\n",
        "        guess = input(\"Pick a number: 0, 1, or 2:  \")\n",
        "    \n",
        "    return int(guess)    "
      ],
      "execution_count": 82,
      "outputs": []
    },
    {
      "cell_type": "code",
      "metadata": {
        "id": "-UuJjGchzA3G",
        "colab": {
          "base_uri": "https://localhost:8080/"
        },
        "outputId": "fbf350b3-7bc3-4b16-e3ca-4f95d58b7226"
      },
      "source": [
        "player_guess()"
      ],
      "execution_count": 85,
      "outputs": [
        {
          "output_type": "stream",
          "text": [
            "Pick a number: 0, 1, or 2:  0\n"
          ],
          "name": "stdout"
        },
        {
          "output_type": "execute_result",
          "data": {
            "text/plain": [
              "0"
            ]
          },
          "metadata": {
            "tags": []
          },
          "execution_count": 85
        }
      ]
    },
    {
      "cell_type": "markdown",
      "metadata": {
        "id": "cWGVqRzIzA3G"
      },
      "source": [
        "Now we will check the user's guess. Notice we only print here, since we have no need to save a user's guess or the shuffled list."
      ]
    },
    {
      "cell_type": "code",
      "metadata": {
        "collapsed": true,
        "id": "aL4lbJOozA3G"
      },
      "source": [
        "def check_guess(mylist,guess):\n",
        "    if mylist[guess] == 'O':\n",
        "        print('Correct Guess!')\n",
        "    else:\n",
        "        print('Wrong! Better luck next time')\n",
        "        print(mylist)"
      ],
      "execution_count": 86,
      "outputs": []
    },
    {
      "cell_type": "markdown",
      "metadata": {
        "id": "L8X8VbvGzA3H"
      },
      "source": [
        "Now we create a little setup logic to run all the functions. Notice how they interact with each other!"
      ]
    },
    {
      "cell_type": "code",
      "metadata": {
        "id": "vYWaoGklzA3H",
        "colab": {
          "base_uri": "https://localhost:8080/"
        },
        "outputId": "dfac50a2-4fab-4a7c-e71a-56454a50a446"
      },
      "source": [
        "# Initial List\n",
        "mylist = [' ','O',' ']\n",
        "\n",
        "# Shuffle It\n",
        "mixedup_list = shuffle_list(mylist)\n",
        "\n",
        "# Get User's Guess\n",
        "guess = player_guess()\n",
        "\n",
        "# Check User's Guess\n",
        "#------------------------\n",
        "# Notice how this function takes in the input \n",
        "# based on the output of other functions!\n",
        "check_guess(mixedup_list,guess)"
      ],
      "execution_count": 87,
      "outputs": [
        {
          "output_type": "stream",
          "text": [
            "Pick a number: 0, 1, or 2:  2\n",
            "Wrong! Better luck next time\n",
            "[' ', 'O', ' ']\n"
          ],
          "name": "stdout"
        }
      ]
    },
    {
      "cell_type": "markdown",
      "metadata": {
        "id": "QTM0M4aczA3H"
      },
      "source": [
        "Great! You should now have a basic understanding of creating your own functions to save yourself from repeatedly writing code!"
      ]
    },
    {
      "cell_type": "code",
      "metadata": {
        "colab": {
          "base_uri": "https://localhost:8080/"
        },
        "id": "cSFEIjdvDv8w",
        "outputId": "f6a214f5-10bf-49b0-a9ad-4aa84e6b6641"
      },
      "source": [
        "#default value arguements\r\n",
        "#order change\r\n",
        "#variable length arg -> tuple\r\n",
        "\r\n",
        "def fun(arg1,arg2):\r\n",
        "  print(arg1,arg2)\r\n",
        "\r\n",
        "fun(10,\"Hello\")\r\n"
      ],
      "execution_count": 88,
      "outputs": [
        {
          "output_type": "stream",
          "text": [
            "10 Hello\n"
          ],
          "name": "stdout"
        }
      ]
    },
    {
      "cell_type": "code",
      "metadata": {
        "colab": {
          "base_uri": "https://localhost:8080/"
        },
        "id": "KXlGlTvHfHyI",
        "outputId": "32d61389-5c94-475c-8b3c-1445468dd8e5"
      },
      "source": [
        "def fun(arg1,arg2,*f):\r\n",
        "  print(arg1,arg2)\r\n",
        "  for i in f:\r\n",
        "    print(i)\r\n",
        "\r\n",
        "fun(10,20,40,50,70)\r\n",
        "\r\n"
      ],
      "execution_count": 91,
      "outputs": [
        {
          "output_type": "stream",
          "text": [
            "10 20\n",
            "40\n",
            "50\n",
            "70\n"
          ],
          "name": "stdout"
        }
      ]
    },
    {
      "cell_type": "code",
      "metadata": {
        "colab": {
          "base_uri": "https://localhost:8080/"
        },
        "id": "-NUbXZgzA2hj",
        "outputId": "4c6840f9-4d61-4d89-c373-cdb50f36029b"
      },
      "source": [
        "#default value arguements\r\n",
        "#order change\r\n",
        "#variable length arg -> tuple\r\n",
        "\r\n",
        "def fun(a1,a2,*f):\r\n",
        "  f=set(f)\r\n",
        "  print(a1,a2,f)\r\n",
        "\r\n",
        "#fun(20)\r\n",
        "#fun(a2=\"Function\",a1=34)\r\n",
        "#fun()\r\n",
        "\r\n",
        "fun(10,20,40,50,70,90,120)\r\n",
        "fun(99,77)\r\n",
        "#fun(101)"
      ],
      "execution_count": 95,
      "outputs": [
        {
          "output_type": "stream",
          "text": [
            "10 20 {70, 40, 50, 120, 90}\n",
            "99 77 set()\n"
          ],
          "name": "stdout"
        }
      ]
    },
    {
      "cell_type": "code",
      "metadata": {
        "id": "PA0pOchokeiQ"
      },
      "source": [
        ""
      ],
      "execution_count": null,
      "outputs": []
    }
  ]
}